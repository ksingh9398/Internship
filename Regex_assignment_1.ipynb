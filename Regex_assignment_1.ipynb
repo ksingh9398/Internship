{
 "cells": [
  {
   "cell_type": "markdown",
   "id": "b1299793",
   "metadata": {},
   "source": [
    "Question 1-Write a Python program to replace all occurrences of a space, comma, or dot with a colon."
   ]
  },
  {
   "cell_type": "code",
   "execution_count": 44,
   "id": "afdcd4e9",
   "metadata": {},
   "outputs": [
    {
     "name": "stdout",
     "output_type": "stream",
     "text": [
      "Python:Exercises::PHP:exercises:\n"
     ]
    }
   ],
   "source": [
    "import re\n",
    "Sample_Text='Python Exercises, PHP exercises.'\n",
    "result_string = Sample_Text.replace(' ', ':').replace(',', ':').replace('.', ':')\n",
    "print(result_string)"
   ]
  },
  {
   "cell_type": "code",
   "execution_count": null,
   "id": "0515eec1",
   "metadata": {},
   "outputs": [],
   "source": []
  },
  {
   "cell_type": "markdown",
   "id": "646cbd6e",
   "metadata": {},
   "source": [
    "Question 2-  Write a Python program to find all words starting with 'a' or 'e' in a given string."
   ]
  },
  {
   "cell_type": "code",
   "execution_count": 45,
   "id": "620f6d56",
   "metadata": {},
   "outputs": [],
   "source": [
    "text=\"On August 15th 1947 that India was declared independent from British colonialism, and the reins of control were handed over to the leaders of the Country end aed\""
   ]
  },
  {
   "cell_type": "code",
   "execution_count": 46,
   "id": "b7685c05",
   "metadata": {},
   "outputs": [
    {
     "name": "stdout",
     "output_type": "stream",
     "text": [
      "['August', 'and', 'end', 'aed']\n"
     ]
    }
   ],
   "source": [
    "pattern = r'\\b[aeAE]\\w*\\b'\n",
    "match=re.findall(pattern,text)\n",
    "print(match)"
   ]
  },
  {
   "cell_type": "code",
   "execution_count": null,
   "id": "8f761717",
   "metadata": {},
   "outputs": [],
   "source": []
  },
  {
   "cell_type": "markdown",
   "id": "5f0bcfbe",
   "metadata": {},
   "source": [
    "Question 3- Create a function in python to find all words that are at least 4 characters long in a string.The use of the re.compile() method is mandatory."
   ]
  },
  {
   "cell_type": "code",
   "execution_count": 47,
   "id": "8b3cea87",
   "metadata": {},
   "outputs": [
    {
     "name": "stdout",
     "output_type": "stream",
     "text": [
      "['Augu', '15th', '1947', 'that', 'Indi', 'decl', 'ared', 'inde', 'pend', 'from', 'Brit', 'colo', 'nial', 'rein', 'cont', 'were', 'hand', 'over', 'lead', 'Coun']\n"
     ]
    }
   ],
   "source": [
    "text=\"On August 15th 1947 that India was declared independent from British colonialism, and the reins of control were handed over to the leaders of the Country end aed\"\n",
    "m=re.compile(r'\\w{4}')\n",
    "print(re.findall(m,text))"
   ]
  },
  {
   "cell_type": "code",
   "execution_count": null,
   "id": "3e3892c8",
   "metadata": {},
   "outputs": [],
   "source": []
  },
  {
   "cell_type": "markdown",
   "id": "ce864870",
   "metadata": {},
   "source": [
    "Question 4-Create a function in python to find all three, four, and five character words in a string. The use of the re.compile() method is mandatory."
   ]
  },
  {
   "cell_type": "code",
   "execution_count": 48,
   "id": "35503121",
   "metadata": {},
   "outputs": [
    {
     "name": "stdout",
     "output_type": "stream",
     "text": [
      "['15th', '1947', 'that', 'India', 'was', 'from', 'and', 'the', 'reins', 'were', 'over', 'the', 'the', 'end', 'aed']\n"
     ]
    }
   ],
   "source": [
    "text=\"On August 15th 1947 that India was declared independent from British colonialism, and the reins of control were handed over to the leaders of the Country end aed\"\n",
    "pattern = re.compile(r'\\b\\w{3,5}\\b')\n",
    "print(re.findall(pattern,text))"
   ]
  },
  {
   "cell_type": "code",
   "execution_count": 49,
   "id": "0b595a87",
   "metadata": {},
   "outputs": [
    {
     "name": "stdout",
     "output_type": "stream",
     "text": [
      "['Johan', 'has', 'marks', 'Lisa', 'has', 'marks', 'David', 'has', 'marks']\n"
     ]
    }
   ],
   "source": [
    "b= \"\"\"Johan has scored 89 45646546 marks \n",
    "Lisa has scored 90 marks\n",
    "David has scored 70 marks\"\"\"\n",
    "p=re.compile(r'\\b\\w{3,5}\\b')\n",
    "print(re.findall(p,b))"
   ]
  },
  {
   "cell_type": "code",
   "execution_count": null,
   "id": "7569b6e8",
   "metadata": {},
   "outputs": [],
   "source": []
  },
  {
   "cell_type": "markdown",
   "id": "dcf7ddb4",
   "metadata": {},
   "source": [
    "Question 5- Create a function in Python to remove the parenthesis in a list of strings.The use of the re.compile() method is mandatory."
   ]
  },
  {
   "cell_type": "code",
   "execution_count": null,
   "id": "ddd59b22",
   "metadata": {},
   "outputs": [],
   "source": []
  },
  {
   "cell_type": "markdown",
   "id": "1c5eae77",
   "metadata": {},
   "source": [
    "Question 6- Write a python program to remove the parenthesis area from the text stored in the text file using Regular Expression."
   ]
  },
  {
   "cell_type": "code",
   "execution_count": 50,
   "id": "5774ac86",
   "metadata": {},
   "outputs": [
    {
     "name": "stdout",
     "output_type": "stream",
     "text": [
      "example \n",
      "navinjee9398 \n",
      "github \n",
      "Hello \n",
      "Data \n"
     ]
    }
   ],
   "source": [
    "Sample_Text=[\"example (.com)\", \"navinjee9398 (.com)\", \"github (.com)\", \"Hello (Data Science World)\", \"Data (Scientist)\"]\n",
    "\n",
    "def list(string):\n",
    "    pattern = re.compile(r'\\([^)]*\\)')\n",
    "    result_list = []\n",
    "    \n",
    "    for s in string:\n",
    "        modified_string = pattern.sub('', s)\n",
    "        result_list.append(modified_string)\n",
    "    \n",
    "    return result_list\n",
    "\n",
    "result_list =list(Sample_Text)\n",
    "\n",
    "for modified_string in result_list:\n",
    "    print(modified_string)\n"
   ]
  },
  {
   "cell_type": "code",
   "execution_count": null,
   "id": "0cd4240e",
   "metadata": {},
   "outputs": [],
   "source": []
  },
  {
   "cell_type": "markdown",
   "id": "c2c523b6",
   "metadata": {},
   "source": [
    "Question 7-Write a regular expression in Python to split a string into uppercase letters."
   ]
  },
  {
   "cell_type": "code",
   "execution_count": 51,
   "id": "077cf570",
   "metadata": {},
   "outputs": [
    {
     "name": "stdout",
     "output_type": "stream",
     "text": [
      "['Importance', 'Of', 'Regular', 'Expressions', 'In', 'Python']\n"
     ]
    }
   ],
   "source": [
    "Sample_Text = \"ImportanceOfRegularExpressionsInPython\"\n",
    "new = re.findall(r'[A-Z][a-z]*', Sample_Text)\n",
    "print(new)"
   ]
  },
  {
   "cell_type": "code",
   "execution_count": null,
   "id": "dbe33bfb",
   "metadata": {},
   "outputs": [],
   "source": []
  },
  {
   "cell_type": "markdown",
   "id": "98274434",
   "metadata": {},
   "source": [
    "Question 8- Create a function in python to insert spaces between words starting with numbers."
   ]
  },
  {
   "cell_type": "code",
   "execution_count": 52,
   "id": "32dbd227",
   "metadata": {},
   "outputs": [
    {
     "name": "stdout",
     "output_type": "stream",
     "text": [
      "RegularExpression1 IsAn2 ImportantTopic3 InPython\n"
     ]
    }
   ],
   "source": [
    "def word(input_string):\n",
    "    pattern = re.compile(r'(?<=[0-9])(?=[A-Z])')\n",
    "    \n",
    "    modified_string = pattern.sub(' ', input_string)\n",
    "    \n",
    "    return modified_string\n",
    "\n",
    "input_text = \"RegularExpression1IsAn2ImportantTopic3InPython\"\n",
    "\n",
    "output_text = word(input_text)\n",
    "\n",
    "print(output_text)"
   ]
  },
  {
   "cell_type": "code",
   "execution_count": null,
   "id": "fe64d36e",
   "metadata": {},
   "outputs": [],
   "source": []
  },
  {
   "cell_type": "markdown",
   "id": "f0fd8e23",
   "metadata": {},
   "source": [
    "Question 9- Create a function in python to insert spaces between words starting with capital letters or with numbers."
   ]
  },
  {
   "cell_type": "code",
   "execution_count": 53,
   "id": "5fc0b476",
   "metadata": {},
   "outputs": [
    {
     "name": "stdout",
     "output_type": "stream",
     "text": [
      "Regular Expression 1 Is An 2 Important Topic 3 In Python\n"
     ]
    }
   ],
   "source": [
    "def insert(input_string):\n",
    "\n",
    "    pattern = re.compile(r'([A-Z0-9][a-z]*)')\n",
    "    \n",
    "\n",
    "    modified_string = ' '.join(pattern.findall(input_string))\n",
    "    \n",
    "    return modified_string\n",
    "\n",
    "input_text = \"RegularExpression1IsAn2ImportantTopic3InPython\"\n",
    "\n",
    "output_text = insert(input_text)\n",
    "\n",
    "print(output_text)"
   ]
  },
  {
   "cell_type": "code",
   "execution_count": null,
   "id": "68daa16d",
   "metadata": {},
   "outputs": [],
   "source": []
  },
  {
   "cell_type": "markdown",
   "id": "a8d5a259",
   "metadata": {},
   "source": [
    "Question 10- Write a python program to extract email address from the text stored in the text file using Regular Expression."
   ]
  },
  {
   "cell_type": "code",
   "execution_count": 54,
   "id": "4dbbb341",
   "metadata": {},
   "outputs": [],
   "source": [
    "Sample_Text=\"Hello my name is Data Science and my email address is xyz@domain.com and alternate email address is xyz.abc@sdomain.domain.com. hr@fliprobo.com\""
   ]
  },
  {
   "cell_type": "code",
   "execution_count": 55,
   "id": "05cda873",
   "metadata": {},
   "outputs": [
    {
     "name": "stdout",
     "output_type": "stream",
     "text": [
      "['xyz@domain.com', 'xyz.abc@sdomain.domain.com.', 'hr@fliprobo.com']\n"
     ]
    }
   ],
   "source": [
    "print(re.findall('[\\w._%]{0,20}@[\\w-].[A-Za-z]{2,3}.[\\w.]+',Sample_Text))"
   ]
  },
  {
   "cell_type": "code",
   "execution_count": null,
   "id": "da9316eb",
   "metadata": {},
   "outputs": [],
   "source": []
  },
  {
   "cell_type": "markdown",
   "id": "45887f62",
   "metadata": {},
   "source": [
    "Question 11- Write a Python program to match a string that contains only upper and lowercase letters, numbers, and underscores."
   ]
  },
  {
   "cell_type": "code",
   "execution_count": 56,
   "id": "5b0db177",
   "metadata": {},
   "outputs": [
    {
     "name": "stdout",
     "output_type": "stream",
     "text": [
      "['My', '', 'name_is', '', 'navin_kumar_singh', '', 'and', '', 'i', '', 'wont', '', 'to', '', 'become', '', 'a', '', 'prefect', '', 'data', '', 'SCIENTIST', '', 'my', '', 'dob', '', 'is', '', '09', '', 'MARCH', '']\n"
     ]
    }
   ],
   "source": [
    "na=\"\"\"My name_is navin_kumar_singh and i wont to become a prefect data SCIENTIST my dob is 09 MARCH\"\"\"\n",
    "# na=\"My name is navin kumar singh and i wont to become a prefect data scientist\"\n",
    "match=re.findall(r'[\\d_A-Za-z]*',na)\n",
    "print(match)"
   ]
  },
  {
   "cell_type": "code",
   "execution_count": null,
   "id": "ed233e17",
   "metadata": {},
   "outputs": [],
   "source": []
  },
  {
   "cell_type": "markdown",
   "id": "6259c2e3",
   "metadata": {},
   "source": [
    "Question 12- Write a Python program where a string will start with a specific number. "
   ]
  },
  {
   "cell_type": "code",
   "execution_count": 57,
   "id": "c7f09aaa",
   "metadata": {},
   "outputs": [
    {
     "name": "stdout",
     "output_type": "stream",
     "text": [
      "<re.Match object; span=(0, 1), match='0'>\n"
     ]
    }
   ],
   "source": [
    "na=\"\"\"09 march is my birthday & My name_is navin_kumar_singh and i wont to become a prefect data SCIENTIST \"\"\"\n",
    "match=re.search(r'^[0-9]',na)\n",
    "print(match)"
   ]
  },
  {
   "cell_type": "code",
   "execution_count": null,
   "id": "5abbf6c0",
   "metadata": {},
   "outputs": [],
   "source": []
  },
  {
   "cell_type": "markdown",
   "id": "0633a030",
   "metadata": {},
   "source": [
    "Question 13- Write a Python program to remove leading zeros from an IP address"
   ]
  },
  {
   "cell_type": "code",
   "execution_count": 58,
   "id": "43deea50",
   "metadata": {},
   "outputs": [
    {
     "name": "stdout",
     "output_type": "stream",
     "text": [
      "192.168.001.001 010.002.003.004 192.168.001.001 010.002.003.004 001.000.000.001 255.000.100.001 008.007.006.005 010.010.010.010\n",
      "new ip address 192.168.1.1 10.2.3.4 192.168.1.1 10.2.3.4 1.0.0.1 255.0.100.1 8.7.6.5 10.10.10.10\n"
     ]
    }
   ],
   "source": [
    "ip =\"192.168.001.001 010.002.003.004 192.168.001.001 010.002.003.004 001.000.000.001 255.000.100.001 008.007.006.005 010.010.010.010\"\n",
    "pattern=re.sub(r'\\b0+(\\d+)\\b', r'\\1',ip)\n",
    "print(ip)\n",
    "print('new ip address',pattern)"
   ]
  },
  {
   "cell_type": "code",
   "execution_count": null,
   "id": "e58ff568",
   "metadata": {},
   "outputs": [],
   "source": []
  },
  {
   "cell_type": "markdown",
   "id": "de0c1d01",
   "metadata": {},
   "source": [
    "Question 14- Write a regular expression in python to match a date string in the form of Month name followed by day number and year stored in a text file."
   ]
  },
  {
   "cell_type": "code",
   "execution_count": 59,
   "id": "d890c389",
   "metadata": {},
   "outputs": [
    {
     "name": "stdout",
     "output_type": "stream",
     "text": [
      "['August 15th 1947']\n"
     ]
    }
   ],
   "source": [
    "text = 'On August 15th 1947 that India was declared independent from British colonialism, and the reins of control were handed over to the leaders of the Country.'\n",
    "date_pattern = r'\\b(?:January|February|March|April|May|June|July|August|September|October|November|December)\\s+\\d{1,2}(?:st|nd|rd|th)?\\s+\\d{4}\\b'\n",
    "matches = re.findall(date_pattern, text)\n",
    "print(matches)"
   ]
  },
  {
   "cell_type": "code",
   "execution_count": null,
   "id": "1011e858",
   "metadata": {},
   "outputs": [],
   "source": []
  },
  {
   "cell_type": "markdown",
   "id": "1d0401cd",
   "metadata": {},
   "source": [
    "Question 15- Write a Python program to search some literals strings in a string. "
   ]
  },
  {
   "cell_type": "code",
   "execution_count": 60,
   "id": "9f768789",
   "metadata": {},
   "outputs": [
    {
     "name": "stdout",
     "output_type": "stream",
     "text": [
      "{'fox'}\n",
      "{'dog'}\n",
      "{'horse'}\n"
     ]
    }
   ],
   "source": [
    "sample_text = 'The quick brown fox jumps over the lazy dog.'\n",
    "\n",
    "search_words = ['fox', 'dog', 'horse']\n",
    "\n",
    "for word in search_words:\n",
    "    if word in sample_text:\n",
    "        print({word})\n",
    "    else:\n",
    "        print({word})"
   ]
  },
  {
   "cell_type": "code",
   "execution_count": null,
   "id": "744f8948",
   "metadata": {},
   "outputs": [],
   "source": []
  },
  {
   "cell_type": "markdown",
   "id": "34d37847",
   "metadata": {},
   "source": [
    "Question 16- Write a Python program to search a literals string in a string and also find the location within the original string where the pattern occurs"
   ]
  },
  {
   "cell_type": "code",
   "execution_count": 61,
   "id": "1939ce1a",
   "metadata": {},
   "outputs": [],
   "source": [
    "Sample_text ='The quick brown fox jumps over the lazy dog.'"
   ]
  },
  {
   "cell_type": "code",
   "execution_count": 62,
   "id": "725539c2",
   "metadata": {},
   "outputs": [
    {
     "name": "stdout",
     "output_type": "stream",
     "text": [
      "['fox']\n",
      "<re.Match object; span=(16, 19), match='fox'>\n"
     ]
    }
   ],
   "source": [
    "match=re.findall(r'fox',Sample_text)\n",
    "print(match)\n",
    "print(re.search(r'fox',Sample_text))"
   ]
  },
  {
   "cell_type": "code",
   "execution_count": null,
   "id": "46b2cd42",
   "metadata": {},
   "outputs": [],
   "source": []
  },
  {
   "cell_type": "markdown",
   "id": "52054fc4",
   "metadata": {},
   "source": [
    "Question 17- Write a Python program to find the substrings within a string."
   ]
  },
  {
   "cell_type": "code",
   "execution_count": 63,
   "id": "17ebaa4f",
   "metadata": {},
   "outputs": [
    {
     "name": "stdout",
     "output_type": "stream",
     "text": [
      "Positions of 'exercises' in the text: [(7, 16), (22, 31), (36, 45)]\n"
     ]
    }
   ],
   "source": [
    "text = 'Python exercises, PHP exercises, C# exercises'\n",
    "\n",
    "substring = 'exercises'\n",
    "\n",
    "matches = [match.span() for match in re.finditer(substring, text)]\n",
    "\n",
    "print(f\"Positions of '{substring}' in the text: {matches}\")"
   ]
  },
  {
   "cell_type": "code",
   "execution_count": null,
   "id": "2740affa",
   "metadata": {},
   "outputs": [],
   "source": []
  },
  {
   "cell_type": "markdown",
   "id": "6175ad95",
   "metadata": {},
   "source": [
    "Question 18- Write a Python program to find the occurrence and position of the substrings within a string."
   ]
  },
  {
   "cell_type": "code",
   "execution_count": 64,
   "id": "6d1fbea1",
   "metadata": {},
   "outputs": [
    {
     "name": "stdout",
     "output_type": "stream",
     "text": [
      "Occurrences of 'exercises' in the text: 3\n",
      "Positions of 'exercises' in the text: [7, 22, 36]\n"
     ]
    }
   ],
   "source": [
    "text = 'Python exercises, PHP exercises, C# exercises'\n",
    "substring = 'exercises'\n",
    "\n",
    "positions = []\n",
    "\n",
    "start = text.find(substring)\n",
    "\n",
    "while start != -1:\n",
    "    positions.append(start)\n",
    "    start = text.find(substring, start + 1)\n",
    "\n",
    "occurrences = len(positions)\n",
    "\n",
    "print(f\"Occurrences of '{substring}' in the text: {occurrences}\")\n",
    "print(f\"Positions of '{substring}' in the text: {positions}\")"
   ]
  },
  {
   "cell_type": "code",
   "execution_count": null,
   "id": "4ea4509f",
   "metadata": {},
   "outputs": [],
   "source": []
  },
  {
   "cell_type": "markdown",
   "id": "09ffa6f2",
   "metadata": {},
   "source": [
    "Question 19- Write a Python program to convert a date of yyyy-mm-dd format to dd-mm-yyyy format."
   ]
  },
  {
   "cell_type": "code",
   "execution_count": 65,
   "id": "f6fc523d",
   "metadata": {},
   "outputs": [
    {
     "name": "stdout",
     "output_type": "stream",
     "text": [
      "Original Date: 2023-10-19\n",
      "Converted Date: 19-10-2023\n"
     ]
    }
   ],
   "source": [
    "from datetime import datetime\n",
    "\n",
    "def format(input_date):\n",
    "    input_date_obj = datetime.strptime(input_date, '%Y-%m-%d')\n",
    "\n",
    "    output = input_date_obj.strftime('%d-%m-%Y')\n",
    "\n",
    "    return output\n",
    "\n",
    "\n",
    "input_date = '2023-10-19'\n",
    "\n",
    "output = format(input_date)\n",
    "\n",
    "print(f\"Original Date: {input_date}\")\n",
    "print(f\"Converted Date: {output}\")"
   ]
  },
  {
   "cell_type": "code",
   "execution_count": null,
   "id": "dcee39ea",
   "metadata": {},
   "outputs": [],
   "source": []
  },
  {
   "cell_type": "markdown",
   "id": "d6509fcb",
   "metadata": {},
   "source": [
    "Question 20- Create a function in python to find all decimal numbers with a precision of 1 or 2 in a string.The use of the re.compile() method is mandatory."
   ]
  },
  {
   "cell_type": "code",
   "execution_count": 66,
   "id": "a308171a",
   "metadata": {},
   "outputs": [
    {
     "name": "stdout",
     "output_type": "stream",
     "text": [
      "['01.12', '145.8', '3.01', '27.25', '0.25']\n"
     ]
    }
   ],
   "source": [
    "sample_text = \"01.12 0132.123 2.31875 145.8 3.01 27.25 0.25\"\n",
    "pattern = re.compile(r'\\b\\d+\\.\\d{1,2}\\b')\n",
    "result=re.findall(pattern,sample_text)\n",
    "print(result)"
   ]
  },
  {
   "cell_type": "code",
   "execution_count": null,
   "id": "f0230671",
   "metadata": {},
   "outputs": [],
   "source": []
  },
  {
   "cell_type": "markdown",
   "id": "a4ae0227",
   "metadata": {},
   "source": [
    "Question 21- Write a Python program to separate and print the numbers and their position of a given string."
   ]
  },
  {
   "cell_type": "code",
   "execution_count": 67,
   "id": "62ad7bc2",
   "metadata": {},
   "outputs": [
    {
     "name": "stdout",
     "output_type": "stream",
     "text": [
      "['15', '1947', '76']\n",
      "<re.Match object; span=(10, 12), match='15'>\n"
     ]
    }
   ],
   "source": [
    "text ='On August 15th 1947 that India was declared independent from British colonialism, and the reins of control were handed over to the leaders of the Country, and now India was celebrated 76th Independance Day'\n",
    "match=re.findall(r'\\d+',text)\n",
    "position=re.search(r'\\d+',text)\n",
    "print(match)\n",
    "print(position)"
   ]
  },
  {
   "cell_type": "code",
   "execution_count": null,
   "id": "dc9afb23",
   "metadata": {},
   "outputs": [],
   "source": []
  },
  {
   "cell_type": "markdown",
   "id": "d111aa1e",
   "metadata": {},
   "source": [
    "Question 22- Write a regular expression in python program to extract maximum/largest numeric value from a string."
   ]
  },
  {
   "cell_type": "code",
   "execution_count": 68,
   "id": "1b488173",
   "metadata": {},
   "outputs": [],
   "source": [
    "Sample_Text= 'My marks in each semester are: 947, 896, 926, 524, 734, 950, 642'"
   ]
  },
  {
   "cell_type": "code",
   "execution_count": 69,
   "id": "f9b954df",
   "metadata": {},
   "outputs": [
    {
     "name": "stdout",
     "output_type": "stream",
     "text": [
      "maximum/largest number :  950\n"
     ]
    }
   ],
   "source": [
    "def max_number():\n",
    "    Sample_Text= 'My marks in each semester are: 947, 896, 926, 524, 734, 950, 642'\n",
    "    numeric = re.findall(r'\\d+', Sample_Text)\n",
    "    if numeric :\n",
    "        max_n=max(map(int,numeric))\n",
    "        print('maximum/largest number : ',max_n)\n",
    "    else:\n",
    "        print(None)\n",
    "max_number()"
   ]
  },
  {
   "cell_type": "code",
   "execution_count": null,
   "id": "82e542d0",
   "metadata": {},
   "outputs": [],
   "source": []
  },
  {
   "cell_type": "markdown",
   "id": "23f0dd71",
   "metadata": {},
   "source": [
    "Question 23- Create a function in python to insert spaces between words starting with capital letters."
   ]
  },
  {
   "cell_type": "code",
   "execution_count": 70,
   "id": "f59b4578",
   "metadata": {},
   "outputs": [],
   "source": [
    "Sample_Text= \"RegularExpressionIsAnImportantTopicInPython\""
   ]
  },
  {
   "cell_type": "code",
   "execution_count": 71,
   "id": "cc79f4a7",
   "metadata": {},
   "outputs": [
    {
     "name": "stdout",
     "output_type": "stream",
     "text": [
      "Regular Expression Is An Important Topic In Python\n"
     ]
    }
   ],
   "source": [
    "def word():\n",
    "    Sample_Text= \"RegularExpressionIsAnImportantTopicInPython\"\n",
    "    words= re.findall(r'[A-Z][a-z]*', Sample_Text)\n",
    "    spaced = ' '.join(words)\n",
    "    print(spaced)\n",
    "word()"
   ]
  },
  {
   "cell_type": "code",
   "execution_count": null,
   "id": "46ed4949",
   "metadata": {},
   "outputs": [],
   "source": []
  },
  {
   "cell_type": "markdown",
   "id": "a568eb26",
   "metadata": {},
   "source": [
    "Question 24-Python regex to find sequences of one upper case letter followed by lower case letters"
   ]
  },
  {
   "cell_type": "code",
   "execution_count": 72,
   "id": "69b65c77",
   "metadata": {},
   "outputs": [
    {
     "name": "stdout",
     "output_type": "stream",
     "text": [
      "['Regular', 'Expression', 'Is', 'An', 'Important', 'Topic', 'In', 'Python']\n"
     ]
    }
   ],
   "source": [
    "Sample_Text=\"RegularExpressionIsAnImportantTopicInPython\"\n",
    "pattern = re.compile(r'[A-Z][a-z]+')\n",
    "result=re.findall(pattern,Sample_Text)\n",
    "print(result)"
   ]
  },
  {
   "cell_type": "code",
   "execution_count": 73,
   "id": "482248f4",
   "metadata": {},
   "outputs": [
    {
     "name": "stdout",
     "output_type": "stream",
     "text": [
      "['rE', 'nI', 'sA', 'nI', 'tT', 'cI', 'nP']\n"
     ]
    }
   ],
   "source": [
    "Sample_Text=\"RegularExpressionIsAnImportantTopicInPython\"\n",
    "pattern = re.compile(r'[a-z][A-Z]+')\n",
    "result=re.findall(pattern,Sample_Text)\n",
    "print(result)"
   ]
  },
  {
   "cell_type": "code",
   "execution_count": null,
   "id": "fe1138e5",
   "metadata": {},
   "outputs": [],
   "source": []
  },
  {
   "cell_type": "markdown",
   "id": "9e685146",
   "metadata": {},
   "source": [
    "Question 25-Write a Python program to remove continuous duplicate words from Sentence using Regular Expression."
   ]
  },
  {
   "cell_type": "code",
   "execution_count": 74,
   "id": "490dc3b0",
   "metadata": {},
   "outputs": [
    {
     "name": "stdout",
     "output_type": "stream",
     "text": [
      "Hello hello world\n"
     ]
    }
   ],
   "source": [
    "Sample_Text=\"Hello hello world world\"\n",
    "pattern = r'\\b(\\w+)\\b\\s+\\1'\n",
    "x=re.sub(pattern, r'\\1',Sample_Text)\n",
    "print(x)"
   ]
  },
  {
   "cell_type": "code",
   "execution_count": null,
   "id": "816db516",
   "metadata": {},
   "outputs": [],
   "source": []
  },
  {
   "cell_type": "markdown",
   "id": "17d42473",
   "metadata": {},
   "source": [
    "Question 26- Write a python program using RegEx to accept string ending with alphanumeric character."
   ]
  },
  {
   "cell_type": "code",
   "execution_count": 75,
   "id": "5851c7ed",
   "metadata": {},
   "outputs": [
    {
     "name": "stdout",
     "output_type": "stream",
     "text": [
      "'Hello123' is not valid.\n",
      "'12345' is not valid.\n",
      "'Special@' is not valid.\n",
      "'Test String9' is not valid.\n"
     ]
    }
   ],
   "source": [
    "strings = [\"Hello123\", \"12345\", \"Special@\", \"Test String9\"]\n",
    "pattern = re.compile(r'^.*[a-zA-Z0-9]$')\n",
    "\n",
    "for string in strings:\n",
    "    if string==True:\n",
    "#     if is_valid_string(string):\n",
    "\n",
    "        print(f\"'{string}' is valid.\")\n",
    "    else:\n",
    "        print(f\"'{string}' is not valid.\")"
   ]
  },
  {
   "cell_type": "code",
   "execution_count": null,
   "id": "0fd0d553",
   "metadata": {},
   "outputs": [],
   "source": []
  },
  {
   "cell_type": "markdown",
   "id": "fd1739b2",
   "metadata": {},
   "source": [
    "Question 27-Write a python program using RegEx to extract the hashtags."
   ]
  },
  {
   "cell_type": "code",
   "execution_count": 76,
   "id": "09414399",
   "metadata": {},
   "outputs": [],
   "source": [
    "Sample_Text= \"\"\"RT @kapil_kausik: #Doltiwal I mean #xyzabc is \"hurt\" by #Demonetization as the same has rendered USELESS <ed><U+00A0><U+00BD><ed><U+00B1><U+0089> \"acquired funds\" No wo\"\"\"\n"
   ]
  },
  {
   "cell_type": "code",
   "execution_count": 77,
   "id": "bd1c8a18",
   "metadata": {},
   "outputs": [
    {
     "name": "stdout",
     "output_type": "stream",
     "text": [
      "['#Doltiwal', '#xyzabc', '#Demonetization']\n"
     ]
    }
   ],
   "source": [
    "def word():\n",
    "    pattern=re.compile(r'#\\w+')\n",
    "    match=re.findall(pattern,Sample_Text)\n",
    "    print(match)\n",
    "word()"
   ]
  },
  {
   "cell_type": "code",
   "execution_count": null,
   "id": "e6c518ac",
   "metadata": {},
   "outputs": [],
   "source": []
  },
  {
   "cell_type": "markdown",
   "id": "2cdeab7b",
   "metadata": {},
   "source": [
    "Question 28- Write a python program using RegEx to remove <U+..> like symbols\n",
    "Check the below sample text, there are strange symbols something of the sort <U+..> all over the place. You need to come up with a general Regex expression that will cover all such symbols.\n"
   ]
  },
  {
   "cell_type": "code",
   "execution_count": 78,
   "id": "e318323b",
   "metadata": {},
   "outputs": [
    {
     "name": "stdout",
     "output_type": "stream",
     "text": [
      "@Jags123456 Bharat band on 28??<ed><ed>Those who  are protesting #demonetization  are all different party leaders\n"
     ]
    }
   ],
   "source": [
    "def word():\n",
    "    Sample_Text= \"@Jags123456 Bharat band on 28??<ed><U+00A0><U+00BD><ed><U+00B8><U+0082>Those who  are protesting #demonetization  are all different party leaders\"\n",
    "    pattern = re.compile(r'<U\\+[0-9A-Fa-f]+>')\n",
    "    new_text = pattern.sub('', Sample_Text)\n",
    "    print(new_text)\n",
    "word()"
   ]
  },
  {
   "cell_type": "code",
   "execution_count": null,
   "id": "a6113ac5",
   "metadata": {},
   "outputs": [],
   "source": []
  },
  {
   "cell_type": "markdown",
   "id": "1af201ca",
   "metadata": {},
   "source": [
    "Question 29- Write a python program to extract dates from the text stored in the text file."
   ]
  },
  {
   "cell_type": "code",
   "execution_count": 79,
   "id": "55e30908",
   "metadata": {},
   "outputs": [],
   "source": [
    "Sample_Text=\"Ron was born on 12-09-1992 and he was admitted to school 15-12-1999.\""
   ]
  },
  {
   "cell_type": "code",
   "execution_count": 80,
   "id": "e596ca1c",
   "metadata": {},
   "outputs": [
    {
     "name": "stdout",
     "output_type": "stream",
     "text": [
      "Dates found in the text:\n",
      "only date :  ['12-09-1992', '15-12-1999']\n"
     ]
    }
   ],
   "source": [
    "def date():\n",
    "    pattern = re.compile(r'\\d{1,2}[-/]\\d{1,2}[-/]\\d{4}')\n",
    "    \n",
    "    extracted = pattern.findall(Sample_Text)\n",
    "    print(\"Dates found in the text:\")\n",
    "    print('only date : ',extracted)\n",
    "date()"
   ]
  },
  {
   "cell_type": "code",
   "execution_count": null,
   "id": "ec581a40",
   "metadata": {},
   "outputs": [],
   "source": []
  },
  {
   "cell_type": "markdown",
   "id": "944f0c64",
   "metadata": {},
   "source": [
    "Question 30-Create a function inpython to remove all words from a string of length between 2 and 4.\n",
    "The use of the re.compile() method is mandatory.\n"
   ]
  },
  {
   "cell_type": "code",
   "execution_count": 81,
   "id": "bf22d3d0",
   "metadata": {},
   "outputs": [
    {
     "name": "stdout",
     "output_type": "stream",
     "text": [
      "(' following example creates  ArrayList  a capacity   elements. 4 elements   added   ArrayList   ArrayList  trimmed accordingly.', 'The following example creates an ArrayList with a capacity of 50 elements. 4 elements are then added to the ArrayList and the ArrayList is trimmed accordingly.')\n"
     ]
    }
   ],
   "source": [
    "def text():\n",
    "    sample_text = \"The following example creates an ArrayList with a capacity of 50 elements. 4 elements are then added to the ArrayList and the ArrayList is trimmed accordingly.\"\n",
    "    pattern = re.compile(r'\\b\\w{2,4}\\b')\n",
    "    cleaned_text = pattern.sub('',sample_text)\n",
    "    result=(cleaned_text,sample_text)\n",
    "    print(result)\n",
    "text()"
   ]
  },
  {
   "cell_type": "code",
   "execution_count": null,
   "id": "a880a6db",
   "metadata": {},
   "outputs": [],
   "source": []
  }
 ],
 "metadata": {
  "kernelspec": {
   "display_name": "Python 3 (ipykernel)",
   "language": "python",
   "name": "python3"
  },
  "language_info": {
   "codemirror_mode": {
    "name": "ipython",
    "version": 3
   },
   "file_extension": ".py",
   "mimetype": "text/x-python",
   "name": "python",
   "nbconvert_exporter": "python",
   "pygments_lexer": "ipython3",
   "version": "3.10.12"
  }
 },
 "nbformat": 4,
 "nbformat_minor": 5
}
