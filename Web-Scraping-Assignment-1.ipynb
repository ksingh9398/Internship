{
 "cells": [
  {
   "cell_type": "markdown",
   "id": "aedeefb9",
   "metadata": {},
   "source": [
    "# Date - 23/10/2023"
   ]
  },
  {
   "cell_type": "markdown",
   "id": "89d7a8bd",
   "metadata": {},
   "source": [
    "# 1) Write a python program to display all the header tags from wikipedia.org and make data frame."
   ]
  },
  {
   "cell_type": "code",
   "execution_count": 1,
   "id": "51d6480d",
   "metadata": {},
   "outputs": [],
   "source": [
    "import pandas as pd\n",
    "import bs4\n",
    "from bs4 import BeautifulSoup\n",
    "import requests"
   ]
  },
  {
   "cell_type": "code",
   "execution_count": 2,
   "id": "aa1c17fe",
   "metadata": {},
   "outputs": [],
   "source": [
    "url=\"https://en.wikipedia.org/wiki/Main_Page\""
   ]
  },
  {
   "cell_type": "code",
   "execution_count": 3,
   "id": "806cd056",
   "metadata": {},
   "outputs": [
    {
     "data": {
      "text/plain": [
       "<Response [200]>"
      ]
     },
     "execution_count": 3,
     "metadata": {},
     "output_type": "execute_result"
    }
   ],
   "source": [
    "page=requests.get(url)\n",
    "page"
   ]
  },
  {
   "cell_type": "code",
   "execution_count": 4,
   "id": "cd9e0e78",
   "metadata": {},
   "outputs": [],
   "source": [
    "soup=BeautifulSoup(page.text)"
   ]
  },
  {
   "cell_type": "code",
   "execution_count": 5,
   "id": "ecbde466",
   "metadata": {},
   "outputs": [],
   "source": [
    "# soup"
   ]
  },
  {
   "cell_type": "code",
   "execution_count": 6,
   "id": "9da1daa1",
   "metadata": {},
   "outputs": [
    {
     "data": {
      "text/plain": [
       "[<span class=\"mw-headline\" id=\"Welcome_to_Wikipedia\">Welcome to <a href=\"/wiki/Wikipedia\" title=\"Wikipedia\">Wikipedia</a></span>,\n",
       " <span class=\"mw-headline\" id=\"From_today's_featured_article\">From today's featured article</span>,\n",
       " <span class=\"mw-headline\" id=\"Did_you_know_...\">Did you know ...</span>,\n",
       " <span class=\"mw-headline\" id=\"In_the_news\">In the news</span>,\n",
       " <span class=\"mw-headline\" id=\"On_this_day\">On this day</span>,\n",
       " <span class=\"mw-headline\" id=\"From_today's_featured_list\">From today's featured list</span>,\n",
       " <span class=\"mw-headline\" id=\"Today's_featured_picture\">Today's featured picture</span>,\n",
       " <span class=\"mw-headline\" id=\"Other_areas_of_Wikipedia\">Other areas of Wikipedia</span>,\n",
       " <span class=\"mw-headline\" id=\"Wikipedia's_sister_projects\">Wikipedia's sister projects</span>,\n",
       " <span class=\"mw-headline\" id=\"Wikipedia_languages\">Wikipedia languages</span>]"
      ]
     },
     "execution_count": 6,
     "metadata": {},
     "output_type": "execute_result"
    }
   ],
   "source": [
    "header=soup.find_all('span',class_=\"mw-headline\")\n",
    "header"
   ]
  },
  {
   "cell_type": "code",
   "execution_count": 7,
   "id": "948ed07e",
   "metadata": {},
   "outputs": [
    {
     "name": "stdout",
     "output_type": "stream",
     "text": [
      "                          HEADER\n",
      "0           Welcome to Wikipedia\n",
      "1  From today's featured article\n",
      "2               Did you know ...\n",
      "3                    In the news\n",
      "4                    On this day\n",
      "5     From today's featured list\n",
      "6       Today's featured picture\n",
      "7       Other areas of Wikipedia\n",
      "8    Wikipedia's sister projects\n",
      "9            Wikipedia languages\n"
     ]
    }
   ],
   "source": [
    "header_text=[]\n",
    "for i in soup.find_all('span',class_=\"mw-headline\"):\n",
    "    header_text.append(i.text)\n",
    "    \n",
    "df=pd.DataFrame({'HEADER':header_text})\n",
    "print(df)"
   ]
  },
  {
   "cell_type": "code",
   "execution_count": null,
   "id": "5ef90b17",
   "metadata": {},
   "outputs": [],
   "source": []
  },
  {
   "cell_type": "markdown",
   "id": "ba4225a7",
   "metadata": {},
   "source": [
    "# 2) Write s python program to display list of respected former presidents of India(i.e. Name , Term ofoffice)\n",
    "from https://presidentofindia.nic.in/former-presidents.htm and make data frame."
   ]
  },
  {
   "attachments": {
    "wb.jpg": {
     "image/jpeg": "[encoded data removed]"
    }
   },
   "cell_type": "markdown",
   "id": "23fd7db0",
   "metadata": {},
   "source": [
    "THIS LINK IS NOT WORKING (PAGE NOT FOUND)\n",
    "![wb.jpg](attachment:wb.jpg)"
   ]
  },
  {
   "cell_type": "markdown",
   "id": "f220e3ec",
   "metadata": {},
   "source": [
    "# 3) Write a python program to scrape cricket rankings from icc-cricket.com. You have to scrape and make data frame\n",
    "(a)--> Top 10 ODI teams in men’s cricket along with the records for matches, points and rating."
   ]
  },
  {
   "cell_type": "code",
   "execution_count": 60,
   "id": "5d6e17a5",
   "metadata": {},
   "outputs": [
    {
     "name": "stdout",
     "output_type": "stream",
     "text": [
      "               Team Matches Points Rating\n",
      "0        India\\nIND      49  5,839    119\n",
      "1    Australia\\nAUS      36  4,015    112\n",
      "2     Pakistan\\nPAK      32  3,525    110\n",
      "3  South Africa\\nSA      29  3,166    109\n",
      "4   New Zealand\\nNZ      38  4,007    105\n",
      "5      England\\nENG      34  3,377     99\n",
      "6     Sri Lanka\\nSL      43  3,943     92\n",
      "7   Bangladesh\\nBAN      40  3,574     89\n",
      "8  Afghanistan\\nAFG      26  2,170     83\n",
      "9   West Indies\\nWI      38  2,582     68\n"
     ]
    }
   ],
   "source": [
    "url = 'https://www.icc-cricket.com/rankings/mens/team-rankings/odi'\n",
    "response = requests.get(url)\n",
    "soup = BeautifulSoup(response.content, 'html.parser')\n",
    "table = soup.find('table', {'class': 'table'})\n",
    "\n",
    "data = []\n",
    "for row in table.find_all('tr')[1:11]: \n",
    "    cols = row.find_all('td')\n",
    "    team = cols[1].text.strip()\n",
    "    matches = cols[2].text.strip()\n",
    "    points = cols[3].text.strip()\n",
    "    rating = cols[4].text.strip()\n",
    "    data.append([team, matches, points, rating])\n",
    "\n",
    "\n",
    "df = pd.DataFrame(data, columns=['Team', 'Matches', 'Points', 'Rating'])\n",
    "\n",
    "print(df)\n"
   ]
  },
  {
   "cell_type": "code",
   "execution_count": null,
   "id": "d54e5a87",
   "metadata": {},
   "outputs": [],
   "source": []
  },
  {
   "cell_type": "markdown",
   "id": "ea8e0eee",
   "metadata": {},
   "source": [
    "# b) Top 10 ODI Batsmen along with the records of their team and rating."
   ]
  },
  {
   "cell_type": "code",
   "execution_count": 62,
   "id": "221c5ae9",
   "metadata": {},
   "outputs": [
    {
     "name": "stdout",
     "output_type": "stream",
     "text": [
      "                  Player Team Rating\n",
      "0             Babar Azam  PAK    829\n",
      "1           Shubman Gill  IND    823\n",
      "2        Quinton de Kock   SA    769\n",
      "3       Heinrich Klaasen   SA    756\n",
      "4           David Warner  AUS    747\n",
      "5            Virat Kohli  IND    747\n",
      "6           Harry Tector  IRE    729\n",
      "7           Rohit Sharma  IND    725\n",
      "8  Rassie van der Dussen   SA    716\n",
      "9            Imam-ul-Haq  PAK    704\n"
     ]
    }
   ],
   "source": [
    "url = 'https://www.icc-cricket.com/rankings/mens/player-rankings/odi/batting'\n",
    "\n",
    "response = requests.get(url)\n",
    "\n",
    "soup = BeautifulSoup(response.content, 'html.parser')\n",
    "\n",
    "table = soup.find('table', {'class': 'table'})\n",
    "\n",
    "\n",
    "data = []\n",
    "for row in table.find_all('tr')[1:11]:  \n",
    "    cols = row.find_all('td')\n",
    "    player = cols[1].text.strip()\n",
    "    team = cols[2].text.strip()\n",
    "    rating = cols[3].text.strip()\n",
    "    data.append([player, team, rating])\n",
    "\n",
    "\n",
    "df = pd.DataFrame(data, columns=['Player', 'Team', 'Rating'])\n",
    "\n",
    "print(df)\n"
   ]
  },
  {
   "cell_type": "code",
   "execution_count": null,
   "id": "135edfd4",
   "metadata": {},
   "outputs": [],
   "source": []
  },
  {
   "cell_type": "markdown",
   "id": "8881df75",
   "metadata": {},
   "source": [
    "# c) Top 10 ODI bowlers along with the records of their team and rating."
   ]
  },
  {
   "cell_type": "code",
   "execution_count": 66,
   "id": "efe0666b",
   "metadata": {},
   "outputs": [
    {
     "name": "stdout",
     "output_type": "stream",
     "text": [
      "           Player Team Rating\n",
      "0  Josh Hazlewood  AUS    670\n",
      "1  Mohammed Siraj  IND    668\n",
      "2  Keshav Maharaj   SA    656\n",
      "3     Rashid Khan  AFG    654\n",
      "4     Trent Boult   NZ    653\n",
      "5   Mohammad Nabi  AFG    641\n",
      "6      Adam Zampa  AUS    635\n",
      "7      Matt Henry   NZ    634\n",
      "8   Kuldeep Yadav  IND    632\n",
      "9  Shaheen Afridi  PAK    625\n"
     ]
    }
   ],
   "source": [
    "url = 'https://www.icc-cricket.com/rankings/mens/player-rankings/odi/bowling'\n",
    "response = requests.get(url)\n",
    "\n",
    "soup = BeautifulSoup(response.content, 'html.parser')\n",
    "\n",
    "table = soup.find('table', {'class': 'table'})\n",
    "\n",
    "data = []\n",
    "for row in table.find_all('tr')[1:11]: \n",
    "    cols = row.find_all('td')\n",
    "    player = cols[1].text.strip()\n",
    "    team = cols[2].text.strip()\n",
    "    rating = cols[3].text.strip()\n",
    "    data.append([player, team, rating])\n",
    "\n",
    "df = pd.DataFrame(data, columns=['Player', 'Team', 'Rating'])\n",
    "print(df)"
   ]
  },
  {
   "cell_type": "code",
   "execution_count": null,
   "id": "84b20441",
   "metadata": {},
   "outputs": [],
   "source": []
  },
  {
   "cell_type": "markdown",
   "id": "ed30b4be",
   "metadata": {},
   "source": [
    "# 4) Write a python program to scrape cricket rankings from icc-cricket.com. You have to scrape and make data frame\n",
    "a) Top 10 ODI teams in women’s cricket along with the records for matches, points and rating."
   ]
  },
  {
   "cell_type": "code",
   "execution_count": 71,
   "id": "960f51c4",
   "metadata": {},
   "outputs": [
    {
     "name": "stdout",
     "output_type": "stream",
     "text": [
      "               Team Matches Points Rating\n",
      "0    Australia\\nAUS      19  3,084    162\n",
      "1      England\\nENG      23  2,991    130\n",
      "2  South Africa\\nSA      21  2,446    116\n",
      "3        India\\nIND      18  1,745     97\n",
      "4   New Zealand\\nNZ      21  2,014     96\n",
      "5   West Indies\\nWI      18  1,610     89\n",
      "6     Sri Lanka\\nSL       9    714     79\n",
      "7   Bangladesh\\nBAN      11    816     74\n",
      "8     Thailand\\nTHA      11    753     68\n",
      "9     Pakistan\\nPAK      21  1,435     68\n"
     ]
    }
   ],
   "source": [
    "url = 'https://www.icc-cricket.com/rankings/womens/team-rankings/odi'\n",
    "response = requests.get(url)\n",
    "soup = BeautifulSoup(response.content, 'html.parser')\n",
    "\n",
    "data = []\n",
    "for row in table.find_all('tr')[1:11]:  \n",
    "    cols = row.find_all('td')\n",
    "    team = cols[1].text.strip()\n",
    "    matches = cols[2].text.strip()\n",
    "    points = cols[3].text.strip()\n",
    "    rating = cols[4].text.strip()\n",
    "    data.append([team, matches, points, rating])\n",
    "\n",
    "df = pd.DataFrame(data, columns=['Team', 'Matches', 'Points', 'Rating'])\n",
    "\n",
    "print(df)\n"
   ]
  },
  {
   "cell_type": "code",
   "execution_count": null,
   "id": "4fd67bd7",
   "metadata": {},
   "outputs": [],
   "source": []
  },
  {
   "cell_type": "markdown",
   "id": "0664c8d9",
   "metadata": {},
   "source": [
    "# b) Top 10 women’s ODI Batting players along with the records of their team and rating"
   ]
  },
  {
   "cell_type": "code",
   "execution_count": 73,
   "id": "bc8a6e52",
   "metadata": {},
   "outputs": [
    {
     "name": "stdout",
     "output_type": "stream",
     "text": [
      "                 Player Team Rating\n",
      "0  Natalie Sciver-Brunt  ENG    807\n",
      "1           Beth Mooney  AUS    750\n",
      "2   Chamari Athapaththu   SL    736\n",
      "3       Laura Wolvaardt   SA    727\n",
      "4       Smriti Mandhana  IND    708\n",
      "5          Alyssa Healy  AUS    698\n",
      "6          Ellyse Perry  AUS    697\n",
      "7      Harmanpreet Kaur  IND    694\n",
      "8           Meg Lanning  AUS    662\n",
      "9        Marizanne Kapp   SA    642\n"
     ]
    }
   ],
   "source": [
    "url = 'https://www.icc-cricket.com/rankings/womens/player-rankings/odi/batting'\n",
    "\n",
    "response = requests.get(url)\n",
    "\n",
    "soup = BeautifulSoup(response.content, 'html.parser')\n",
    "\n",
    "\n",
    "table = soup.find('table', {'class': 'table'})\n",
    "\n",
    "\n",
    "data = []\n",
    "for row in table.find_all('tr')[1:11]: \n",
    "    cols = row.find_all('td')\n",
    "    player = cols[1].text.strip()\n",
    "    team = cols[2].text.strip()\n",
    "    rating = cols[3].text.strip()\n",
    "    data.append([player, team, rating])\n",
    "\n",
    "df = pd.DataFrame(data, columns=['Player', 'Team', 'Rating'])\n",
    "print(df)"
   ]
  },
  {
   "cell_type": "code",
   "execution_count": null,
   "id": "07340316",
   "metadata": {},
   "outputs": [],
   "source": []
  },
  {
   "cell_type": "markdown",
   "id": "5bbec04b",
   "metadata": {},
   "source": [
    "# c) Top 10 women’s ODI all-rounder along with the records of their team and rating."
   ]
  },
  {
   "cell_type": "code",
   "execution_count": 74,
   "id": "bdeefe20",
   "metadata": {},
   "outputs": [
    {
     "name": "stdout",
     "output_type": "stream",
     "text": [
      "                 Player Team Rating\n",
      "0        Marizanne Kapp   SA    385\n",
      "1      Ashleigh Gardner  AUS    377\n",
      "2  Natalie Sciver-Brunt  ENG    360\n",
      "3       Hayley Matthews   WI    358\n",
      "4           Amelia Kerr   NZ    346\n",
      "5         Deepti Sharma  IND    312\n",
      "6          Ellyse Perry  AUS    282\n",
      "7         Jess Jonassen  AUS    227\n",
      "8         Sophie Devine   NZ    227\n",
      "9              Nida Dar  PAK    224\n"
     ]
    }
   ],
   "source": [
    "url = 'https://www.icc-cricket.com/rankings/womens/player-rankings/odi/all-rounder'\n",
    "response = requests.get(url)\n",
    "soup = BeautifulSoup(response.content, 'html.parser')\n",
    "table = soup.find('table', {'class': 'table'})\n",
    "\n",
    "data = []\n",
    "for row in table.find_all('tr')[1:11]:  \n",
    "    cols = row.find_all('td')\n",
    "    player = cols[1].text.strip()\n",
    "    team = cols[2].text.strip()\n",
    "    rating = cols[3].text.strip()\n",
    "    data.append([player, team, rating])\n",
    "\n",
    "\n",
    "df = pd.DataFrame(data, columns=['Player', 'Team', 'Rating'])\n",
    "print(df)"
   ]
  },
  {
   "cell_type": "markdown",
   "id": "f71beb4c",
   "metadata": {},
   "source": [
    "# 5) Write a python program to scrape mentioned news details from https://www.cnbc.com/world/?region=world and make data frame\n",
    "i) Headline"
   ]
  },
  {
   "cell_type": "code",
   "execution_count": 77,
   "id": "62c2ce21",
   "metadata": {},
   "outputs": [
    {
     "data": {
      "text/plain": [
       "<Response [200]>"
      ]
     },
     "execution_count": 77,
     "metadata": {},
     "output_type": "execute_result"
    }
   ],
   "source": [
    "url='https://www.cnbc.com/world/?region=world'\n",
    "page=requests.get(url)\n",
    "page"
   ]
  },
  {
   "cell_type": "code",
   "execution_count": 112,
   "id": "b228cc56",
   "metadata": {},
   "outputs": [
    {
     "data": {
      "text/html": [
       "<div>\n",
       "<style scoped>\n",
       "    .dataframe tbody tr th:only-of-type {\n",
       "        vertical-align: middle;\n",
       "    }\n",
       "\n",
       "    .dataframe tbody tr th {\n",
       "        vertical-align: top;\n",
       "    }\n",
       "\n",
       "    .dataframe thead th {\n",
       "        text-align: right;\n",
       "    }\n",
       "</style>\n",
       "<table border=\"1\" class=\"dataframe\">\n",
       "  <thead>\n",
       "    <tr style=\"text-align: right;\">\n",
       "      <th></th>\n",
       "      <th>Headline</th>\n",
       "    </tr>\n",
       "  </thead>\n",
       "  <tbody>\n",
       "    <tr>\n",
       "      <th>0</th>\n",
       "      <td>Moscow under pressure to protect Jewish commun...</td>\n",
       "    </tr>\n",
       "    <tr>\n",
       "      <th>1</th>\n",
       "      <td>Moscow under pressure to protect Jewish commun...</td>\n",
       "    </tr>\n",
       "    <tr>\n",
       "      <th>2</th>\n",
       "      <td></td>\n",
       "    </tr>\n",
       "    <tr>\n",
       "      <th>3</th>\n",
       "      <td>Moscow under pressure to protect Jewish commun...</td>\n",
       "    </tr>\n",
       "    <tr>\n",
       "      <th>4</th>\n",
       "      <td></td>\n",
       "    </tr>\n",
       "    <tr>\n",
       "      <th>5</th>\n",
       "      <td>Moscow under pressure to protect Jewish commun...</td>\n",
       "    </tr>\n",
       "  </tbody>\n",
       "</table>\n",
       "</div>"
      ],
      "text/plain": [
       "                                            Headline\n",
       "0  Moscow under pressure to protect Jewish commun...\n",
       "1  Moscow under pressure to protect Jewish commun...\n",
       "2                                                   \n",
       "3  Moscow under pressure to protect Jewish commun...\n",
       "4                                                   \n",
       "5  Moscow under pressure to protect Jewish commun..."
      ]
     },
     "execution_count": 112,
     "metadata": {},
     "output_type": "execute_result"
    }
   ],
   "source": [
    "header=[]\n",
    "for i in soup.find_all('a',href=\"https://www.cnbc.com/2023/10/30/ukraine-war-live-updates-latest-news-on-russia-and-the-war-in-ukraine.html\"):\n",
    "    header.append(i.text)\n",
    "df=pd.DataFrame(data=header,columns=['Headline'])\n",
    "df"
   ]
  },
  {
   "cell_type": "code",
   "execution_count": null,
   "id": "2e6a7c39",
   "metadata": {},
   "outputs": [],
   "source": []
  },
  {
   "cell_type": "markdown",
   "id": "08841e82",
   "metadata": {},
   "source": [
    "# ii) Time"
   ]
  },
  {
   "cell_type": "code",
   "execution_count": 96,
   "id": "ac4063a2",
   "metadata": {},
   "outputs": [
    {
     "name": "stdout",
     "output_type": "stream",
     "text": [
      "            Time\n",
      "0     24 Min Ago\n",
      "1     31 Min Ago\n",
      "2     58 Min Ago\n",
      "3     1 Hour Ago\n",
      "4    2 Hours Ago\n",
      "5    2 Hours Ago\n",
      "6    3 Hours Ago\n",
      "7    3 Hours Ago\n",
      "8    4 Hours Ago\n",
      "9    5 Hours Ago\n",
      "10   5 Hours Ago\n",
      "11   5 Hours Ago\n",
      "12   6 Hours Ago\n",
      "13   6 Hours Ago\n",
      "14   6 Hours Ago\n",
      "15   7 Hours Ago\n",
      "16  10 Hours Ago\n",
      "17  10 Hours Ago\n",
      "18  10 Hours Ago\n",
      "19  10 Hours Ago\n",
      "20  11 Hours Ago\n",
      "21  11 Hours Ago\n",
      "22  12 Hours Ago\n",
      "23  12 Hours Ago\n",
      "24  18 Hours Ago\n",
      "25  19 Hours Ago\n",
      "26  20 Hours Ago\n",
      "27  20 Hours Ago\n",
      "28  20 Hours Ago\n",
      "29  20 Hours Ago\n"
     ]
    }
   ],
   "source": [
    "time=[]\n",
    "for i in soup.find_all('time',class_=\"LatestNews-timestamp\"):\n",
    "    time.append(i.text)\n",
    "    \n",
    "df=pd.DataFrame(data=time, columns=['Time'])\n",
    "print(df)"
   ]
  },
  {
   "cell_type": "code",
   "execution_count": null,
   "id": "c6ba5166",
   "metadata": {},
   "outputs": [],
   "source": []
  },
  {
   "cell_type": "markdown",
   "id": "cb58fdf8",
   "metadata": {},
   "source": [
    "# iii) News Link"
   ]
  },
  {
   "cell_type": "code",
   "execution_count": 103,
   "id": "f1548c8d",
   "metadata": {},
   "outputs": [
    {
     "data": {
      "text/html": [
       "<div>\n",
       "<style scoped>\n",
       "    .dataframe tbody tr th:only-of-type {\n",
       "        vertical-align: middle;\n",
       "    }\n",
       "\n",
       "    .dataframe tbody tr th {\n",
       "        vertical-align: top;\n",
       "    }\n",
       "\n",
       "    .dataframe thead th {\n",
       "        text-align: right;\n",
       "    }\n",
       "</style>\n",
       "<table border=\"1\" class=\"dataframe\">\n",
       "  <thead>\n",
       "    <tr style=\"text-align: right;\">\n",
       "      <th></th>\n",
       "      <th>NEWS LINK</th>\n",
       "    </tr>\n",
       "  </thead>\n",
       "  <tbody>\n",
       "    <tr>\n",
       "      <th>0</th>\n",
       "      <td>How 3 stocks tied to China's economy are navig...</td>\n",
       "    </tr>\n",
       "    <tr>\n",
       "      <th>1</th>\n",
       "      <td>Canadian auto union initiates national strike ...</td>\n",
       "    </tr>\n",
       "    <tr>\n",
       "      <th>2</th>\n",
       "      <td>Analyst calls: All the market-moving chatter f...</td>\n",
       "    </tr>\n",
       "    <tr>\n",
       "      <th>3</th>\n",
       "      <td>Biden unveils U.S. government's first-ever AI ...</td>\n",
       "    </tr>\n",
       "    <tr>\n",
       "      <th>4</th>\n",
       "      <td>Treasury yields rise as investors look to Fed ...</td>\n",
       "    </tr>\n",
       "    <tr>\n",
       "      <th>5</th>\n",
       "      <td>Moscow under pressure to protect Jewish commun...</td>\n",
       "    </tr>\n",
       "    <tr>\n",
       "      <th>6</th>\n",
       "      <td>U.S. is working with Indo-Pacific partners to ...</td>\n",
       "    </tr>\n",
       "    <tr>\n",
       "      <th>7</th>\n",
       "      <td>Israeli defense forces expand Gaza ground incu...</td>\n",
       "    </tr>\n",
       "    <tr>\n",
       "      <th>8</th>\n",
       "      <td>CNBC Daily Open: Are things about to get more ...</td>\n",
       "    </tr>\n",
       "    <tr>\n",
       "      <th>9</th>\n",
       "      <td>European markets higher despite geopolitical t...</td>\n",
       "    </tr>\n",
       "    <tr>\n",
       "      <th>10</th>\n",
       "      <td>Is your hotel sustainable? Not if these two th...</td>\n",
       "    </tr>\n",
       "    <tr>\n",
       "      <th>11</th>\n",
       "      <td>WTO chief warns Israel-Hamas war could hurt gl...</td>\n",
       "    </tr>\n",
       "    <tr>\n",
       "      <th>12</th>\n",
       "      <td>HSBC's after-tax profit surges over 235% year-...</td>\n",
       "    </tr>\n",
       "    <tr>\n",
       "      <th>13</th>\n",
       "      <td>Evergrande shares fall 20% to all-time low as ...</td>\n",
       "    </tr>\n",
       "    <tr>\n",
       "      <th>14</th>\n",
       "      <td>McDonald's is about to report earnings. Here's...</td>\n",
       "    </tr>\n",
       "    <tr>\n",
       "      <th>15</th>\n",
       "      <td>Oil prices slip even as Middle East tensions s...</td>\n",
       "    </tr>\n",
       "    <tr>\n",
       "      <th>16</th>\n",
       "      <td>UAW-Ford deal includes $8.1 billion in investm...</td>\n",
       "    </tr>\n",
       "    <tr>\n",
       "      <th>17</th>\n",
       "      <td>Standard Chartered-owned crypto firm Zodia lau...</td>\n",
       "    </tr>\n",
       "    <tr>\n",
       "      <th>18</th>\n",
       "      <td>CNBC Daily Open: The perfect storm</td>\n",
       "    </tr>\n",
       "    <tr>\n",
       "      <th>19</th>\n",
       "      <td>Asia markets mixed ahead of Japan's BOJ decisi...</td>\n",
       "    </tr>\n",
       "    <tr>\n",
       "      <th>20</th>\n",
       "      <td>Amid an AI 'game of thrones,' these China tech...</td>\n",
       "    </tr>\n",
       "    <tr>\n",
       "      <th>21</th>\n",
       "      <td>Fund manager says this under-the-radar network...</td>\n",
       "    </tr>\n",
       "    <tr>\n",
       "      <th>22</th>\n",
       "      <td>Stock futures rebound to start a big week with...</td>\n",
       "    </tr>\n",
       "    <tr>\n",
       "      <th>23</th>\n",
       "      <td>Chinese consumer stocks that analysts like for...</td>\n",
       "    </tr>\n",
       "    <tr>\n",
       "      <th>24</th>\n",
       "      <td>Cramer: This market has put investors in a box...</td>\n",
       "    </tr>\n",
       "    <tr>\n",
       "      <th>25</th>\n",
       "      <td>Google Bard asks Bill Nye if AI can help avoid...</td>\n",
       "    </tr>\n",
       "    <tr>\n",
       "      <th>26</th>\n",
       "      <td>What's a good price to get into a stock that h...</td>\n",
       "    </tr>\n",
       "    <tr>\n",
       "      <th>27</th>\n",
       "      <td>McDonald's HR exec: The No. 1 skill you get wo...</td>\n",
       "    </tr>\n",
       "    <tr>\n",
       "      <th>28</th>\n",
       "      <td>The top 10 best states for millennials—New Yor...</td>\n",
       "    </tr>\n",
       "    <tr>\n",
       "      <th>29</th>\n",
       "      <td>As the market enters correction territory, don...</td>\n",
       "    </tr>\n",
       "  </tbody>\n",
       "</table>\n",
       "</div>"
      ],
      "text/plain": [
       "                                            NEWS LINK\n",
       "0   How 3 stocks tied to China's economy are navig...\n",
       "1   Canadian auto union initiates national strike ...\n",
       "2   Analyst calls: All the market-moving chatter f...\n",
       "3   Biden unveils U.S. government's first-ever AI ...\n",
       "4   Treasury yields rise as investors look to Fed ...\n",
       "5   Moscow under pressure to protect Jewish commun...\n",
       "6   U.S. is working with Indo-Pacific partners to ...\n",
       "7   Israeli defense forces expand Gaza ground incu...\n",
       "8   CNBC Daily Open: Are things about to get more ...\n",
       "9   European markets higher despite geopolitical t...\n",
       "10  Is your hotel sustainable? Not if these two th...\n",
       "11  WTO chief warns Israel-Hamas war could hurt gl...\n",
       "12  HSBC's after-tax profit surges over 235% year-...\n",
       "13  Evergrande shares fall 20% to all-time low as ...\n",
       "14  McDonald's is about to report earnings. Here's...\n",
       "15  Oil prices slip even as Middle East tensions s...\n",
       "16  UAW-Ford deal includes $8.1 billion in investm...\n",
       "17  Standard Chartered-owned crypto firm Zodia lau...\n",
       "18                 CNBC Daily Open: The perfect storm\n",
       "19  Asia markets mixed ahead of Japan's BOJ decisi...\n",
       "20  Amid an AI 'game of thrones,' these China tech...\n",
       "21  Fund manager says this under-the-radar network...\n",
       "22  Stock futures rebound to start a big week with...\n",
       "23  Chinese consumer stocks that analysts like for...\n",
       "24  Cramer: This market has put investors in a box...\n",
       "25  Google Bard asks Bill Nye if AI can help avoid...\n",
       "26  What's a good price to get into a stock that h...\n",
       "27  McDonald's HR exec: The No. 1 skill you get wo...\n",
       "28  The top 10 best states for millennials—New Yor...\n",
       "29  As the market enters correction territory, don..."
      ]
     },
     "execution_count": 103,
     "metadata": {},
     "output_type": "execute_result"
    }
   ],
   "source": [
    "news_link=[]\n",
    "for i in soup.find_all('a', class_=\"LatestNews-headline\"):\n",
    "    news_link.append(i.text)\n",
    "    \n",
    "df=pd.DataFrame(data=news_link,columns=[\"NEWS LINK\"])\n",
    "df"
   ]
  },
  {
   "cell_type": "code",
   "execution_count": 113,
   "id": "421b8ace",
   "metadata": {},
   "outputs": [
    {
     "data": {
      "text/html": [
       "<div>\n",
       "<style scoped>\n",
       "    .dataframe tbody tr th:only-of-type {\n",
       "        vertical-align: middle;\n",
       "    }\n",
       "\n",
       "    .dataframe tbody tr th {\n",
       "        vertical-align: top;\n",
       "    }\n",
       "\n",
       "    .dataframe thead th {\n",
       "        text-align: right;\n",
       "    }\n",
       "</style>\n",
       "<table border=\"1\" class=\"dataframe\">\n",
       "  <thead>\n",
       "    <tr style=\"text-align: right;\">\n",
       "      <th></th>\n",
       "      <th>Time</th>\n",
       "      <th>News_Link</th>\n",
       "    </tr>\n",
       "  </thead>\n",
       "  <tbody>\n",
       "    <tr>\n",
       "      <th>0</th>\n",
       "      <td>24 Min Ago</td>\n",
       "      <td>How 3 stocks tied to China's economy are navig...</td>\n",
       "    </tr>\n",
       "    <tr>\n",
       "      <th>1</th>\n",
       "      <td>31 Min Ago</td>\n",
       "      <td>Canadian auto union initiates national strike ...</td>\n",
       "    </tr>\n",
       "    <tr>\n",
       "      <th>2</th>\n",
       "      <td>58 Min Ago</td>\n",
       "      <td>Analyst calls: All the market-moving chatter f...</td>\n",
       "    </tr>\n",
       "    <tr>\n",
       "      <th>3</th>\n",
       "      <td>1 Hour Ago</td>\n",
       "      <td>Biden unveils U.S. government's first-ever AI ...</td>\n",
       "    </tr>\n",
       "    <tr>\n",
       "      <th>4</th>\n",
       "      <td>2 Hours Ago</td>\n",
       "      <td>Treasury yields rise as investors look to Fed ...</td>\n",
       "    </tr>\n",
       "    <tr>\n",
       "      <th>5</th>\n",
       "      <td>2 Hours Ago</td>\n",
       "      <td>Moscow under pressure to protect Jewish commun...</td>\n",
       "    </tr>\n",
       "    <tr>\n",
       "      <th>6</th>\n",
       "      <td>3 Hours Ago</td>\n",
       "      <td>U.S. is working with Indo-Pacific partners to ...</td>\n",
       "    </tr>\n",
       "    <tr>\n",
       "      <th>7</th>\n",
       "      <td>3 Hours Ago</td>\n",
       "      <td>Israeli defense forces expand Gaza ground incu...</td>\n",
       "    </tr>\n",
       "    <tr>\n",
       "      <th>8</th>\n",
       "      <td>4 Hours Ago</td>\n",
       "      <td>CNBC Daily Open: Are things about to get more ...</td>\n",
       "    </tr>\n",
       "    <tr>\n",
       "      <th>9</th>\n",
       "      <td>5 Hours Ago</td>\n",
       "      <td>European markets higher despite geopolitical t...</td>\n",
       "    </tr>\n",
       "    <tr>\n",
       "      <th>10</th>\n",
       "      <td>5 Hours Ago</td>\n",
       "      <td>Is your hotel sustainable? Not if these two th...</td>\n",
       "    </tr>\n",
       "    <tr>\n",
       "      <th>11</th>\n",
       "      <td>5 Hours Ago</td>\n",
       "      <td>WTO chief warns Israel-Hamas war could hurt gl...</td>\n",
       "    </tr>\n",
       "    <tr>\n",
       "      <th>12</th>\n",
       "      <td>6 Hours Ago</td>\n",
       "      <td>HSBC's after-tax profit surges over 235% year-...</td>\n",
       "    </tr>\n",
       "    <tr>\n",
       "      <th>13</th>\n",
       "      <td>6 Hours Ago</td>\n",
       "      <td>Evergrande shares fall 20% to all-time low as ...</td>\n",
       "    </tr>\n",
       "    <tr>\n",
       "      <th>14</th>\n",
       "      <td>6 Hours Ago</td>\n",
       "      <td>McDonald's is about to report earnings. Here's...</td>\n",
       "    </tr>\n",
       "    <tr>\n",
       "      <th>15</th>\n",
       "      <td>7 Hours Ago</td>\n",
       "      <td>Oil prices slip even as Middle East tensions s...</td>\n",
       "    </tr>\n",
       "    <tr>\n",
       "      <th>16</th>\n",
       "      <td>10 Hours Ago</td>\n",
       "      <td>UAW-Ford deal includes $8.1 billion in investm...</td>\n",
       "    </tr>\n",
       "    <tr>\n",
       "      <th>17</th>\n",
       "      <td>10 Hours Ago</td>\n",
       "      <td>Standard Chartered-owned crypto firm Zodia lau...</td>\n",
       "    </tr>\n",
       "    <tr>\n",
       "      <th>18</th>\n",
       "      <td>10 Hours Ago</td>\n",
       "      <td>CNBC Daily Open: The perfect storm</td>\n",
       "    </tr>\n",
       "    <tr>\n",
       "      <th>19</th>\n",
       "      <td>10 Hours Ago</td>\n",
       "      <td>Asia markets mixed ahead of Japan's BOJ decisi...</td>\n",
       "    </tr>\n",
       "    <tr>\n",
       "      <th>20</th>\n",
       "      <td>11 Hours Ago</td>\n",
       "      <td>Amid an AI 'game of thrones,' these China tech...</td>\n",
       "    </tr>\n",
       "    <tr>\n",
       "      <th>21</th>\n",
       "      <td>11 Hours Ago</td>\n",
       "      <td>Fund manager says this under-the-radar network...</td>\n",
       "    </tr>\n",
       "    <tr>\n",
       "      <th>22</th>\n",
       "      <td>12 Hours Ago</td>\n",
       "      <td>Stock futures rebound to start a big week with...</td>\n",
       "    </tr>\n",
       "    <tr>\n",
       "      <th>23</th>\n",
       "      <td>12 Hours Ago</td>\n",
       "      <td>Chinese consumer stocks that analysts like for...</td>\n",
       "    </tr>\n",
       "    <tr>\n",
       "      <th>24</th>\n",
       "      <td>18 Hours Ago</td>\n",
       "      <td>Cramer: This market has put investors in a box...</td>\n",
       "    </tr>\n",
       "    <tr>\n",
       "      <th>25</th>\n",
       "      <td>19 Hours Ago</td>\n",
       "      <td>Google Bard asks Bill Nye if AI can help avoid...</td>\n",
       "    </tr>\n",
       "    <tr>\n",
       "      <th>26</th>\n",
       "      <td>20 Hours Ago</td>\n",
       "      <td>What's a good price to get into a stock that h...</td>\n",
       "    </tr>\n",
       "    <tr>\n",
       "      <th>27</th>\n",
       "      <td>20 Hours Ago</td>\n",
       "      <td>McDonald's HR exec: The No. 1 skill you get wo...</td>\n",
       "    </tr>\n",
       "    <tr>\n",
       "      <th>28</th>\n",
       "      <td>20 Hours Ago</td>\n",
       "      <td>The top 10 best states for millennials—New Yor...</td>\n",
       "    </tr>\n",
       "    <tr>\n",
       "      <th>29</th>\n",
       "      <td>20 Hours Ago</td>\n",
       "      <td>As the market enters correction territory, don...</td>\n",
       "    </tr>\n",
       "  </tbody>\n",
       "</table>\n",
       "</div>"
      ],
      "text/plain": [
       "            Time                                          News_Link\n",
       "0     24 Min Ago  How 3 stocks tied to China's economy are navig...\n",
       "1     31 Min Ago  Canadian auto union initiates national strike ...\n",
       "2     58 Min Ago  Analyst calls: All the market-moving chatter f...\n",
       "3     1 Hour Ago  Biden unveils U.S. government's first-ever AI ...\n",
       "4    2 Hours Ago  Treasury yields rise as investors look to Fed ...\n",
       "5    2 Hours Ago  Moscow under pressure to protect Jewish commun...\n",
       "6    3 Hours Ago  U.S. is working with Indo-Pacific partners to ...\n",
       "7    3 Hours Ago  Israeli defense forces expand Gaza ground incu...\n",
       "8    4 Hours Ago  CNBC Daily Open: Are things about to get more ...\n",
       "9    5 Hours Ago  European markets higher despite geopolitical t...\n",
       "10   5 Hours Ago  Is your hotel sustainable? Not if these two th...\n",
       "11   5 Hours Ago  WTO chief warns Israel-Hamas war could hurt gl...\n",
       "12   6 Hours Ago  HSBC's after-tax profit surges over 235% year-...\n",
       "13   6 Hours Ago  Evergrande shares fall 20% to all-time low as ...\n",
       "14   6 Hours Ago  McDonald's is about to report earnings. Here's...\n",
       "15   7 Hours Ago  Oil prices slip even as Middle East tensions s...\n",
       "16  10 Hours Ago  UAW-Ford deal includes $8.1 billion in investm...\n",
       "17  10 Hours Ago  Standard Chartered-owned crypto firm Zodia lau...\n",
       "18  10 Hours Ago                 CNBC Daily Open: The perfect storm\n",
       "19  10 Hours Ago  Asia markets mixed ahead of Japan's BOJ decisi...\n",
       "20  11 Hours Ago  Amid an AI 'game of thrones,' these China tech...\n",
       "21  11 Hours Ago  Fund manager says this under-the-radar network...\n",
       "22  12 Hours Ago  Stock futures rebound to start a big week with...\n",
       "23  12 Hours Ago  Chinese consumer stocks that analysts like for...\n",
       "24  18 Hours Ago  Cramer: This market has put investors in a box...\n",
       "25  19 Hours Ago  Google Bard asks Bill Nye if AI can help avoid...\n",
       "26  20 Hours Ago  What's a good price to get into a stock that h...\n",
       "27  20 Hours Ago  McDonald's HR exec: The No. 1 skill you get wo...\n",
       "28  20 Hours Ago  The top 10 best states for millennials—New Yor...\n",
       "29  20 Hours Ago  As the market enters correction territory, don..."
      ]
     },
     "execution_count": 113,
     "metadata": {},
     "output_type": "execute_result"
    }
   ],
   "source": [
    "df=pd.DataFrame({'Time':time,'News_Link':news_link})\n",
    "df"
   ]
  },
  {
   "cell_type": "code",
   "execution_count": null,
   "id": "f5cf0e2b",
   "metadata": {},
   "outputs": [],
   "source": []
  },
  {
   "cell_type": "markdown",
   "id": "4c5b0b5e",
   "metadata": {},
   "source": [
    "# 6) Write a python program to scrape the details of most downloaded articles from AI in last 90days.https://www.journals.elsevier.com/artificial-intelligence/most-downloaded-articles Scrape below mentioned details and make data frame\n",
    "\n",
    "i) Paper Title"
   ]
  },
  {
   "cell_type": "code",
   "execution_count": 116,
   "id": "86f02867",
   "metadata": {},
   "outputs": [
    {
     "data": {
      "text/plain": [
       "<Response [200]>"
      ]
     },
     "execution_count": 116,
     "metadata": {},
     "output_type": "execute_result"
    }
   ],
   "source": [
    "url='https://www.journals.elsevier.com/artificial-intelligence/most-downloaded-articles'\n",
    "response=requests.get(url)\n",
    "response"
   ]
  },
  {
   "cell_type": "code",
   "execution_count": 119,
   "id": "6ffacd47",
   "metadata": {},
   "outputs": [],
   "source": [
    "soup=BeautifulSoup(response.text)\n",
    "# soup"
   ]
  },
  {
   "cell_type": "code",
   "execution_count": 138,
   "id": "6b433d9c",
   "metadata": {},
   "outputs": [],
   "source": [
    "paper_title=[]\n",
    "for i in soup.find_all('h2', class_=\"sc-1qrq3sd-1 gRGSUS sc-1nmom32-0 sc-1nmom32-1 btcbYu goSKRg\"):\n",
    "    paper_title.append(i.text)\n",
    "    \n",
    "    \n",
    "df=pd.DataFrame(data=paper_title,columns=['PAPER_TITLE'])\n",
    "# df"
   ]
  },
  {
   "cell_type": "code",
   "execution_count": null,
   "id": "b96c3702",
   "metadata": {},
   "outputs": [],
   "source": []
  },
  {
   "cell_type": "markdown",
   "id": "92eb6ee1",
   "metadata": {},
   "source": [
    "# ii) Authors"
   ]
  },
  {
   "cell_type": "code",
   "execution_count": 139,
   "id": "f6db83c4",
   "metadata": {},
   "outputs": [],
   "source": [
    "authors=[]\n",
    "for i in soup.find_all('span',class_=\"sc-1w3fpd7-0 dnCnAO\"):\n",
    "    authors.append(i.text)\n",
    "    \n",
    "df=pd.DataFrame(data=authors,columns=['AUTHORS'])\n",
    "# df"
   ]
  },
  {
   "cell_type": "code",
   "execution_count": null,
   "id": "415c5de7",
   "metadata": {},
   "outputs": [],
   "source": []
  },
  {
   "cell_type": "markdown",
   "id": "c8af7b72",
   "metadata": {},
   "source": [
    "# iii) Published Date"
   ]
  },
  {
   "cell_type": "code",
   "execution_count": 140,
   "id": "8931e2b9",
   "metadata": {},
   "outputs": [],
   "source": [
    "date=[]\n",
    "for i in soup.find_all('span',class_=\"sc-1thf9ly-2 dvggWt\"):\n",
    "    date.append(i.text)\n",
    "    \n",
    "    \n",
    "df=pd.DataFrame(data=date,columns=['Published_Date'])\n",
    "# print(df)"
   ]
  },
  {
   "cell_type": "code",
   "execution_count": null,
   "id": "4b1bb736",
   "metadata": {},
   "outputs": [],
   "source": []
  },
  {
   "cell_type": "markdown",
   "id": "4584da3d",
   "metadata": {},
   "source": [
    "# iv) Paper URL"
   ]
  },
  {
   "cell_type": "code",
   "execution_count": 141,
   "id": "3ea1aa0e",
   "metadata": {},
   "outputs": [],
   "source": [
    "url=[]\n",
    "for i in soup.find_all('h2',class_=\"sc-1qrq3sd-1 gRGSUS sc-1nmom32-0 sc-1nmom32-1 btcbYu goSKRg\"):\n",
    "    url.append(i.text)\n",
    "    \n",
    "df=pd.DataFrame(data=url, columns=['Paper URL'])\n",
    "# df"
   ]
  },
  {
   "cell_type": "code",
   "execution_count": 143,
   "id": "def89ec9",
   "metadata": {},
   "outputs": [
    {
     "name": "stdout",
     "output_type": "stream",
     "text": [
      "24 24 24 24\n"
     ]
    }
   ],
   "source": [
    "print(len(paper_title),len(authors),len(date),len(url))"
   ]
  },
  {
   "cell_type": "code",
   "execution_count": 150,
   "id": "67f2e179",
   "metadata": {},
   "outputs": [
    {
     "data": {
      "text/html": [
       "<div>\n",
       "<style scoped>\n",
       "    .dataframe tbody tr th:only-of-type {\n",
       "        vertical-align: middle;\n",
       "    }\n",
       "\n",
       "    .dataframe tbody tr th {\n",
       "        vertical-align: top;\n",
       "    }\n",
       "\n",
       "    .dataframe thead th {\n",
       "        text-align: right;\n",
       "    }\n",
       "</style>\n",
       "<table border=\"1\" class=\"dataframe\">\n",
       "  <thead>\n",
       "    <tr style=\"text-align: right;\">\n",
       "      <th></th>\n",
       "      <th>PAPER_TITLE</th>\n",
       "      <th>AUTHORS_NAME</th>\n",
       "      <th>PUBLISHED_DATE</th>\n",
       "      <th>BOOK_URL</th>\n",
       "    </tr>\n",
       "  </thead>\n",
       "  <tbody>\n",
       "    <tr>\n",
       "      <th>0</th>\n",
       "      <td>Reward is enough</td>\n",
       "      <td>David Silver, Satinder Singh, Doina Precup, Ri...</td>\n",
       "      <td>October 2021</td>\n",
       "      <td>Reward is enough</td>\n",
       "    </tr>\n",
       "    <tr>\n",
       "      <th>1</th>\n",
       "      <td>Explanation in artificial intelligence: Insigh...</td>\n",
       "      <td>Tim Miller</td>\n",
       "      <td>February 2019</td>\n",
       "      <td>Explanation in artificial intelligence: Insigh...</td>\n",
       "    </tr>\n",
       "    <tr>\n",
       "      <th>2</th>\n",
       "      <td>Creativity and artificial intelligence</td>\n",
       "      <td>Margaret A. Boden</td>\n",
       "      <td>August 1998</td>\n",
       "      <td>Creativity and artificial intelligence</td>\n",
       "    </tr>\n",
       "    <tr>\n",
       "      <th>3</th>\n",
       "      <td>Conflict-based search for optimal multi-agent ...</td>\n",
       "      <td>Guni Sharon, Roni Stern, Ariel Felner, Nathan ...</td>\n",
       "      <td>February 2015</td>\n",
       "      <td>Conflict-based search for optimal multi-agent ...</td>\n",
       "    </tr>\n",
       "    <tr>\n",
       "      <th>4</th>\n",
       "      <td>Knowledge graphs as tools for explainable mach...</td>\n",
       "      <td>Ilaria Tiddi, Stefan Schlobach</td>\n",
       "      <td>January 2022</td>\n",
       "      <td>Knowledge graphs as tools for explainable mach...</td>\n",
       "    </tr>\n",
       "    <tr>\n",
       "      <th>5</th>\n",
       "      <td>Law and logic: A review from an argumentation ...</td>\n",
       "      <td>Henry Prakken, Giovanni Sartor</td>\n",
       "      <td>October 2015</td>\n",
       "      <td>Law and logic: A review from an argumentation ...</td>\n",
       "    </tr>\n",
       "    <tr>\n",
       "      <th>6</th>\n",
       "      <td>Between MDPs and semi-MDPs: A framework for te...</td>\n",
       "      <td>Richard S. Sutton, Doina Precup, Satinder Singh</td>\n",
       "      <td>August 1999</td>\n",
       "      <td>Between MDPs and semi-MDPs: A framework for te...</td>\n",
       "    </tr>\n",
       "    <tr>\n",
       "      <th>7</th>\n",
       "      <td>Explaining individual predictions when feature...</td>\n",
       "      <td>Kjersti Aas, Martin Jullum, Anders Løland</td>\n",
       "      <td>September 2021</td>\n",
       "      <td>Explaining individual predictions when feature...</td>\n",
       "    </tr>\n",
       "    <tr>\n",
       "      <th>8</th>\n",
       "      <td>Multiple object tracking: A literature review</td>\n",
       "      <td>Wenhan Luo, Junliang Xing and 4 more</td>\n",
       "      <td>April 2021</td>\n",
       "      <td>Multiple object tracking: A literature review</td>\n",
       "    </tr>\n",
       "    <tr>\n",
       "      <th>9</th>\n",
       "      <td>A survey of inverse reinforcement learning: Ch...</td>\n",
       "      <td>Saurabh Arora, Prashant Doshi</td>\n",
       "      <td>August 2021</td>\n",
       "      <td>A survey of inverse reinforcement learning: Ch...</td>\n",
       "    </tr>\n",
       "    <tr>\n",
       "      <th>10</th>\n",
       "      <td>Evaluating XAI: A comparison of rule-based and...</td>\n",
       "      <td>Jasper van der Waa, Elisabeth Nieuwburg, Anita...</td>\n",
       "      <td>February 2021</td>\n",
       "      <td>Evaluating XAI: A comparison of rule-based and...</td>\n",
       "    </tr>\n",
       "    <tr>\n",
       "      <th>11</th>\n",
       "      <td>Explainable AI tools for legal reasoning about...</td>\n",
       "      <td>Joe Collenette, Katie Atkinson, Trevor Bench-C...</td>\n",
       "      <td>April 2023</td>\n",
       "      <td>Explainable AI tools for legal reasoning about...</td>\n",
       "    </tr>\n",
       "    <tr>\n",
       "      <th>12</th>\n",
       "      <td>Hard choices in artificial intelligence</td>\n",
       "      <td>Roel Dobbe, Thomas Krendl Gilbert, Yonatan Mintz</td>\n",
       "      <td>November 2021</td>\n",
       "      <td>Hard choices in artificial intelligence</td>\n",
       "    </tr>\n",
       "    <tr>\n",
       "      <th>13</th>\n",
       "      <td>Assessing the communication gap between AI mod...</td>\n",
       "      <td>Oskar Wysocki, Jessica Katharine Davies and 5 ...</td>\n",
       "      <td>March 2023</td>\n",
       "      <td>Assessing the communication gap between AI mod...</td>\n",
       "    </tr>\n",
       "    <tr>\n",
       "      <th>14</th>\n",
       "      <td>Explaining black-box classifiers using post-ho...</td>\n",
       "      <td>Eoin M. Kenny, Courtney Ford, Molly Quinn, Mar...</td>\n",
       "      <td>May 2021</td>\n",
       "      <td>Explaining black-box classifiers using post-ho...</td>\n",
       "    </tr>\n",
       "    <tr>\n",
       "      <th>15</th>\n",
       "      <td>The Hanabi challenge: A new frontier for AI re...</td>\n",
       "      <td>Nolan Bard, Jakob N. Foerster and 13 more</td>\n",
       "      <td>March 2020</td>\n",
       "      <td>The Hanabi challenge: A new frontier for AI re...</td>\n",
       "    </tr>\n",
       "    <tr>\n",
       "      <th>16</th>\n",
       "      <td>Wrappers for feature subset selection</td>\n",
       "      <td>Ron Kohavi, George H. John</td>\n",
       "      <td>December 1997</td>\n",
       "      <td>Wrappers for feature subset selection</td>\n",
       "    </tr>\n",
       "    <tr>\n",
       "      <th>17</th>\n",
       "      <td>Artificial cognition for social human–robot in...</td>\n",
       "      <td>Séverin Lemaignan, Mathieu Warnier and 3 more</td>\n",
       "      <td>June 2017</td>\n",
       "      <td>Artificial cognition for social human–robot in...</td>\n",
       "    </tr>\n",
       "    <tr>\n",
       "      <th>18</th>\n",
       "      <td>A review of possible effects of cognitive bias...</td>\n",
       "      <td>Tomáš Kliegr, Štěpán Bahník, Johannes Fürnkranz</td>\n",
       "      <td>June 2021</td>\n",
       "      <td>A review of possible effects of cognitive bias...</td>\n",
       "    </tr>\n",
       "    <tr>\n",
       "      <th>19</th>\n",
       "      <td>The multifaceted impact of Ada Lovelace in the...</td>\n",
       "      <td>Luigia Carlucci Aiello</td>\n",
       "      <td>June 2016</td>\n",
       "      <td>The multifaceted impact of Ada Lovelace in the...</td>\n",
       "    </tr>\n",
       "    <tr>\n",
       "      <th>20</th>\n",
       "      <td>Robot ethics: Mapping the issues for a mechani...</td>\n",
       "      <td>Patrick Lin, Keith Abney, George Bekey</td>\n",
       "      <td>April 2011</td>\n",
       "      <td>Robot ethics: Mapping the issues for a mechani...</td>\n",
       "    </tr>\n",
       "    <tr>\n",
       "      <th>21</th>\n",
       "      <td>Reward (Mis)design for autonomous driving</td>\n",
       "      <td>W. Bradley Knox, Alessandro Allievi and 3 more</td>\n",
       "      <td>March 2023</td>\n",
       "      <td>Reward (Mis)design for autonomous driving</td>\n",
       "    </tr>\n",
       "    <tr>\n",
       "      <th>22</th>\n",
       "      <td>Planning and acting in partially observable st...</td>\n",
       "      <td>Leslie Pack Kaelbling, Michael L. Littman, Ant...</td>\n",
       "      <td>May 1998</td>\n",
       "      <td>Planning and acting in partially observable st...</td>\n",
       "    </tr>\n",
       "    <tr>\n",
       "      <th>23</th>\n",
       "      <td>What do we want from Explainable Artificial In...</td>\n",
       "      <td>Markus Langer, Daniel Oster and 6 more</td>\n",
       "      <td>July 2021</td>\n",
       "      <td>What do we want from Explainable Artificial In...</td>\n",
       "    </tr>\n",
       "  </tbody>\n",
       "</table>\n",
       "</div>"
      ],
      "text/plain": [
       "                                          PAPER_TITLE  \\\n",
       "0                                    Reward is enough   \n",
       "1   Explanation in artificial intelligence: Insigh...   \n",
       "2              Creativity and artificial intelligence   \n",
       "3   Conflict-based search for optimal multi-agent ...   \n",
       "4   Knowledge graphs as tools for explainable mach...   \n",
       "5   Law and logic: A review from an argumentation ...   \n",
       "6   Between MDPs and semi-MDPs: A framework for te...   \n",
       "7   Explaining individual predictions when feature...   \n",
       "8       Multiple object tracking: A literature review   \n",
       "9   A survey of inverse reinforcement learning: Ch...   \n",
       "10  Evaluating XAI: A comparison of rule-based and...   \n",
       "11  Explainable AI tools for legal reasoning about...   \n",
       "12            Hard choices in artificial intelligence   \n",
       "13  Assessing the communication gap between AI mod...   \n",
       "14  Explaining black-box classifiers using post-ho...   \n",
       "15  The Hanabi challenge: A new frontier for AI re...   \n",
       "16              Wrappers for feature subset selection   \n",
       "17  Artificial cognition for social human–robot in...   \n",
       "18  A review of possible effects of cognitive bias...   \n",
       "19  The multifaceted impact of Ada Lovelace in the...   \n",
       "20  Robot ethics: Mapping the issues for a mechani...   \n",
       "21          Reward (Mis)design for autonomous driving   \n",
       "22  Planning and acting in partially observable st...   \n",
       "23  What do we want from Explainable Artificial In...   \n",
       "\n",
       "                                         AUTHORS_NAME  PUBLISHED_DATE  \\\n",
       "0   David Silver, Satinder Singh, Doina Precup, Ri...    October 2021   \n",
       "1                                         Tim Miller    February 2019   \n",
       "2                                  Margaret A. Boden      August 1998   \n",
       "3   Guni Sharon, Roni Stern, Ariel Felner, Nathan ...   February 2015   \n",
       "4                     Ilaria Tiddi, Stefan Schlobach     January 2022   \n",
       "5                     Henry Prakken, Giovanni Sartor     October 2015   \n",
       "6    Richard S. Sutton, Doina Precup, Satinder Singh      August 1999   \n",
       "7          Kjersti Aas, Martin Jullum, Anders Løland   September 2021   \n",
       "8                Wenhan Luo, Junliang Xing and 4 more      April 2021   \n",
       "9                      Saurabh Arora, Prashant Doshi      August 2021   \n",
       "10  Jasper van der Waa, Elisabeth Nieuwburg, Anita...   February 2021   \n",
       "11  Joe Collenette, Katie Atkinson, Trevor Bench-C...      April 2023   \n",
       "12  Roel Dobbe, Thomas Krendl Gilbert, Yonatan Mintz    November 2021   \n",
       "13  Oskar Wysocki, Jessica Katharine Davies and 5 ...      March 2023   \n",
       "14  Eoin M. Kenny, Courtney Ford, Molly Quinn, Mar...        May 2021   \n",
       "15          Nolan Bard, Jakob N. Foerster and 13 more      March 2020   \n",
       "16                        Ron Kohavi, George H. John    December 1997   \n",
       "17      Séverin Lemaignan, Mathieu Warnier and 3 more       June 2017   \n",
       "18   Tomáš Kliegr, Štěpán Bahník, Johannes Fürnkranz        June 2021   \n",
       "19                            Luigia Carlucci Aiello        June 2016   \n",
       "20            Patrick Lin, Keith Abney, George Bekey       April 2011   \n",
       "21     W. Bradley Knox, Alessandro Allievi and 3 more      March 2023   \n",
       "22  Leslie Pack Kaelbling, Michael L. Littman, Ant...        May 1998   \n",
       "23             Markus Langer, Daniel Oster and 6 more       July 2021   \n",
       "\n",
       "                                             BOOK_URL  \n",
       "0                                    Reward is enough  \n",
       "1   Explanation in artificial intelligence: Insigh...  \n",
       "2              Creativity and artificial intelligence  \n",
       "3   Conflict-based search for optimal multi-agent ...  \n",
       "4   Knowledge graphs as tools for explainable mach...  \n",
       "5   Law and logic: A review from an argumentation ...  \n",
       "6   Between MDPs and semi-MDPs: A framework for te...  \n",
       "7   Explaining individual predictions when feature...  \n",
       "8       Multiple object tracking: A literature review  \n",
       "9   A survey of inverse reinforcement learning: Ch...  \n",
       "10  Evaluating XAI: A comparison of rule-based and...  \n",
       "11  Explainable AI tools for legal reasoning about...  \n",
       "12            Hard choices in artificial intelligence  \n",
       "13  Assessing the communication gap between AI mod...  \n",
       "14  Explaining black-box classifiers using post-ho...  \n",
       "15  The Hanabi challenge: A new frontier for AI re...  \n",
       "16              Wrappers for feature subset selection  \n",
       "17  Artificial cognition for social human–robot in...  \n",
       "18  A review of possible effects of cognitive bias...  \n",
       "19  The multifaceted impact of Ada Lovelace in the...  \n",
       "20  Robot ethics: Mapping the issues for a mechani...  \n",
       "21          Reward (Mis)design for autonomous driving  \n",
       "22  Planning and acting in partially observable st...  \n",
       "23  What do we want from Explainable Artificial In...  "
      ]
     },
     "execution_count": 150,
     "metadata": {},
     "output_type": "execute_result"
    }
   ],
   "source": [
    "df=pd.DataFrame({'PAPER_TITLE':paper_title,'AUTHORS_NAME':authors,'PUBLISHED_DATE':date,'BOOK_URL':url})\n",
    "df"
   ]
  },
  {
   "cell_type": "code",
   "execution_count": null,
   "id": "bdbb8f25",
   "metadata": {},
   "outputs": [],
   "source": []
  },
  {
   "cell_type": "markdown",
   "id": "34680352",
   "metadata": {},
   "source": [
    "# 7) Write a python program to scrape mentioned details from dineout.co.inand make data frame- \n",
    "\n",
    "i) Restaurant name"
   ]
  },
  {
   "cell_type": "code",
   "execution_count": 151,
   "id": "d77aecf4",
   "metadata": {},
   "outputs": [
    {
     "data": {
      "text/plain": [
       "<Response [200]>"
      ]
     },
     "execution_count": 151,
     "metadata": {},
     "output_type": "execute_result"
    }
   ],
   "source": [
    "url=\"https://www.dineout.co.in/delhi-restaurants/buffet-special\"\n",
    "status=requests.get(url)\n",
    "status"
   ]
  },
  {
   "cell_type": "code",
   "execution_count": 154,
   "id": "e18e0b39",
   "metadata": {},
   "outputs": [],
   "source": [
    "soup=BeautifulSoup(status.text)\n",
    "# soup "
   ]
  },
  {
   "cell_type": "markdown",
   "id": "46e190ec",
   "metadata": {},
   "source": [
    "# 1) Restaurant Name"
   ]
  },
  {
   "cell_type": "code",
   "execution_count": 157,
   "id": "f6306244",
   "metadata": {},
   "outputs": [
    {
     "data": {
      "text/plain": [
       "['Castle Barbeque',\n",
       " 'Cafe Knosh',\n",
       " 'India Grill',\n",
       " 'The Barbeque Company',\n",
       " 'Delhi Barbeque',\n",
       " 'The Monarch - Bar Be Que Village',\n",
       " 'Indian Grill Room',\n",
       " 'The Barbeque Times']"
      ]
     },
     "execution_count": 157,
     "metadata": {},
     "output_type": "execute_result"
    }
   ],
   "source": [
    "name=[]\n",
    "for i in soup.find_all('a',class_=\"restnt-name ellipsis\"):\n",
    "    name.append(i.text)\n",
    "    \n",
    "name"
   ]
  },
  {
   "cell_type": "markdown",
   "id": "3704fc53",
   "metadata": {},
   "source": [
    "# ii) Cuisine"
   ]
  },
  {
   "cell_type": "code",
   "execution_count": 159,
   "id": "bfdc29ee",
   "metadata": {},
   "outputs": [
    {
     "data": {
      "text/plain": [
       "['@ 2,000 for 2 (approx) | Chinese, North Indian',\n",
       " '@ 3,000 for 2 (approx) | Italian, Continental',\n",
       " '@ 2,400 for 2 (approx) | North Indian, Italian',\n",
       " '@ 1,700 for 2 (approx) | North Indian, Chinese',\n",
       " '@ 1,800 for 2 (approx) | North Indian',\n",
       " '@ 1,900 for 2 (approx) | North Indian',\n",
       " '@ 2,200 for 2 (approx) | North Indian, Mughlai',\n",
       " '@ 1,500 for 2 (approx) | North Indian, Continental, Chinese, South Indian']"
      ]
     },
     "execution_count": 159,
     "metadata": {},
     "output_type": "execute_result"
    }
   ],
   "source": [
    "cuisine=[]\n",
    "for i in soup.find_all('span',class_=\"double-line-ellipsis\"):\n",
    "    cuisine.append(i.text.replace('₹','@'))\n",
    "    \n",
    "cuisine"
   ]
  },
  {
   "cell_type": "markdown",
   "id": "61b363c0",
   "metadata": {},
   "source": [
    "# iii) Location"
   ]
  },
  {
   "cell_type": "code",
   "execution_count": 162,
   "id": "3e11bde2",
   "metadata": {},
   "outputs": [
    {
     "data": {
      "text/plain": [
       "['Connaught Place, Central Delhi',\n",
       " 'The Leela Ambience Convention Hotel,Shahdara, East Delhi',\n",
       " 'Hilton Garden Inn,Saket, South Delhi',\n",
       " 'Gardens Galleria,Sector 38A, Noida',\n",
       " 'Taurus Sarovar Portico,Mahipalpur, South Delhi',\n",
       " 'Indirapuram Habitat Centre,Indirapuram, Ghaziabad',\n",
       " 'Suncity Business Tower,Golf Course Road, Gurgaon',\n",
       " 'M2K Corporate Park,Sector 51, Gurgaon']"
      ]
     },
     "execution_count": 162,
     "metadata": {},
     "output_type": "execute_result"
    }
   ],
   "source": [
    "loc=[]\n",
    "for i in soup.find_all('div',class_=\"restnt-loc ellipsis\"):\n",
    "    loc.append(i.text)\n",
    "    \n",
    "loc"
   ]
  },
  {
   "cell_type": "code",
   "execution_count": null,
   "id": "bbedff70",
   "metadata": {},
   "outputs": [],
   "source": []
  },
  {
   "cell_type": "markdown",
   "id": "d0c4afab",
   "metadata": {},
   "source": [
    "# iv) Ratings"
   ]
  },
  {
   "cell_type": "code",
   "execution_count": 164,
   "id": "553fcc0c",
   "metadata": {},
   "outputs": [
    {
     "data": {
      "text/plain": [
       "['4', '4.3', '3.9', '3.9', '3.7', '3.8', '4.3', '4.1']"
      ]
     },
     "execution_count": 164,
     "metadata": {},
     "output_type": "execute_result"
    }
   ],
   "source": [
    "ratings=[]\n",
    "for i in soup.find_all('div',class_=\"restnt-rating rating-4\"):\n",
    "    ratings.append(i.text)\n",
    "    \n",
    "ratings"
   ]
  },
  {
   "cell_type": "code",
   "execution_count": null,
   "id": "5a2c4208",
   "metadata": {},
   "outputs": [],
   "source": []
  },
  {
   "cell_type": "markdown",
   "id": "2e53ced6",
   "metadata": {},
   "source": [
    "# v) Image URL"
   ]
  },
  {
   "cell_type": "code",
   "execution_count": 168,
   "id": "5debd8e6",
   "metadata": {},
   "outputs": [
    {
     "data": {
      "text/plain": [
       "['https://im1.dineout.co.in/images/uploads/restaurant/sharpen/8/k/b/p86792-16062953735fbe1f4d3fb7e.jpg?tr=tr:n-medium',\n",
       " 'https://im1.dineout.co.in/images/uploads/restaurant/sharpen/4/p/m/p406-15438184745c04ccea491bc.jpg?tr=tr:n-medium',\n",
       " 'https://im1.dineout.co.in/images/uploads/restaurant/sharpen/2/q/t/p2687-169589385765154961ea87c.jpg?tr=tr:n-medium',\n",
       " 'https://im1.dineout.co.in/images/uploads/restaurant/sharpen/7/p/k/p79307-16051787755fad1597f2bf9.jpg?tr=tr:n-medium',\n",
       " 'https://im1.dineout.co.in/images/uploads/restaurant/sharpen/5/d/i/p52501-1661855212630de5eceb6d2.jpg?tr=tr:n-medium',\n",
       " 'https://im1.dineout.co.in/images/uploads/restaurant/sharpen/3/n/o/p34822-15599107305cfa594a13c24.jpg?tr=tr:n-medium',\n",
       " 'https://im1.dineout.co.in/images/uploads/restaurant/sharpen/5/y/f/p549-165000147262590640c0afc.jpg?tr=tr:n-medium',\n",
       " 'https://im1.dineout.co.in/images/uploads/restaurant/sharpen/1/u/r/p106428-166073786162fcd945925a9.jpg?tr=tr:n-medium']"
      ]
     },
     "execution_count": 168,
     "metadata": {},
     "output_type": "execute_result"
    }
   ],
   "source": [
    "image=[]\n",
    "for i in soup.find_all('img',class_=\"no-img\"):\n",
    "    image.append(i['data-src'])\n",
    "    \n",
    "image"
   ]
  },
  {
   "cell_type": "code",
   "execution_count": 177,
   "id": "7af93db7",
   "metadata": {},
   "outputs": [
    {
     "name": "stdout",
     "output_type": "stream",
     "text": [
      "8 8 8 8 8\n"
     ]
    }
   ],
   "source": [
    "print(len(name),len(cuisine),len(ratings),len(image),len(loc))"
   ]
  },
  {
   "cell_type": "code",
   "execution_count": 178,
   "id": "6b36e608",
   "metadata": {
    "collapsed": true
   },
   "outputs": [
    {
     "data": {
      "text/html": [
       "<div>\n",
       "<style scoped>\n",
       "    .dataframe tbody tr th:only-of-type {\n",
       "        vertical-align: middle;\n",
       "    }\n",
       "\n",
       "    .dataframe tbody tr th {\n",
       "        vertical-align: top;\n",
       "    }\n",
       "\n",
       "    .dataframe thead th {\n",
       "        text-align: right;\n",
       "    }\n",
       "</style>\n",
       "<table border=\"1\" class=\"dataframe\">\n",
       "  <thead>\n",
       "    <tr style=\"text-align: right;\">\n",
       "      <th></th>\n",
       "      <th>RESTAURANT_NAME</th>\n",
       "      <th>CUISINE</th>\n",
       "      <th>RATINGS</th>\n",
       "      <th>LOCATION</th>\n",
       "      <th>IMAGE_URL</th>\n",
       "    </tr>\n",
       "  </thead>\n",
       "  <tbody>\n",
       "    <tr>\n",
       "      <th>0</th>\n",
       "      <td>Castle Barbeque</td>\n",
       "      <td>@ 2,000 for 2 (approx) | Chinese, North Indian</td>\n",
       "      <td>4</td>\n",
       "      <td>Connaught Place, Central Delhi</td>\n",
       "      <td>https://im1.dineout.co.in/images/uploads/resta...</td>\n",
       "    </tr>\n",
       "    <tr>\n",
       "      <th>1</th>\n",
       "      <td>Cafe Knosh</td>\n",
       "      <td>@ 3,000 for 2 (approx) | Italian, Continental</td>\n",
       "      <td>4.3</td>\n",
       "      <td>The Leela Ambience Convention Hotel,Shahdara, ...</td>\n",
       "      <td>https://im1.dineout.co.in/images/uploads/resta...</td>\n",
       "    </tr>\n",
       "    <tr>\n",
       "      <th>2</th>\n",
       "      <td>India Grill</td>\n",
       "      <td>@ 2,400 for 2 (approx) | North Indian, Italian</td>\n",
       "      <td>3.9</td>\n",
       "      <td>Hilton Garden Inn,Saket, South Delhi</td>\n",
       "      <td>https://im1.dineout.co.in/images/uploads/resta...</td>\n",
       "    </tr>\n",
       "    <tr>\n",
       "      <th>3</th>\n",
       "      <td>The Barbeque Company</td>\n",
       "      <td>@ 1,700 for 2 (approx) | North Indian, Chinese</td>\n",
       "      <td>3.9</td>\n",
       "      <td>Gardens Galleria,Sector 38A, Noida</td>\n",
       "      <td>https://im1.dineout.co.in/images/uploads/resta...</td>\n",
       "    </tr>\n",
       "    <tr>\n",
       "      <th>4</th>\n",
       "      <td>Delhi Barbeque</td>\n",
       "      <td>@ 1,800 for 2 (approx) | North Indian</td>\n",
       "      <td>3.7</td>\n",
       "      <td>Taurus Sarovar Portico,Mahipalpur, South Delhi</td>\n",
       "      <td>https://im1.dineout.co.in/images/uploads/resta...</td>\n",
       "    </tr>\n",
       "    <tr>\n",
       "      <th>5</th>\n",
       "      <td>The Monarch - Bar Be Que Village</td>\n",
       "      <td>@ 1,900 for 2 (approx) | North Indian</td>\n",
       "      <td>3.8</td>\n",
       "      <td>Indirapuram Habitat Centre,Indirapuram, Ghaziabad</td>\n",
       "      <td>https://im1.dineout.co.in/images/uploads/resta...</td>\n",
       "    </tr>\n",
       "    <tr>\n",
       "      <th>6</th>\n",
       "      <td>Indian Grill Room</td>\n",
       "      <td>@ 2,200 for 2 (approx) | North Indian, Mughlai</td>\n",
       "      <td>4.3</td>\n",
       "      <td>Suncity Business Tower,Golf Course Road, Gurgaon</td>\n",
       "      <td>https://im1.dineout.co.in/images/uploads/resta...</td>\n",
       "    </tr>\n",
       "    <tr>\n",
       "      <th>7</th>\n",
       "      <td>The Barbeque Times</td>\n",
       "      <td>@ 1,500 for 2 (approx) | North Indian, Contine...</td>\n",
       "      <td>4.1</td>\n",
       "      <td>M2K Corporate Park,Sector 51, Gurgaon</td>\n",
       "      <td>https://im1.dineout.co.in/images/uploads/resta...</td>\n",
       "    </tr>\n",
       "  </tbody>\n",
       "</table>\n",
       "</div>"
      ],
      "text/plain": [
       "                    RESTAURANT_NAME  \\\n",
       "0                   Castle Barbeque   \n",
       "1                        Cafe Knosh   \n",
       "2                       India Grill   \n",
       "3              The Barbeque Company   \n",
       "4                    Delhi Barbeque   \n",
       "5  The Monarch - Bar Be Que Village   \n",
       "6                 Indian Grill Room   \n",
       "7                The Barbeque Times   \n",
       "\n",
       "                                             CUISINE RATINGS  \\\n",
       "0     @ 2,000 for 2 (approx) | Chinese, North Indian       4   \n",
       "1      @ 3,000 for 2 (approx) | Italian, Continental     4.3   \n",
       "2     @ 2,400 for 2 (approx) | North Indian, Italian     3.9   \n",
       "3     @ 1,700 for 2 (approx) | North Indian, Chinese     3.9   \n",
       "4              @ 1,800 for 2 (approx) | North Indian     3.7   \n",
       "5              @ 1,900 for 2 (approx) | North Indian     3.8   \n",
       "6     @ 2,200 for 2 (approx) | North Indian, Mughlai     4.3   \n",
       "7  @ 1,500 for 2 (approx) | North Indian, Contine...     4.1   \n",
       "\n",
       "                                            LOCATION  \\\n",
       "0                     Connaught Place, Central Delhi   \n",
       "1  The Leela Ambience Convention Hotel,Shahdara, ...   \n",
       "2               Hilton Garden Inn,Saket, South Delhi   \n",
       "3                 Gardens Galleria,Sector 38A, Noida   \n",
       "4     Taurus Sarovar Portico,Mahipalpur, South Delhi   \n",
       "5  Indirapuram Habitat Centre,Indirapuram, Ghaziabad   \n",
       "6   Suncity Business Tower,Golf Course Road, Gurgaon   \n",
       "7              M2K Corporate Park,Sector 51, Gurgaon   \n",
       "\n",
       "                                           IMAGE_URL  \n",
       "0  https://im1.dineout.co.in/images/uploads/resta...  \n",
       "1  https://im1.dineout.co.in/images/uploads/resta...  \n",
       "2  https://im1.dineout.co.in/images/uploads/resta...  \n",
       "3  https://im1.dineout.co.in/images/uploads/resta...  \n",
       "4  https://im1.dineout.co.in/images/uploads/resta...  \n",
       "5  https://im1.dineout.co.in/images/uploads/resta...  \n",
       "6  https://im1.dineout.co.in/images/uploads/resta...  \n",
       "7  https://im1.dineout.co.in/images/uploads/resta...  "
      ]
     },
     "execution_count": 178,
     "metadata": {},
     "output_type": "execute_result"
    }
   ],
   "source": [
    "df=pd.DataFrame({'RESTAURANT_NAME':name,'CUISINE':cuisine,'RATINGS':ratings,'LOCATION':loc,'IMAGE_URL':image})\n",
    "df"
   ]
  },
  {
   "cell_type": "markdown",
   "id": "a2e7e181",
   "metadata": {},
   "source": [
    "\n",
    " \n",
    " \n",
    " \n",
    "                                                                                     Navin Singh\n",
    "                                                                                      30/10/2023"
   ]
  }
 ],
 "metadata": {
  "kernelspec": {
   "display_name": "Python 3 (ipykernel)",
   "language": "python",
   "name": "python3"
  },
  "language_info": {
   "codemirror_mode": {
    "name": "ipython",
    "version": 3
   },
   "file_extension": ".py",
   "mimetype": "text/x-python",
   "name": "python",
   "nbconvert_exporter": "python",
   "pygments_lexer": "ipython3",
   "version": "3.10.12"
  }
 },
 "nbformat": 4,
 "nbformat_minor": 5
}
