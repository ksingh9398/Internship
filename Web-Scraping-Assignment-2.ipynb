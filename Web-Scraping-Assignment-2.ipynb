{
 "cells": [
  {
   "cell_type": "code",
   "execution_count": 1,
   "id": "29aa215d",
   "metadata": {},
   "outputs": [],
   "source": [
    "import selenium\n",
    "from selenium import webdriver\n",
    "from selenium.webdriver.common.by import By\n",
    "import warnings\n",
    "warnings.filterwarnings('ignore')\n",
    "import time\n",
    "import pandas as pd"
   ]
  },
  {
   "cell_type": "markdown",
   "id": "864eec01",
   "metadata": {},
   "source": [
    "# Q1: Write a python program to scrape data for “Data Analyst” Job position in “Bangalore” location. You have to scrape the job-title, job-location, company_name, experience_required. You have to scrape first 10 jobs data."
   ]
  },
  {
   "cell_type": "code",
   "execution_count": 2,
   "id": "115f9262",
   "metadata": {},
   "outputs": [],
   "source": [
    "driver=webdriver.Chrome()"
   ]
  },
  {
   "cell_type": "code",
   "execution_count": 3,
   "id": "8993884d",
   "metadata": {},
   "outputs": [],
   "source": [
    "driver.get('https://www.shine.com/')"
   ]
  },
  {
   "cell_type": "code",
   "execution_count": null,
   "id": "830c71f0",
   "metadata": {},
   "outputs": [],
   "source": [
    "clk=driver.find_element(By.XPATH,'//*[@id=\"mobileSearchBar\"]/span/span[1]')\n",
    "clk.click()"
   ]
  },
  {
   "cell_type": "code",
   "execution_count": null,
   "id": "507be62b",
   "metadata": {},
   "outputs": [],
   "source": [
    "post=driver.find_element(By.CLASS_NAME,'form-control  ')\n",
    "post.send_keys('Data Analyst')\n",
    "\n",
    "loc=driver.find_element(By.XPATH,'//*[@id=\"id_loc\"]')\n",
    "loc.send_keys('Bangalore')\n",
    "\n",
    "search=driver.find_element(By.XPATH,'//*[@id=\"__next\"]/div[4]/div/div[2]/div[2]/div/form/div/div[2]/div/button')\n",
    "search.click()"
   ]
  },
  {
   "cell_type": "code",
   "execution_count": 17,
   "id": "3f63b08b",
   "metadata": {},
   "outputs": [
    {
     "data": {
      "text/plain": [
       "selenium.webdriver.remote.webelement.WebElement"
      ]
     },
     "execution_count": 17,
     "metadata": {},
     "output_type": "execute_result"
    }
   ],
   "source": [
    "type(search)"
   ]
  },
  {
   "cell_type": "code",
   "execution_count": 18,
   "id": "624ec472",
   "metadata": {},
   "outputs": [],
   "source": [
    "jobs=[]\n",
    "job=driver.find_elements(By.CLASS_NAME,'false')\n",
    "for i in job:\n",
    "    jobs.append(i.text)\n",
    "\n",
    "# print(jobs)"
   ]
  },
  {
   "cell_type": "code",
   "execution_count": null,
   "id": "d366a9c6",
   "metadata": {},
   "outputs": [],
   "source": []
  },
  {
   "cell_type": "code",
   "execution_count": 20,
   "id": "302dfada",
   "metadata": {},
   "outputs": [
    {
     "name": "stdout",
     "output_type": "stream",
     "text": [
      "                                   JOBS_With_Details\n",
      "0  6 days ago\\nData Analyst Vacancy\\ndivya interp...\n",
      "1                                                   \n",
      "2  6 days ago\\nData Analyst Vacancy\\ndivya interp...\n",
      "3                                                   \n",
      "4                                                   \n",
      "5                                                   \n",
      "6                                                   \n",
      "7                                                   \n",
      "8                                                   \n",
      "9                                                   \n"
     ]
    }
   ],
   "source": [
    "df=pd.DataFrame(data=jobs,columns=['JOBS_With_Details'])\n",
    "print(df.head(10))"
   ]
  },
  {
   "cell_type": "code",
   "execution_count": null,
   "id": "006a7a1d",
   "metadata": {},
   "outputs": [],
   "source": []
  },
  {
   "cell_type": "markdown",
   "id": "e35491b9",
   "metadata": {},
   "source": [
    "Q2:Write a python program to scrape data for “Data Scientist” Job position in“Bangalore” location. You have to scrape the job-title, job-location, company_name. You have to scrape first 10 jobs data. This task will be done in following steps:\n",
    "\n",
    "This task will be done in following steps:\n",
    "1. First get the webpage https://www.shine.com/\n",
    "2. Enter “Data Scientist” in “Job title, Skills” field and enter “Bangalore” in “enter thelocation” field.\n",
    "3. Then click the search button.\n",
    "4. Then scrape the data for the first 10 jobs results you get.\n",
    "5. Finally create a dataframe of the scraped data."
   ]
  },
  {
   "cell_type": "code",
   "execution_count": 2,
   "id": "7c1ba1a5",
   "metadata": {},
   "outputs": [],
   "source": [
    "driver=webdriver.Chrome()\n",
    "driver.get('https://www.shine.com/')"
   ]
  },
  {
   "cell_type": "code",
   "execution_count": 3,
   "id": "a7fb9055",
   "metadata": {},
   "outputs": [],
   "source": [
    "post=driver.find_element(By.CLASS_NAME,'form-control  ')\n",
    "post.send_keys('Data Scientist')\n",
    "\n",
    "loc=driver.find_element(By.XPATH,'//*[@id=\"id_loc\"]')\n",
    "loc.send_keys('Bangalore')\n",
    "\n",
    "search=driver.find_element(By.XPATH,'//*[@id=\"__next\"]/div[4]/div/div[2]/div[2]/div/form/div/div[2]/div/button')\n",
    "search.click()"
   ]
  },
  {
   "cell_type": "code",
   "execution_count": 4,
   "id": "8618e0ad",
   "metadata": {},
   "outputs": [],
   "source": [
    "job_title=[]\n",
    "job_location=[]\n",
    "company_name=[]"
   ]
  },
  {
   "cell_type": "code",
   "execution_count": 10,
   "id": "e42e15f4",
   "metadata": {},
   "outputs": [],
   "source": [
    "title=driver.find_elements(By.CLASS_NAME,'title ')\n",
    "for i in title:\n",
    "    job_title.append(i.text)"
   ]
  },
  {
   "cell_type": "code",
   "execution_count": 6,
   "id": "f6d53fbf",
   "metadata": {},
   "outputs": [],
   "source": [
    "loc=driver.find_elements(By.CLASS_NAME,'jobCard_locationIcon__zrWt2')\n",
    "for i in loc:\n",
    "    job_location.append(i.text)"
   ]
  },
  {
   "cell_type": "code",
   "execution_count": 30,
   "id": "164d965d",
   "metadata": {},
   "outputs": [],
   "source": [
    "company=driver.find_elements(By.CLASS_NAME,'jobCard_jobCard_cName__mYnow')\n",
    "for i in company:\n",
    "    company_name.append(i.text)"
   ]
  },
  {
   "cell_type": "code",
   "execution_count": 31,
   "id": "5c58e7b8",
   "metadata": {},
   "outputs": [
    {
     "data": {
      "text/plain": [
       "['divya interprises',\n",
       " 'divya interprises',\n",
       " 'the fashion cosmo',\n",
       " 'bosch group',\n",
       " 'shiva hr services',\n",
       " 'bosch group',\n",
       " 'bosch group',\n",
       " 'divya interprises',\n",
       " 'racanaa energy solution private lim...',\n",
       " 'true caller',\n",
       " 'capgemini technology services india...',\n",
       " 'jpmorgan',\n",
       " 'siemens limited',\n",
       " 'mnr solutions pvt ltd',\n",
       " 'bosch group',\n",
       " 'mnr solutions pvt ltd',\n",
       " 'mercede',\n",
       " 'the fashion cosmo',\n",
       " 'bosch group',\n",
       " 'infosys limited']"
      ]
     },
     "execution_count": 31,
     "metadata": {},
     "output_type": "execute_result"
    }
   ],
   "source": [
    "company_name\n",
    "# company_name.clear()"
   ]
  },
  {
   "cell_type": "code",
   "execution_count": 97,
   "id": "e9299c59",
   "metadata": {},
   "outputs": [],
   "source": [
    "# len(company_name)"
   ]
  },
  {
   "cell_type": "code",
   "execution_count": 25,
   "id": "b7eb5d31",
   "metadata": {},
   "outputs": [
    {
     "name": "stdout",
     "output_type": "stream",
     "text": [
      "20 20 20\n"
     ]
    }
   ],
   "source": [
    "print(len(job_title),len(job_location),len(company_name))"
   ]
  },
  {
   "cell_type": "code",
   "execution_count": 32,
   "id": "43e51883",
   "metadata": {},
   "outputs": [
    {
     "data": {
      "text/html": [
       "<div>\n",
       "<style scoped>\n",
       "    .dataframe tbody tr th:only-of-type {\n",
       "        vertical-align: middle;\n",
       "    }\n",
       "\n",
       "    .dataframe tbody tr th {\n",
       "        vertical-align: top;\n",
       "    }\n",
       "\n",
       "    .dataframe thead th {\n",
       "        text-align: right;\n",
       "    }\n",
       "</style>\n",
       "<table border=\"1\" class=\"dataframe\">\n",
       "  <thead>\n",
       "    <tr style=\"text-align: right;\">\n",
       "      <th></th>\n",
       "      <th>JOB_TITLE</th>\n",
       "      <th>JOB_LOCATION</th>\n",
       "      <th>COMPANY_NAME</th>\n",
       "    </tr>\n",
       "  </thead>\n",
       "  <tbody>\n",
       "    <tr>\n",
       "      <th>0</th>\n",
       "      <td>Data Scientist Vacancy</td>\n",
       "      <td>Bangalore\\n+14</td>\n",
       "      <td>divya interprises</td>\n",
       "    </tr>\n",
       "    <tr>\n",
       "      <th>1</th>\n",
       "      <td>Data Scientist Urgent Recruitment</td>\n",
       "      <td>Bangalore\\n+14</td>\n",
       "      <td>divya interprises</td>\n",
       "    </tr>\n",
       "    <tr>\n",
       "      <th>2</th>\n",
       "      <td>Data Scientist- Bangalore</td>\n",
       "      <td>Bangalore</td>\n",
       "      <td>the fashion cosmo</td>\n",
       "    </tr>\n",
       "    <tr>\n",
       "      <th>3</th>\n",
       "      <td>Data Scientist AI ML CV</td>\n",
       "      <td>Bangalore</td>\n",
       "      <td>bosch group</td>\n",
       "    </tr>\n",
       "    <tr>\n",
       "      <th>4</th>\n",
       "      <td>Data Scientist-Bangalore</td>\n",
       "      <td>Bangalore</td>\n",
       "      <td>shiva hr services</td>\n",
       "    </tr>\n",
       "    <tr>\n",
       "      <th>5</th>\n",
       "      <td>Data Scientist AI ML NLP</td>\n",
       "      <td>Bangalore</td>\n",
       "      <td>bosch group</td>\n",
       "    </tr>\n",
       "    <tr>\n",
       "      <th>6</th>\n",
       "      <td>Phd Data Scientist</td>\n",
       "      <td>Bangalore</td>\n",
       "      <td>bosch group</td>\n",
       "    </tr>\n",
       "    <tr>\n",
       "      <th>7</th>\n",
       "      <td>Hiring For Data Scientist</td>\n",
       "      <td>Bangalore\\n+14</td>\n",
       "      <td>divya interprises</td>\n",
       "    </tr>\n",
       "    <tr>\n",
       "      <th>8</th>\n",
       "      <td>Data Scientist</td>\n",
       "      <td>Bangalore</td>\n",
       "      <td>racanaa energy solution private lim...</td>\n",
       "    </tr>\n",
       "    <tr>\n",
       "      <th>9</th>\n",
       "      <td>Staff Data Scientist &amp; Team Lead</td>\n",
       "      <td>Bangalore</td>\n",
       "      <td>true caller</td>\n",
       "    </tr>\n",
       "    <tr>\n",
       "      <th>10</th>\n",
       "      <td>Data scientist</td>\n",
       "      <td>Bangalore\\n+8</td>\n",
       "      <td>capgemini technology services india...</td>\n",
       "    </tr>\n",
       "    <tr>\n",
       "      <th>11</th>\n",
       "      <td>Data Scientist Associate Sr - NLP</td>\n",
       "      <td>Bangalore</td>\n",
       "      <td>jpmorgan</td>\n",
       "    </tr>\n",
       "    <tr>\n",
       "      <th>12</th>\n",
       "      <td>Data Scientist</td>\n",
       "      <td>Bangalore</td>\n",
       "      <td>siemens limited</td>\n",
       "    </tr>\n",
       "    <tr>\n",
       "      <th>13</th>\n",
       "      <td>Data Scientist</td>\n",
       "      <td>Bangalore\\n+1</td>\n",
       "      <td>mnr solutions pvt ltd</td>\n",
       "    </tr>\n",
       "    <tr>\n",
       "      <th>14</th>\n",
       "      <td>Data Scientist</td>\n",
       "      <td>Bangalore</td>\n",
       "      <td>bosch group</td>\n",
       "    </tr>\n",
       "    <tr>\n",
       "      <th>15</th>\n",
       "      <td>Data Scientist</td>\n",
       "      <td>Bangalore\\n+6</td>\n",
       "      <td>mnr solutions pvt ltd</td>\n",
       "    </tr>\n",
       "    <tr>\n",
       "      <th>16</th>\n",
       "      <td>Data scientist Drivetrain</td>\n",
       "      <td>Bangalore</td>\n",
       "      <td>mercede</td>\n",
       "    </tr>\n",
       "    <tr>\n",
       "      <th>17</th>\n",
       "      <td>Data Scientist- Bangalore</td>\n",
       "      <td>Bangalore</td>\n",
       "      <td>the fashion cosmo</td>\n",
       "    </tr>\n",
       "    <tr>\n",
       "      <th>18</th>\n",
       "      <td>Data Architect</td>\n",
       "      <td>Bangalore</td>\n",
       "      <td>bosch group</td>\n",
       "    </tr>\n",
       "    <tr>\n",
       "      <th>19</th>\n",
       "      <td>Data Scientist</td>\n",
       "      <td>Bangalore</td>\n",
       "      <td>infosys limited</td>\n",
       "    </tr>\n",
       "  </tbody>\n",
       "</table>\n",
       "</div>"
      ],
      "text/plain": [
       "                            JOB_TITLE    JOB_LOCATION  \\\n",
       "0              Data Scientist Vacancy  Bangalore\\n+14   \n",
       "1   Data Scientist Urgent Recruitment  Bangalore\\n+14   \n",
       "2           Data Scientist- Bangalore       Bangalore   \n",
       "3             Data Scientist AI ML CV       Bangalore   \n",
       "4            Data Scientist-Bangalore       Bangalore   \n",
       "5            Data Scientist AI ML NLP       Bangalore   \n",
       "6                  Phd Data Scientist       Bangalore   \n",
       "7           Hiring For Data Scientist  Bangalore\\n+14   \n",
       "8                      Data Scientist       Bangalore   \n",
       "9    Staff Data Scientist & Team Lead       Bangalore   \n",
       "10                     Data scientist   Bangalore\\n+8   \n",
       "11  Data Scientist Associate Sr - NLP       Bangalore   \n",
       "12                     Data Scientist       Bangalore   \n",
       "13                     Data Scientist   Bangalore\\n+1   \n",
       "14                     Data Scientist       Bangalore   \n",
       "15                     Data Scientist   Bangalore\\n+6   \n",
       "16          Data scientist Drivetrain       Bangalore   \n",
       "17          Data Scientist- Bangalore       Bangalore   \n",
       "18                     Data Architect       Bangalore   \n",
       "19                     Data Scientist       Bangalore   \n",
       "\n",
       "                              COMPANY_NAME  \n",
       "0                        divya interprises  \n",
       "1                        divya interprises  \n",
       "2                        the fashion cosmo  \n",
       "3                              bosch group  \n",
       "4                        shiva hr services  \n",
       "5                              bosch group  \n",
       "6                              bosch group  \n",
       "7                        divya interprises  \n",
       "8   racanaa energy solution private lim...  \n",
       "9                              true caller  \n",
       "10  capgemini technology services india...  \n",
       "11                                jpmorgan  \n",
       "12                         siemens limited  \n",
       "13                   mnr solutions pvt ltd  \n",
       "14                             bosch group  \n",
       "15                   mnr solutions pvt ltd  \n",
       "16                                 mercede  \n",
       "17                       the fashion cosmo  \n",
       "18                             bosch group  \n",
       "19                         infosys limited  "
      ]
     },
     "execution_count": 32,
     "metadata": {},
     "output_type": "execute_result"
    }
   ],
   "source": [
    "import pandas as pd\n",
    "df=pd.DataFrame({'JOB_TITLE':job_title,'JOB_LOCATION':job_location,'COMPANY_NAME':company_name})\n",
    "df"
   ]
  },
  {
   "cell_type": "code",
   "execution_count": null,
   "id": "b226955f",
   "metadata": {},
   "outputs": [],
   "source": []
  },
  {
   "cell_type": "code",
   "execution_count": 17,
   "id": "2482587d",
   "metadata": {},
   "outputs": [],
   "source": [
    "na=[]\n",
    "j=driver.find_elements(By.XPATH,'/html/body/div[1]/div[1]/div[4]/div/div[1]/div[1]/div/div/div[1]/div[1]/div[1]/h2/a')\n",
    "for i in j:\n",
    "    na.append(i.text)\n",
    "   "
   ]
  },
  {
   "cell_type": "code",
   "execution_count": null,
   "id": "0fe84a50",
   "metadata": {},
   "outputs": [],
   "source": []
  },
  {
   "cell_type": "markdown",
   "id": "5dd87b99",
   "metadata": {},
   "source": [
    "Q3: In this question you have to scrape data using the filters available on the webpage You have to use the location and salary filter. You have to scrape data for “Data Scientist” designation for first 10 job results. You have to scrape the job-title, job-location, company name, experience required. The location filter to be used is “Delhi/NCR”. The salary filter to be used is “3-6” lakhs\n",
    "The task will be done as shown in the below steps:\n",
    "1. first get the web page https://www.shine.com/\n",
    "2. Enter “Data Scientist” in “Skill, Designations, and Companies” field.\n",
    "3. Then click the search button.\n",
    "4. Then apply the location filter and salary filter by checking the respective boxes\n",
    "5. Then scrape the data for the first 10 jobs results you get.\n",
    "6. Finally create a dataframe of the scrapeddata."
   ]
  },
  {
   "cell_type": "code",
   "execution_count": 43,
   "id": "7cf16a5c",
   "metadata": {},
   "outputs": [],
   "source": [
    "driver=webdriver.Chrome()\n",
    "driver.get('https://www.shine.com/')"
   ]
  },
  {
   "cell_type": "code",
   "execution_count": 45,
   "id": "7448b460",
   "metadata": {},
   "outputs": [],
   "source": [
    "post=driver.find_element(By.CLASS_NAME,'form-control  ')\n",
    "post.send_keys('Data Scientist')\n",
    "\n",
    "loc=driver.find_element(By.XPATH,'//*[@id=\"id_loc\"]')\n",
    "loc.send_keys('Delhi-ncr Region')\n",
    "\n",
    "search=driver.find_element(By.XPATH,'//*[@id=\"__next\"]/div[4]/div/div[2]/div[2]/div/form/div/div[2]/div/button')\n",
    "search.click()"
   ]
  },
  {
   "cell_type": "code",
   "execution_count": 83,
   "id": "4427af19",
   "metadata": {},
   "outputs": [],
   "source": [
    "job_title=[]\n",
    "job_location=[]\n",
    "company_name=[]\n",
    "experience_required=[]"
   ]
  },
  {
   "cell_type": "code",
   "execution_count": 130,
   "id": "0b610644",
   "metadata": {},
   "outputs": [],
   "source": [
    "title=driver.find_elements(By.CLASS_NAME,'jobCard_jobCard_cName__mYnow')\n",
    "for i in title:\n",
    "    job_title.append(i.text)"
   ]
  },
  {
   "cell_type": "code",
   "execution_count": 132,
   "id": "1e2583e2",
   "metadata": {},
   "outputs": [],
   "source": [
    "# job_title"
   ]
  },
  {
   "cell_type": "code",
   "execution_count": 133,
   "id": "09a37af1",
   "metadata": {},
   "outputs": [],
   "source": [
    "# job_title.clear()"
   ]
  },
  {
   "cell_type": "code",
   "execution_count": 145,
   "id": "de00b3c4",
   "metadata": {},
   "outputs": [],
   "source": [
    "loc=driver.find_elements(By.CLASS_NAME,'jobCard_locationIcon__zrWt2')\n",
    "for i in loc:\n",
    "    job_location.append(i.text)"
   ]
  },
  {
   "cell_type": "code",
   "execution_count": 146,
   "id": "a479a57a",
   "metadata": {},
   "outputs": [],
   "source": [
    "# job_location\n",
    "# job_location.clear()"
   ]
  },
  {
   "cell_type": "code",
   "execution_count": 139,
   "id": "106c9712",
   "metadata": {},
   "outputs": [],
   "source": [
    "company=driver.find_elements(By.CLASS_NAME,'jobCard_jobCard_cName__mYnow')\n",
    "for i in company:\n",
    "    company_name.append(i.text)"
   ]
  },
  {
   "cell_type": "code",
   "execution_count": 137,
   "id": "c45f2ab3",
   "metadata": {},
   "outputs": [],
   "source": [
    "# company_name.clear()"
   ]
  },
  {
   "cell_type": "code",
   "execution_count": 109,
   "id": "900cab05",
   "metadata": {},
   "outputs": [],
   "source": [
    "# company_name"
   ]
  },
  {
   "cell_type": "code",
   "execution_count": 150,
   "id": "508b0d56",
   "metadata": {},
   "outputs": [],
   "source": [
    "experience=driver.find_elements(By.CLASS_NAME,'jobCard_jobIcon__3FB1t')\n",
    "for i in experience:\n",
    "    experience_required.append(i.text)"
   ]
  },
  {
   "cell_type": "code",
   "execution_count": 153,
   "id": "08f6e1c0",
   "metadata": {},
   "outputs": [],
   "source": [
    "# experience_required\n",
    "# experience_required.clear()"
   ]
  },
  {
   "cell_type": "code",
   "execution_count": 151,
   "id": "fa567cda",
   "metadata": {},
   "outputs": [
    {
     "name": "stdout",
     "output_type": "stream",
     "text": [
      "20 20 20 20\n"
     ]
    }
   ],
   "source": [
    "print(len(job_title),len(job_location),len(company_name),len(experience_required))"
   ]
  },
  {
   "cell_type": "code",
   "execution_count": 159,
   "id": "6f2b6255",
   "metadata": {},
   "outputs": [
    {
     "data": {
      "text/html": [
       "<div>\n",
       "<style scoped>\n",
       "    .dataframe tbody tr th:only-of-type {\n",
       "        vertical-align: middle;\n",
       "    }\n",
       "\n",
       "    .dataframe tbody tr th {\n",
       "        vertical-align: top;\n",
       "    }\n",
       "\n",
       "    .dataframe thead th {\n",
       "        text-align: right;\n",
       "    }\n",
       "</style>\n",
       "<table border=\"1\" class=\"dataframe\">\n",
       "  <thead>\n",
       "    <tr style=\"text-align: right;\">\n",
       "      <th></th>\n",
       "      <th>JOB_TITLE</th>\n",
       "      <th>COMPANY_NAME</th>\n",
       "      <th>JOB_LOCATION</th>\n",
       "      <th>EXPERIENCE_REQUIRED</th>\n",
       "    </tr>\n",
       "  </thead>\n",
       "  <tbody>\n",
       "    <tr>\n",
       "      <th>0</th>\n",
       "      <td>Data Scientist- Delhi</td>\n",
       "      <td>the fashion cosmo</td>\n",
       "      <td>Delhi</td>\n",
       "      <td>0 to 3 Yrs</td>\n",
       "    </tr>\n",
       "    <tr>\n",
       "      <th>1</th>\n",
       "      <td>Data Scientist-Delhi</td>\n",
       "      <td>shiva hr services</td>\n",
       "      <td>Delhi</td>\n",
       "      <td>0 to 3 Yrs</td>\n",
       "    </tr>\n",
       "    <tr>\n",
       "      <th>2</th>\n",
       "      <td>Data Scientist- Delhi</td>\n",
       "      <td>the fashion cosmo</td>\n",
       "      <td>Delhi</td>\n",
       "      <td>0 to 3 Yrs</td>\n",
       "    </tr>\n",
       "    <tr>\n",
       "      <th>3</th>\n",
       "      <td>Data Scientist- Delhi</td>\n",
       "      <td>the fashion cosmo</td>\n",
       "      <td>Delhi</td>\n",
       "      <td>0 to 3 Yrs</td>\n",
       "    </tr>\n",
       "    <tr>\n",
       "      <th>4</th>\n",
       "      <td>Data Scientist</td>\n",
       "      <td>acme services private limited</td>\n",
       "      <td>Delhi\\n+4</td>\n",
       "      <td>3 to 5 Yrs</td>\n",
       "    </tr>\n",
       "    <tr>\n",
       "      <th>5</th>\n",
       "      <td>Data Scientist</td>\n",
       "      <td>quiscon biotech</td>\n",
       "      <td>Delhi\\n+6</td>\n",
       "      <td>0 to 1 Yr</td>\n",
       "    </tr>\n",
       "    <tr>\n",
       "      <th>6</th>\n",
       "      <td>Data Scientist</td>\n",
       "      <td>acme services private limited</td>\n",
       "      <td>Delhi\\n+4</td>\n",
       "      <td>3 to 5 Yrs</td>\n",
       "    </tr>\n",
       "    <tr>\n",
       "      <th>7</th>\n",
       "      <td>Data Scientist</td>\n",
       "      <td>techno endura</td>\n",
       "      <td>Delhi\\n+6</td>\n",
       "      <td>0 to 1 Yr</td>\n",
       "    </tr>\n",
       "    <tr>\n",
       "      <th>8</th>\n",
       "      <td>Data Scientist</td>\n",
       "      <td>v-tech data outsourcing</td>\n",
       "      <td>Delhi\\n+9</td>\n",
       "      <td>0 to 2 Yrs</td>\n",
       "    </tr>\n",
       "    <tr>\n",
       "      <th>9</th>\n",
       "      <td>Clinical Data Analyst</td>\n",
       "      <td>national seeds corporation limited</td>\n",
       "      <td>Delhi\\n+17</td>\n",
       "      <td>1 to 6 Yrs</td>\n",
       "    </tr>\n",
       "    <tr>\n",
       "      <th>10</th>\n",
       "      <td>Data Modeler</td>\n",
       "      <td>techno endura</td>\n",
       "      <td>Delhi\\n+6</td>\n",
       "      <td>0 to 1 Yr</td>\n",
       "    </tr>\n",
       "    <tr>\n",
       "      <th>11</th>\n",
       "      <td>Biostatistician</td>\n",
       "      <td>seven consultancy</td>\n",
       "      <td>Delhi</td>\n",
       "      <td>1 to 3 Yrs</td>\n",
       "    </tr>\n",
       "    <tr>\n",
       "      <th>12</th>\n",
       "      <td>Biostatistician</td>\n",
       "      <td>bajaj finserv lending ltd</td>\n",
       "      <td>Delhi</td>\n",
       "      <td>3 to 6 Yrs</td>\n",
       "    </tr>\n",
       "    <tr>\n",
       "      <th>13</th>\n",
       "      <td>Clinical Data Management</td>\n",
       "      <td>srinsoft technologies</td>\n",
       "      <td>Delhi</td>\n",
       "      <td>3 to 5 Yrs</td>\n",
       "    </tr>\n",
       "    <tr>\n",
       "      <th>14</th>\n",
       "      <td>Py spark Architect Delhi</td>\n",
       "      <td>techno endura</td>\n",
       "      <td>Delhi\\n+6</td>\n",
       "      <td>0 to 1 Yr</td>\n",
       "    </tr>\n",
       "    <tr>\n",
       "      <th>15</th>\n",
       "      <td>Senior AI Data Scientist-Reputed IT Industry</td>\n",
       "      <td>mnr solutions pvt ltd</td>\n",
       "      <td>Delhi\\n+6</td>\n",
       "      <td>1 to 5 Yrs</td>\n",
       "    </tr>\n",
       "    <tr>\n",
       "      <th>16</th>\n",
       "      <td>Req. post for Junior AI Data Scientist-Reputed...</td>\n",
       "      <td>ntt global delivery services limite...</td>\n",
       "      <td>Delhi</td>\n",
       "      <td>0 to 4 Yrs</td>\n",
       "    </tr>\n",
       "    <tr>\n",
       "      <th>17</th>\n",
       "      <td>Business Development Executive</td>\n",
       "      <td>techno endura</td>\n",
       "      <td>Delhi\\n+6</td>\n",
       "      <td>0 to 1 Yr</td>\n",
       "    </tr>\n",
       "    <tr>\n",
       "      <th>18</th>\n",
       "      <td>Senior Manager - DMS Support/Senior Manager - ...</td>\n",
       "      <td>krishna consultancy.. hiring for co...</td>\n",
       "      <td>Delhi\\n+9</td>\n",
       "      <td>4 to 9 Yrs</td>\n",
       "    </tr>\n",
       "    <tr>\n",
       "      <th>19</th>\n",
       "      <td>Remote _Data Entry Specialists</td>\n",
       "      <td>techno endura</td>\n",
       "      <td>Delhi\\n+6</td>\n",
       "      <td>0 to 1 Yr</td>\n",
       "    </tr>\n",
       "  </tbody>\n",
       "</table>\n",
       "</div>"
      ],
      "text/plain": [
       "                                            JOB_TITLE  \\\n",
       "0                               Data Scientist- Delhi   \n",
       "1                                Data Scientist-Delhi   \n",
       "2                               Data Scientist- Delhi   \n",
       "3                               Data Scientist- Delhi   \n",
       "4                                      Data Scientist   \n",
       "5                                      Data Scientist   \n",
       "6                                      Data Scientist   \n",
       "7                                      Data Scientist   \n",
       "8                                      Data Scientist   \n",
       "9                               Clinical Data Analyst   \n",
       "10                                       Data Modeler   \n",
       "11                                    Biostatistician   \n",
       "12                                    Biostatistician   \n",
       "13                           Clinical Data Management   \n",
       "14                           Py spark Architect Delhi   \n",
       "15       Senior AI Data Scientist-Reputed IT Industry   \n",
       "16  Req. post for Junior AI Data Scientist-Reputed...   \n",
       "17                     Business Development Executive   \n",
       "18  Senior Manager - DMS Support/Senior Manager - ...   \n",
       "19                     Remote _Data Entry Specialists   \n",
       "\n",
       "                              COMPANY_NAME JOB_LOCATION EXPERIENCE_REQUIRED  \n",
       "0                        the fashion cosmo        Delhi          0 to 3 Yrs  \n",
       "1                        shiva hr services        Delhi          0 to 3 Yrs  \n",
       "2                        the fashion cosmo        Delhi          0 to 3 Yrs  \n",
       "3                        the fashion cosmo        Delhi          0 to 3 Yrs  \n",
       "4            acme services private limited    Delhi\\n+4          3 to 5 Yrs  \n",
       "5                          quiscon biotech    Delhi\\n+6           0 to 1 Yr  \n",
       "6            acme services private limited    Delhi\\n+4          3 to 5 Yrs  \n",
       "7                            techno endura    Delhi\\n+6           0 to 1 Yr  \n",
       "8                  v-tech data outsourcing    Delhi\\n+9          0 to 2 Yrs  \n",
       "9       national seeds corporation limited   Delhi\\n+17          1 to 6 Yrs  \n",
       "10                           techno endura    Delhi\\n+6           0 to 1 Yr  \n",
       "11                       seven consultancy        Delhi          1 to 3 Yrs  \n",
       "12               bajaj finserv lending ltd        Delhi          3 to 6 Yrs  \n",
       "13                   srinsoft technologies        Delhi          3 to 5 Yrs  \n",
       "14                           techno endura    Delhi\\n+6           0 to 1 Yr  \n",
       "15                   mnr solutions pvt ltd    Delhi\\n+6          1 to 5 Yrs  \n",
       "16  ntt global delivery services limite...        Delhi          0 to 4 Yrs  \n",
       "17                           techno endura    Delhi\\n+6           0 to 1 Yr  \n",
       "18  krishna consultancy.. hiring for co...    Delhi\\n+9          4 to 9 Yrs  \n",
       "19                           techno endura    Delhi\\n+6           0 to 1 Yr  "
      ]
     },
     "execution_count": 159,
     "metadata": {},
     "output_type": "execute_result"
    }
   ],
   "source": [
    "import pandas as pd\n",
    "df=pd.DataFrame({'JOB_TITLE':job_title,'COMPANY_NAME':company_name,'JOB_LOCATION':job_location,'EXPERIENCE_REQUIRED':experience_required})\n",
    "df"
   ]
  },
  {
   "cell_type": "code",
   "execution_count": null,
   "id": "f6f1db1e",
   "metadata": {},
   "outputs": [],
   "source": []
  },
  {
   "cell_type": "markdown",
   "id": "89cccd6c",
   "metadata": {},
   "source": [
    "Q4: Scrape data of first 100 sunglasses listings on flipkart.com. You have to scrape four attributes:\n",
    "  * 6. Brand\n",
    "  * 7. ProductDescription\n",
    "  * 8. Price\n",
    "  \n",
    "The attributes which you have to scrape is ticked marked in the below image.\n",
    "\n",
    "To scrape the data you have to go through following steps:\n",
    "1. Go to Flipkart webpage by url :https://www.flipkart.com/\n",
    "2. Enter “sunglasses” in the search fieldwhere “search for products, brands and more” is written and\n",
    "click the search icon\n",
    "3. After that you will reach to the page having a lot of sunglasses. From this page you can scrap the\n",
    "required data as usual."
   ]
  },
  {
   "cell_type": "code",
   "execution_count": 164,
   "id": "2d92b84c",
   "metadata": {},
   "outputs": [],
   "source": [
    "driver=webdriver.Chrome()\n",
    "driver.get('https://www.flipkart.com/')"
   ]
  },
  {
   "cell_type": "code",
   "execution_count": 165,
   "id": "e39db428",
   "metadata": {},
   "outputs": [],
   "source": [
    "glass=driver.find_element(By.CLASS_NAME,'Pke_EE')\n",
    "glass.send_keys('sunglasses')\n",
    "\n",
    "search=driver.find_element(By.CLASS_NAME,'_2iLD__')\n",
    "search.click()"
   ]
  },
  {
   "cell_type": "code",
   "execution_count": 179,
   "id": "e4eb78e3",
   "metadata": {},
   "outputs": [],
   "source": [
    "brand=[]\n",
    "description=[]\n",
    "price=[]"
   ]
  },
  {
   "cell_type": "code",
   "execution_count": 206,
   "id": "345af350",
   "metadata": {},
   "outputs": [],
   "source": [
    "start=0\n",
    "end=3\n",
    "for page in range(start,end):\n",
    "    title=driver.find_elements(By.CLASS_NAME,'_2WkVRV')\n",
    "    for i in title:\n",
    "        brand.append(i.text)"
   ]
  },
  {
   "cell_type": "code",
   "execution_count": 174,
   "id": "ed0c6a0b",
   "metadata": {},
   "outputs": [],
   "source": [
    "# brand.clear()"
   ]
  },
  {
   "cell_type": "code",
   "execution_count": 207,
   "id": "ba141286",
   "metadata": {},
   "outputs": [
    {
     "name": "stdout",
     "output_type": "stream",
     "text": [
      "120\n"
     ]
    }
   ],
   "source": [
    "print(len(brand))"
   ]
  },
  {
   "cell_type": "code",
   "execution_count": 180,
   "id": "d694afcd",
   "metadata": {},
   "outputs": [],
   "source": [
    "start=0\n",
    "end=3\n",
    "for page in range(start,end):\n",
    "    des=driver.find_elements(By.CLASS_NAME,'IRpwTa')\n",
    "    for i in des:\n",
    "        description.append(i.text)     "
   ]
  },
  {
   "cell_type": "code",
   "execution_count": 208,
   "id": "c8e00a92",
   "metadata": {},
   "outputs": [
    {
     "name": "stdout",
     "output_type": "stream",
     "text": [
      "120\n"
     ]
    }
   ],
   "source": [
    "print(len(description))"
   ]
  },
  {
   "cell_type": "code",
   "execution_count": 212,
   "id": "99859da8",
   "metadata": {},
   "outputs": [],
   "source": [
    "start=0\n",
    "end=3\n",
    "for page in range(start,end):\n",
    "    cost=driver.find_elements(By.CLASS_NAME,'_30jeq3')\n",
    "    for i in cost:\n",
    "        price.append(i.text)"
   ]
  },
  {
   "cell_type": "code",
   "execution_count": 233,
   "id": "25101a5f",
   "metadata": {},
   "outputs": [
    {
     "data": {
      "text/plain": [
       "120"
      ]
     },
     "execution_count": 233,
     "metadata": {},
     "output_type": "execute_result"
    }
   ],
   "source": [
    "len(price)"
   ]
  },
  {
   "cell_type": "code",
   "execution_count": 230,
   "id": "b6c30b63",
   "metadata": {},
   "outputs": [
    {
     "name": "stdout",
     "output_type": "stream",
     "text": [
      "120 120 120\n"
     ]
    }
   ],
   "source": [
    "print(len(brand),len(description),len(price))"
   ]
  },
  {
   "cell_type": "code",
   "execution_count": 232,
   "id": "5bfe0692",
   "metadata": {},
   "outputs": [
    {
     "data": {
      "text/html": [
       "<div>\n",
       "<style scoped>\n",
       "    .dataframe tbody tr th:only-of-type {\n",
       "        vertical-align: middle;\n",
       "    }\n",
       "\n",
       "    .dataframe tbody tr th {\n",
       "        vertical-align: top;\n",
       "    }\n",
       "\n",
       "    .dataframe thead th {\n",
       "        text-align: right;\n",
       "    }\n",
       "</style>\n",
       "<table border=\"1\" class=\"dataframe\">\n",
       "  <thead>\n",
       "    <tr style=\"text-align: right;\">\n",
       "      <th></th>\n",
       "      <th>NAME OF SUNGLASS</th>\n",
       "      <th>PRICE OF SUNGLASS</th>\n",
       "      <th>DESCRIPTION OF SUNGLASS</th>\n",
       "    </tr>\n",
       "  </thead>\n",
       "  <tbody>\n",
       "    <tr>\n",
       "      <th>0</th>\n",
       "      <td>VINCENT CHASE</td>\n",
       "      <td>₹499</td>\n",
       "      <td>UV Protection Clubmaster Sunglasses (53)</td>\n",
       "    </tr>\n",
       "    <tr>\n",
       "      <th>1</th>\n",
       "      <td>Fastrack</td>\n",
       "      <td>₹449</td>\n",
       "      <td>UV Protection Rectangular Sunglasses (Free Size)</td>\n",
       "    </tr>\n",
       "    <tr>\n",
       "      <th>2</th>\n",
       "      <td>SRPM</td>\n",
       "      <td>₹149</td>\n",
       "      <td>UV Protection Wayfarer Sunglasses (50)</td>\n",
       "    </tr>\n",
       "    <tr>\n",
       "      <th>3</th>\n",
       "      <td>Fastrack</td>\n",
       "      <td>₹549</td>\n",
       "      <td>UV Protection Wayfarer Sunglasses (58)</td>\n",
       "    </tr>\n",
       "    <tr>\n",
       "      <th>4</th>\n",
       "      <td>GANSTA</td>\n",
       "      <td>₹79</td>\n",
       "      <td>Night Vision, Riding Glasses Rectangular Sungl...</td>\n",
       "    </tr>\n",
       "    <tr>\n",
       "      <th>...</th>\n",
       "      <td>...</td>\n",
       "      <td>...</td>\n",
       "      <td>...</td>\n",
       "    </tr>\n",
       "    <tr>\n",
       "      <th>95</th>\n",
       "      <td>Roadster</td>\n",
       "      <td>₹199</td>\n",
       "      <td>UV Protection Rectangular Sunglasses (59)</td>\n",
       "    </tr>\n",
       "    <tr>\n",
       "      <th>96</th>\n",
       "      <td>VINCENT CHASE</td>\n",
       "      <td>₹149</td>\n",
       "      <td>UV Protection Wayfarer Sunglasses (59)</td>\n",
       "    </tr>\n",
       "    <tr>\n",
       "      <th>97</th>\n",
       "      <td>VINCENT CHASE</td>\n",
       "      <td>₹599</td>\n",
       "      <td>Polarized, UV Protection Round Sunglasses (51)</td>\n",
       "    </tr>\n",
       "    <tr>\n",
       "      <th>98</th>\n",
       "      <td>ROZZETTA CRAFT</td>\n",
       "      <td>₹254</td>\n",
       "      <td>UV Protection, Gradient Rectangular Sunglasses...</td>\n",
       "    </tr>\n",
       "    <tr>\n",
       "      <th>99</th>\n",
       "      <td>PIRASO</td>\n",
       "      <td>₹199</td>\n",
       "      <td>UV Protection Clubmaster Sunglasses (54)</td>\n",
       "    </tr>\n",
       "  </tbody>\n",
       "</table>\n",
       "<p>100 rows × 3 columns</p>\n",
       "</div>"
      ],
      "text/plain": [
       "   NAME OF SUNGLASS PRICE OF SUNGLASS  \\\n",
       "0     VINCENT CHASE              ₹499   \n",
       "1          Fastrack              ₹449   \n",
       "2              SRPM              ₹149   \n",
       "3          Fastrack              ₹549   \n",
       "4            GANSTA               ₹79   \n",
       "..              ...               ...   \n",
       "95         Roadster              ₹199   \n",
       "96    VINCENT CHASE              ₹149   \n",
       "97    VINCENT CHASE              ₹599   \n",
       "98   ROZZETTA CRAFT              ₹254   \n",
       "99           PIRASO              ₹199   \n",
       "\n",
       "                              DESCRIPTION OF SUNGLASS  \n",
       "0            UV Protection Clubmaster Sunglasses (53)  \n",
       "1    UV Protection Rectangular Sunglasses (Free Size)  \n",
       "2              UV Protection Wayfarer Sunglasses (50)  \n",
       "3              UV Protection Wayfarer Sunglasses (58)  \n",
       "4   Night Vision, Riding Glasses Rectangular Sungl...  \n",
       "..                                                ...  \n",
       "95          UV Protection Rectangular Sunglasses (59)  \n",
       "96             UV Protection Wayfarer Sunglasses (59)  \n",
       "97     Polarized, UV Protection Round Sunglasses (51)  \n",
       "98  UV Protection, Gradient Rectangular Sunglasses...  \n",
       "99           UV Protection Clubmaster Sunglasses (54)  \n",
       "\n",
       "[100 rows x 3 columns]"
      ]
     },
     "execution_count": 232,
     "metadata": {},
     "output_type": "execute_result"
    }
   ],
   "source": [
    "import pandas as pd\n",
    "df=pd.DataFrame({'NAME OF SUNGLASS':brand,'PRICE OF SUNGLASS':price,'DESCRIPTION OF SUNGLASS':description})\n",
    "df.head(100)"
   ]
  },
  {
   "cell_type": "code",
   "execution_count": null,
   "id": "89bef202",
   "metadata": {},
   "outputs": [],
   "source": []
  },
  {
   "cell_type": "markdown",
   "id": "a5c486a4",
   "metadata": {},
   "source": [
    "Q5: Scrape 100 reviews data from flipkart.com for iphone11 phone. You have to go the link:\n",
    "https://www.flipkart.com/apple-iphone-11-black-64-gb/p/itm4e5041ba101fd?pid=MOBFWQ6BXGJCEYNY&lid=LSTMOBFWQ6BXGJCEYNYZE3ENS&marketplace=FLIPKART&q=iphone+11&store=tyy/4io&srno=s_1_1&otracker=AS_Query_HistoryAutoSuggest_6_0_na_na_na&otracker1=AS_Query_HistoryAutoSuggest_6_0_na_na_na&fm=organic&iid=e30aaa70-fe6e-466c-81d4-993e630ea913.MOBFWQ6BXGJCEYNY.SEARCH&ppt=hp&ppn=homepage&ssid=nseg9l47e80000001699187524593&qH=f6cdfdaa9f3c23f3\n",
    "\n",
    "place=FLIPKART \n",
    "\n",
    "As shown in the above page you have to scrape the tick marked attributes. These are:\n",
    "1. Rating\n",
    "2. Review summary\n",
    "3. Full review\n",
    "4. You have to scrape this data for first 100reviews."
   ]
  },
  {
   "cell_type": "code",
   "execution_count": 234,
   "id": "46a23606",
   "metadata": {},
   "outputs": [],
   "source": [
    "driver=webdriver.Chrome()\n",
    "driver.get('https://www.flipkart.com/apple-iphone-11-black-64-gb/p/itm4e5041ba101fd?pid=MOBFWQ6BXGJCEYNY&lid=LSTMOBFWQ6BXGJCEYNYZE3ENS&marketplace=FLIPKART&q=iphone+11&store=tyy/4io&srno=s_1_1&otracker=AS_Query_HistoryAutoSuggest_6_0_na_na_na&otracker1=AS_Query_HistoryAutoSuggest_6_0_na_na_na&fm=organic&iid=e30aaa70-fe6e-466c-81d4-993e630ea913.MOBFWQ6BXGJCEYNY.SEARCH&ppt=hp&ppn=homepage&ssid=nseg9l47e80000001699187524593&qH=f6cdfdaa9f3c23f3')"
   ]
  },
  {
   "cell_type": "code",
   "execution_count": 235,
   "id": "d5d15262",
   "metadata": {},
   "outputs": [],
   "source": [
    "rating=[]\n",
    "review=[]\n",
    "full_review=[]"
   ]
  },
  {
   "cell_type": "code",
   "execution_count": 246,
   "id": "a3592a30",
   "metadata": {},
   "outputs": [],
   "source": [
    "start=0\n",
    "end=7\n",
    "for page in range(start,end):\n",
    "    rat=driver.find_elements(By.CLASS_NAME,'_1wB99o')\n",
    "    for i in rat:\n",
    "        rating.append(i.text)"
   ]
  },
  {
   "cell_type": "code",
   "execution_count": null,
   "id": "6185148c",
   "metadata": {},
   "outputs": [],
   "source": []
  },
  {
   "cell_type": "code",
   "execution_count": 252,
   "id": "b1ea6ed6",
   "metadata": {},
   "outputs": [],
   "source": [
    "start=0\n",
    "end=10\n",
    "for page in range(start,end):\n",
    "    view=driver.find_elements(By.CLASS_NAME,'_2-N8zT')\n",
    "    for i in view:\n",
    "        review.append(i.text)"
   ]
  },
  {
   "cell_type": "code",
   "execution_count": 253,
   "id": "869a9908",
   "metadata": {},
   "outputs": [
    {
     "data": {
      "text/plain": [
       "100"
      ]
     },
     "execution_count": 253,
     "metadata": {},
     "output_type": "execute_result"
    }
   ],
   "source": [
    "len(review)"
   ]
  },
  {
   "cell_type": "code",
   "execution_count": 254,
   "id": "b973cc17",
   "metadata": {},
   "outputs": [],
   "source": [
    "start=0\n",
    "end=10\n",
    "for page in range(start,end):\n",
    "    full=driver.find_elements(By.CLASS_NAME,'t-ZTKy')\n",
    "    for i in full:\n",
    "        full_review.append(i.text)"
   ]
  },
  {
   "cell_type": "code",
   "execution_count": 255,
   "id": "2255954c",
   "metadata": {},
   "outputs": [
    {
     "data": {
      "text/plain": [
       "100"
      ]
     },
     "execution_count": 255,
     "metadata": {},
     "output_type": "execute_result"
    }
   ],
   "source": [
    "len(full_review)"
   ]
  },
  {
   "cell_type": "code",
   "execution_count": 262,
   "id": "19737da1",
   "metadata": {},
   "outputs": [
    {
     "name": "stdout",
     "output_type": "stream",
     "text": [
      "100 100 100\n"
     ]
    }
   ],
   "source": [
    "print(len(rating),len(review),len(full_review))"
   ]
  },
  {
   "cell_type": "code",
   "execution_count": 264,
   "id": "ab03a597",
   "metadata": {},
   "outputs": [
    {
     "data": {
      "text/html": [
       "<div>\n",
       "<style scoped>\n",
       "    .dataframe tbody tr th:only-of-type {\n",
       "        vertical-align: middle;\n",
       "    }\n",
       "\n",
       "    .dataframe tbody tr th {\n",
       "        vertical-align: top;\n",
       "    }\n",
       "\n",
       "    .dataframe thead th {\n",
       "        text-align: right;\n",
       "    }\n",
       "</style>\n",
       "<table border=\"1\" class=\"dataframe\">\n",
       "  <thead>\n",
       "    <tr style=\"text-align: right;\">\n",
       "      <th></th>\n",
       "      <th>RATING</th>\n",
       "      <th>REVIEW</th>\n",
       "      <th>FULL_REVIEW</th>\n",
       "    </tr>\n",
       "  </thead>\n",
       "  <tbody>\n",
       "    <tr>\n",
       "      <th>0</th>\n",
       "      <td></td>\n",
       "      <td>Highly recommended</td>\n",
       "      <td>Awesome Battery Life...Camera clarity is too g...</td>\n",
       "    </tr>\n",
       "    <tr>\n",
       "      <th>1</th>\n",
       "      <td></td>\n",
       "      <td>Perfect product!</td>\n",
       "      <td>Photos super</td>\n",
       "    </tr>\n",
       "    <tr>\n",
       "      <th>2</th>\n",
       "      <td></td>\n",
       "      <td>Terrific purchase</td>\n",
       "      <td>Value for money 😍</td>\n",
       "    </tr>\n",
       "    <tr>\n",
       "      <th>3</th>\n",
       "      <td></td>\n",
       "      <td>Best in the market!</td>\n",
       "      <td>Good Camera</td>\n",
       "    </tr>\n",
       "    <tr>\n",
       "      <th>4</th>\n",
       "      <td></td>\n",
       "      <td>Worth every penny</td>\n",
       "      <td>Feeling awesome after getting the delivery of ...</td>\n",
       "    </tr>\n",
       "    <tr>\n",
       "      <th>...</th>\n",
       "      <td>...</td>\n",
       "      <td>...</td>\n",
       "      <td>...</td>\n",
       "    </tr>\n",
       "    <tr>\n",
       "      <th>95</th>\n",
       "      <td></td>\n",
       "      <td>Classy product</td>\n",
       "      <td>Camera is awesome\\nBest battery backup\\nA perf...</td>\n",
       "    </tr>\n",
       "    <tr>\n",
       "      <th>96</th>\n",
       "      <td></td>\n",
       "      <td>Terrific</td>\n",
       "      <td>Very very good</td>\n",
       "    </tr>\n",
       "    <tr>\n",
       "      <th>97</th>\n",
       "      <td></td>\n",
       "      <td>Wonderful</td>\n",
       "      <td>This is amazing at all</td>\n",
       "    </tr>\n",
       "    <tr>\n",
       "      <th>98</th>\n",
       "      <td></td>\n",
       "      <td>Must buy!</td>\n",
       "      <td>Go for iPhone 11 , if confused between iPhone ...</td>\n",
       "    </tr>\n",
       "    <tr>\n",
       "      <th>99</th>\n",
       "      <td></td>\n",
       "      <td>Fabulous!</td>\n",
       "      <td>Super🔥 and good performance 👌❤️</td>\n",
       "    </tr>\n",
       "  </tbody>\n",
       "</table>\n",
       "<p>100 rows × 3 columns</p>\n",
       "</div>"
      ],
      "text/plain": [
       "   RATING               REVIEW  \\\n",
       "0           Highly recommended   \n",
       "1             Perfect product!   \n",
       "2            Terrific purchase   \n",
       "3          Best in the market!   \n",
       "4            Worth every penny   \n",
       "..    ...                  ...   \n",
       "95              Classy product   \n",
       "96                    Terrific   \n",
       "97                   Wonderful   \n",
       "98                   Must buy!   \n",
       "99                   Fabulous!   \n",
       "\n",
       "                                          FULL_REVIEW  \n",
       "0   Awesome Battery Life...Camera clarity is too g...  \n",
       "1                                        Photos super  \n",
       "2                                   Value for money 😍  \n",
       "3                                         Good Camera  \n",
       "4   Feeling awesome after getting the delivery of ...  \n",
       "..                                                ...  \n",
       "95  Camera is awesome\\nBest battery backup\\nA perf...  \n",
       "96                                     Very very good  \n",
       "97                             This is amazing at all  \n",
       "98  Go for iPhone 11 , if confused between iPhone ...  \n",
       "99                    Super🔥 and good performance 👌❤️  \n",
       "\n",
       "[100 rows x 3 columns]"
      ]
     },
     "execution_count": 264,
     "metadata": {},
     "output_type": "execute_result"
    }
   ],
   "source": [
    "import pandas as pd\n",
    "df=pd.DataFrame({'RATING':rating,'REVIEW':review,'FULL_REVIEW':full_review})\n",
    "df"
   ]
  },
  {
   "cell_type": "code",
   "execution_count": null,
   "id": "83a01fc6",
   "metadata": {},
   "outputs": [],
   "source": []
  },
  {
   "cell_type": "markdown",
   "id": "8dfbc602",
   "metadata": {},
   "source": [
    "Q6: Scrape data forfirst 100 sneakers you find whenyou visit flipkart.com and search for “sneakers” inthe\n",
    "search field.\n",
    "You have to scrape 3 attributes of each sneaker:\n",
    "1. Brand\n",
    "2. ProductDescription\n",
    "3. Price\n",
    "\n",
    "As shown in the below image, you have to scrape the above attributes.\n"
   ]
  },
  {
   "cell_type": "code",
   "execution_count": 266,
   "id": "c6bb217a",
   "metadata": {},
   "outputs": [],
   "source": [
    "driver=webdriver.Chrome()\n",
    "driver.get('https://www.flipkart.com/')"
   ]
  },
  {
   "cell_type": "code",
   "execution_count": 267,
   "id": "d3ffd76a",
   "metadata": {},
   "outputs": [],
   "source": [
    "find=driver.find_element(By.CLASS_NAME,'Pke_EE')\n",
    "find.send_keys('sneakers')\n",
    "\n",
    "search=driver.find_element(By.CLASS_NAME,'_2iLD__')\n",
    "search.click()"
   ]
  },
  {
   "cell_type": "code",
   "execution_count": 268,
   "id": "fffe893e",
   "metadata": {},
   "outputs": [],
   "source": [
    "brand=[]\n",
    "description=[]\n",
    "price=[]"
   ]
  },
  {
   "cell_type": "code",
   "execution_count": 269,
   "id": "379a27f8",
   "metadata": {},
   "outputs": [],
   "source": [
    "start=0\n",
    "end=3\n",
    "for page in range(start,end):\n",
    "    title=driver.find_elements(By.CLASS_NAME,'_2WkVRV')\n",
    "    for i in title:\n",
    "        brand.append(i.text)"
   ]
  },
  {
   "cell_type": "code",
   "execution_count": 270,
   "id": "10dfa240",
   "metadata": {},
   "outputs": [
    {
     "data": {
      "text/plain": [
       "120"
      ]
     },
     "execution_count": 270,
     "metadata": {},
     "output_type": "execute_result"
    }
   ],
   "source": [
    "len(brand)"
   ]
  },
  {
   "cell_type": "code",
   "execution_count": 271,
   "id": "8531467d",
   "metadata": {},
   "outputs": [],
   "source": [
    "start=0\n",
    "end=3\n",
    "for page in range(start,end):\n",
    "    des=driver.find_elements(By.CLASS_NAME,'IRpwTa')\n",
    "    for i in des:\n",
    "        description.append(i.text)"
   ]
  },
  {
   "cell_type": "code",
   "execution_count": 272,
   "id": "c518456a",
   "metadata": {},
   "outputs": [
    {
     "data": {
      "text/plain": [
       "120"
      ]
     },
     "execution_count": 272,
     "metadata": {},
     "output_type": "execute_result"
    }
   ],
   "source": [
    "len(description)"
   ]
  },
  {
   "cell_type": "code",
   "execution_count": 288,
   "id": "9245a2e0",
   "metadata": {},
   "outputs": [],
   "source": [
    "start=0\n",
    "end=3\n",
    "for page in range(start,end):\n",
    "    cost=driver.find_elements(By.CLASS_NAME,'_30jeq3')\n",
    "    for i in cost:\n",
    "        price.append(i.text)"
   ]
  },
  {
   "cell_type": "code",
   "execution_count": 307,
   "id": "86d557f1",
   "metadata": {},
   "outputs": [
    {
     "data": {
      "text/plain": [
       "120"
      ]
     },
     "execution_count": 307,
     "metadata": {},
     "output_type": "execute_result"
    }
   ],
   "source": [
    "len(price)"
   ]
  },
  {
   "cell_type": "code",
   "execution_count": 286,
   "id": "dce9bc60",
   "metadata": {},
   "outputs": [],
   "source": [
    "price.clear()"
   ]
  },
  {
   "cell_type": "code",
   "execution_count": 305,
   "id": "6b9eb96d",
   "metadata": {},
   "outputs": [
    {
     "name": "stdout",
     "output_type": "stream",
     "text": [
      "120 120 120\n"
     ]
    }
   ],
   "source": [
    "print(len(brand),len(description),len(price))"
   ]
  },
  {
   "cell_type": "code",
   "execution_count": 308,
   "id": "74cfb9bc",
   "metadata": {},
   "outputs": [
    {
     "data": {
      "text/html": [
       "<div>\n",
       "<style scoped>\n",
       "    .dataframe tbody tr th:only-of-type {\n",
       "        vertical-align: middle;\n",
       "    }\n",
       "\n",
       "    .dataframe tbody tr th {\n",
       "        vertical-align: top;\n",
       "    }\n",
       "\n",
       "    .dataframe thead th {\n",
       "        text-align: right;\n",
       "    }\n",
       "</style>\n",
       "<table border=\"1\" class=\"dataframe\">\n",
       "  <thead>\n",
       "    <tr style=\"text-align: right;\">\n",
       "      <th></th>\n",
       "      <th>SNEAKERS</th>\n",
       "      <th>DESCRIPTION</th>\n",
       "      <th>PRICE</th>\n",
       "    </tr>\n",
       "  </thead>\n",
       "  <tbody>\n",
       "    <tr>\n",
       "      <th>0</th>\n",
       "      <td>BRUTON</td>\n",
       "      <td>Combo Pack Of 2 Men’s Casual Shoes Sneakers Fo...</td>\n",
       "      <td>₹497</td>\n",
       "    </tr>\n",
       "    <tr>\n",
       "      <th>1</th>\n",
       "      <td>BRUTON</td>\n",
       "      <td>!Combo Pack Of 2 Casual Shoes! Sneakers For Men</td>\n",
       "      <td>₹497</td>\n",
       "    </tr>\n",
       "    <tr>\n",
       "      <th>2</th>\n",
       "      <td>aadi</td>\n",
       "      <td>Synthetic Leather |Lightweight|Comfort|Summer|...</td>\n",
       "      <td>₹289</td>\n",
       "    </tr>\n",
       "    <tr>\n",
       "      <th>3</th>\n",
       "      <td>URBANBOX</td>\n",
       "      <td>Trending Stylish Casual Outdoor Sneakers Shoes...</td>\n",
       "      <td>₹299</td>\n",
       "    </tr>\n",
       "    <tr>\n",
       "      <th>4</th>\n",
       "      <td>Layasa</td>\n",
       "      <td>Sneakers For Men</td>\n",
       "      <td>₹296</td>\n",
       "    </tr>\n",
       "    <tr>\n",
       "      <th>...</th>\n",
       "      <td>...</td>\n",
       "      <td>...</td>\n",
       "      <td>...</td>\n",
       "    </tr>\n",
       "    <tr>\n",
       "      <th>95</th>\n",
       "      <td>U.S. POLO ASSN.</td>\n",
       "      <td>CLARKIN Sneakers For Men</td>\n",
       "      <td>₹1,709</td>\n",
       "    </tr>\n",
       "    <tr>\n",
       "      <th>96</th>\n",
       "      <td>BRUTON</td>\n",
       "      <td>Combo Pack Of 2 Casual Shoes Sneakers For Men ...</td>\n",
       "      <td>₹349</td>\n",
       "    </tr>\n",
       "    <tr>\n",
       "      <th>97</th>\n",
       "      <td>BRUTON</td>\n",
       "      <td>Combo Pack Of 2 Casual Shoes Sneakers For Men</td>\n",
       "      <td>₹497</td>\n",
       "    </tr>\n",
       "    <tr>\n",
       "      <th>98</th>\n",
       "      <td>RED TAPE</td>\n",
       "      <td>Sneakers For Men</td>\n",
       "      <td>₹285</td>\n",
       "    </tr>\n",
       "    <tr>\n",
       "      <th>99</th>\n",
       "      <td>Deals4you</td>\n",
       "      <td>Sneakers For Women</td>\n",
       "      <td>₹1,275</td>\n",
       "    </tr>\n",
       "  </tbody>\n",
       "</table>\n",
       "<p>100 rows × 3 columns</p>\n",
       "</div>"
      ],
      "text/plain": [
       "           SNEAKERS                                        DESCRIPTION   PRICE\n",
       "0            BRUTON  Combo Pack Of 2 Men’s Casual Shoes Sneakers Fo...    ₹497\n",
       "1            BRUTON    !Combo Pack Of 2 Casual Shoes! Sneakers For Men    ₹497\n",
       "2              aadi  Synthetic Leather |Lightweight|Comfort|Summer|...    ₹289\n",
       "3          URBANBOX  Trending Stylish Casual Outdoor Sneakers Shoes...    ₹299\n",
       "4            Layasa                                   Sneakers For Men    ₹296\n",
       "..              ...                                                ...     ...\n",
       "95  U.S. POLO ASSN.                           CLARKIN Sneakers For Men  ₹1,709\n",
       "96           BRUTON  Combo Pack Of 2 Casual Shoes Sneakers For Men ...    ₹349\n",
       "97           BRUTON      Combo Pack Of 2 Casual Shoes Sneakers For Men    ₹497\n",
       "98         RED TAPE                                   Sneakers For Men    ₹285\n",
       "99        Deals4you                                 Sneakers For Women  ₹1,275\n",
       "\n",
       "[100 rows x 3 columns]"
      ]
     },
     "execution_count": 308,
     "metadata": {},
     "output_type": "execute_result"
    }
   ],
   "source": [
    "import pandas as pd\n",
    "df=pd.DataFrame({'SNEAKERS':brand,'DESCRIPTION':description,'PRICE':price})\n",
    "df.head(100)"
   ]
  },
  {
   "cell_type": "code",
   "execution_count": null,
   "id": "675579aa",
   "metadata": {},
   "outputs": [],
   "source": []
  },
  {
   "cell_type": "markdown",
   "id": "318b5d46",
   "metadata": {},
   "source": [
    "Q7: Go to webpage https://www.amazon.in/ Enter “Laptop” in the search field and then click the search icon. Then\n",
    "set CPU Type filter to “Intel Core i7” as shown in the below image:\n",
    "\n",
    "After setting the filters scrape first 10 laptops data. You have to scrape 3 attributes for each laptop:\n",
    "1. Title\n",
    "2. Ratings\n",
    "3. Price"
   ]
  },
  {
   "cell_type": "code",
   "execution_count": 328,
   "id": "f7173ff4",
   "metadata": {},
   "outputs": [],
   "source": [
    "driver=webdriver.Chrome()\n",
    "driver.get('https://www.amazon.in/')"
   ]
  },
  {
   "cell_type": "code",
   "execution_count": 330,
   "id": "74914ef5",
   "metadata": {},
   "outputs": [],
   "source": [
    "find=driver.find_element(By.CLASS_NAME,'nav-input')\n",
    "find.send_keys('laptop')\n",
    "\n",
    "search=driver.find_element(By.CLASS_NAME,'nav-search-submit')\n",
    "search.click()\n"
   ]
  },
  {
   "cell_type": "code",
   "execution_count": 331,
   "id": "44d1dd56",
   "metadata": {},
   "outputs": [],
   "source": [
    "title=[]\n",
    "rating=[]\n",
    "price=[]"
   ]
  },
  {
   "cell_type": "code",
   "execution_count": 394,
   "id": "50539420",
   "metadata": {},
   "outputs": [],
   "source": [
    "start=0\n",
    "end=1\n",
    "for items in range(start,end):\n",
    "    name=driver.find_elements(By.CLASS_NAME,'a-size-medium')\n",
    "    for i in name:\n",
    "        title.append(i.text)\n",
    "        title=title[0:10]"
   ]
  },
  {
   "cell_type": "code",
   "execution_count": 395,
   "id": "99924653",
   "metadata": {},
   "outputs": [
    {
     "data": {
      "text/plain": [
       "10"
      ]
     },
     "execution_count": 395,
     "metadata": {},
     "output_type": "execute_result"
    }
   ],
   "source": [
    "len(title)"
   ]
  },
  {
   "cell_type": "code",
   "execution_count": 362,
   "id": "d65c7e91",
   "metadata": {},
   "outputs": [],
   "source": [
    "title.clear()"
   ]
  },
  {
   "cell_type": "code",
   "execution_count": 396,
   "id": "5efaaaa4",
   "metadata": {},
   "outputs": [],
   "source": [
    "ratings=driver.find_elements(By.CLASS_NAME,'s-underline-text')\n",
    "for i in ratings:\n",
    "    rating.append(i.text)\n",
    "    rating=rating[0:10]\n"
   ]
  },
  {
   "cell_type": "code",
   "execution_count": 365,
   "id": "b50fce50",
   "metadata": {},
   "outputs": [],
   "source": [
    "rating.clear()"
   ]
  },
  {
   "cell_type": "code",
   "execution_count": 397,
   "id": "b9a37674",
   "metadata": {},
   "outputs": [
    {
     "data": {
      "text/plain": [
       "10"
      ]
     },
     "execution_count": 397,
     "metadata": {},
     "output_type": "execute_result"
    }
   ],
   "source": [
    "rating\n",
    "len(rating)"
   ]
  },
  {
   "cell_type": "code",
   "execution_count": 400,
   "id": "b5cc03b3",
   "metadata": {},
   "outputs": [],
   "source": [
    "prices=driver.find_elements(By.CLASS_NAME,'a-price-whole')\n",
    "for i in prices:\n",
    "    price.append(i.text)\n",
    "    price=price[0:10]"
   ]
  },
  {
   "cell_type": "code",
   "execution_count": 401,
   "id": "3b67a550",
   "metadata": {},
   "outputs": [
    {
     "data": {
      "text/plain": [
       "10"
      ]
     },
     "execution_count": 401,
     "metadata": {},
     "output_type": "execute_result"
    }
   ],
   "source": [
    "len(price)"
   ]
  },
  {
   "cell_type": "code",
   "execution_count": 402,
   "id": "c133802a",
   "metadata": {},
   "outputs": [
    {
     "name": "stdout",
     "output_type": "stream",
     "text": [
      "10 10 10\n"
     ]
    }
   ],
   "source": [
    "print(len(title),len(rating),len(price))"
   ]
  },
  {
   "cell_type": "code",
   "execution_count": 403,
   "id": "a5971caa",
   "metadata": {},
   "outputs": [
    {
     "data": {
      "text/html": [
       "<div>\n",
       "<style scoped>\n",
       "    .dataframe tbody tr th:only-of-type {\n",
       "        vertical-align: middle;\n",
       "    }\n",
       "\n",
       "    .dataframe tbody tr th {\n",
       "        vertical-align: top;\n",
       "    }\n",
       "\n",
       "    .dataframe thead th {\n",
       "        text-align: right;\n",
       "    }\n",
       "</style>\n",
       "<table border=\"1\" class=\"dataframe\">\n",
       "  <thead>\n",
       "    <tr style=\"text-align: right;\">\n",
       "      <th></th>\n",
       "      <th>LAPTOP NAME</th>\n",
       "      <th>RATING</th>\n",
       "      <th>PRICE</th>\n",
       "    </tr>\n",
       "  </thead>\n",
       "  <tbody>\n",
       "    <tr>\n",
       "      <th>0</th>\n",
       "      <td>MSI Modern 14, Intel 12th Gen. i7-1255U, 36CM ...</td>\n",
       "      <td>MSI Modern 14, Intel 12th Gen. i7-1255U, 36CM ...</td>\n",
       "      <td>49,990</td>\n",
       "    </tr>\n",
       "    <tr>\n",
       "      <th>1</th>\n",
       "      <td>MSI GF63 Thin, Intel Core i7-11800H, 40CM FHD ...</td>\n",
       "      <td>22</td>\n",
       "      <td>64,990</td>\n",
       "    </tr>\n",
       "    <tr>\n",
       "      <th>2</th>\n",
       "      <td>MSI GF63 Thin, Intel Core i7-11800H, 40CM FHD ...</td>\n",
       "      <td>22</td>\n",
       "      <td>57,990</td>\n",
       "    </tr>\n",
       "    <tr>\n",
       "      <th>3</th>\n",
       "      <td>Dell Inspiron 5430 Laptop, Intel Core i7-1360P...</td>\n",
       "      <td>Great Indian Festival</td>\n",
       "      <td>84,990</td>\n",
       "    </tr>\n",
       "    <tr>\n",
       "      <th>4</th>\n",
       "      <td>Samsung Galaxy Book3 Core i7 13th Gen 1355U - ...</td>\n",
       "      <td>₹49,990 M.R.P:\\n₹78,990</td>\n",
       "      <td>84,390</td>\n",
       "    </tr>\n",
       "    <tr>\n",
       "      <th>5</th>\n",
       "      <td>ASUS TUF Gaming F15, 15.6\"(39.62 cms) FHD 144H...</td>\n",
       "      <td>MSI GF63 Thin, Intel Core i7-11800H, 40CM FHD ...</td>\n",
       "      <td>75,990</td>\n",
       "    </tr>\n",
       "    <tr>\n",
       "      <th>6</th>\n",
       "      <td>ASUS Creator Series Vivobook 14X OLED (2023), ...</td>\n",
       "      <td>96</td>\n",
       "      <td>79,990</td>\n",
       "    </tr>\n",
       "    <tr>\n",
       "      <th>7</th>\n",
       "      <td>ASUS Vivobook 15, Intel Core i7-12650H 12th Ge...</td>\n",
       "      <td>96</td>\n",
       "      <td>60,990</td>\n",
       "    </tr>\n",
       "    <tr>\n",
       "      <th>8</th>\n",
       "      <td>Fujitsu CH 13th Gen Intel Core i7 13.3 inch(33...</td>\n",
       "      <td>Great Indian Festival</td>\n",
       "      <td>84,990</td>\n",
       "    </tr>\n",
       "    <tr>\n",
       "      <th>9</th>\n",
       "      <td>ASUS TUF Gaming F15 (2023) 90WHr Battery, Inte...</td>\n",
       "      <td>₹64,990 M.R.P:\\n₹89,990</td>\n",
       "      <td>1,04,990</td>\n",
       "    </tr>\n",
       "  </tbody>\n",
       "</table>\n",
       "</div>"
      ],
      "text/plain": [
       "                                         LAPTOP NAME  \\\n",
       "0  MSI Modern 14, Intel 12th Gen. i7-1255U, 36CM ...   \n",
       "1  MSI GF63 Thin, Intel Core i7-11800H, 40CM FHD ...   \n",
       "2  MSI GF63 Thin, Intel Core i7-11800H, 40CM FHD ...   \n",
       "3  Dell Inspiron 5430 Laptop, Intel Core i7-1360P...   \n",
       "4  Samsung Galaxy Book3 Core i7 13th Gen 1355U - ...   \n",
       "5  ASUS TUF Gaming F15, 15.6\"(39.62 cms) FHD 144H...   \n",
       "6  ASUS Creator Series Vivobook 14X OLED (2023), ...   \n",
       "7  ASUS Vivobook 15, Intel Core i7-12650H 12th Ge...   \n",
       "8  Fujitsu CH 13th Gen Intel Core i7 13.3 inch(33...   \n",
       "9  ASUS TUF Gaming F15 (2023) 90WHr Battery, Inte...   \n",
       "\n",
       "                                              RATING     PRICE  \n",
       "0  MSI Modern 14, Intel 12th Gen. i7-1255U, 36CM ...    49,990  \n",
       "1                                                 22    64,990  \n",
       "2                                                 22    57,990  \n",
       "3                              Great Indian Festival    84,990  \n",
       "4                            ₹49,990 M.R.P:\\n₹78,990    84,390  \n",
       "5  MSI GF63 Thin, Intel Core i7-11800H, 40CM FHD ...    75,990  \n",
       "6                                                 96    79,990  \n",
       "7                                                 96    60,990  \n",
       "8                              Great Indian Festival    84,990  \n",
       "9                            ₹64,990 M.R.P:\\n₹89,990  1,04,990  "
      ]
     },
     "execution_count": 403,
     "metadata": {},
     "output_type": "execute_result"
    }
   ],
   "source": [
    "import pandas as  pd\n",
    "df=pd.DataFrame({'LAPTOP NAME':title,'RATING':rating,'PRICE':price})\n",
    "df"
   ]
  },
  {
   "cell_type": "code",
   "execution_count": null,
   "id": "0fc7bef4",
   "metadata": {},
   "outputs": [],
   "source": []
  },
  {
   "cell_type": "markdown",
   "id": "d3eb102c",
   "metadata": {},
   "source": [
    "Q8: Write a python program to scrape data for Top 1000 Quotes of All Time.\n",
    "The above task will be done in following steps:\n",
    "1. First get the webpagehttps://www.azquotes.com/\n",
    "2. Click on TopQuotes\n",
    "3. Than scrap a) Quote b) Author c) Type Of Quotes"
   ]
  },
  {
   "cell_type": "code",
   "execution_count": 406,
   "id": "23569790",
   "metadata": {},
   "outputs": [],
   "source": [
    "driver=webdriver.Chrome()\n",
    "driver.get('https://www.azquotes.com/')"
   ]
  },
  {
   "cell_type": "code",
   "execution_count": 407,
   "id": "e6643e43",
   "metadata": {},
   "outputs": [],
   "source": [
    "find=driver.find_element(By.XPATH,'//*[@id=\"menu\"]/div/div[3]/ul/li[5]/a')\n",
    "find.click()  "
   ]
  },
  {
   "cell_type": "code",
   "execution_count": 408,
   "id": "9796e9c4",
   "metadata": {},
   "outputs": [],
   "source": [
    "quote=[]\n",
    "author=[]\n",
    "type=[]"
   ]
  },
  {
   "cell_type": "code",
   "execution_count": 415,
   "id": "6b32aeae",
   "metadata": {},
   "outputs": [],
   "source": [
    "start=0\n",
    "end=10\n",
    "for page in range(start,end):\n",
    "    q=driver.find_elements(By.CLASS_NAME,'title')\n",
    "    for i in q:\n",
    "        quote.append(i.text)\n",
    "        quote=quote[0:1000]"
   ]
  },
  {
   "cell_type": "code",
   "execution_count": 416,
   "id": "3c1d9c16",
   "metadata": {},
   "outputs": [
    {
     "data": {
      "text/plain": [
       "1000"
      ]
     },
     "execution_count": 416,
     "metadata": {},
     "output_type": "execute_result"
    }
   ],
   "source": [
    "len(quote)"
   ]
  },
  {
   "cell_type": "code",
   "execution_count": 417,
   "id": "26291f9c",
   "metadata": {},
   "outputs": [],
   "source": [
    "start=0\n",
    "end=10\n",
    "for page in range(start,end):\n",
    "    a=driver.find_elements(By.CLASS_NAME,'author')\n",
    "    for i in a:\n",
    "        author.append(i.text)\n",
    "        author=author[0:1000]"
   ]
  },
  {
   "cell_type": "code",
   "execution_count": 418,
   "id": "9cc133aa",
   "metadata": {},
   "outputs": [
    {
     "data": {
      "text/plain": [
       "1000"
      ]
     },
     "execution_count": 418,
     "metadata": {},
     "output_type": "execute_result"
    }
   ],
   "source": [
    "len(author)"
   ]
  },
  {
   "cell_type": "code",
   "execution_count": 419,
   "id": "073a44d3",
   "metadata": {},
   "outputs": [],
   "source": [
    "start=0\n",
    "end=10\n",
    "for page in range(start,end):\n",
    "    t=driver.find_elements(By.CLASS_NAME,'tags')\n",
    "    for i in t:\n",
    "        type.append(i.text)\n",
    "        type=type[0:1000]"
   ]
  },
  {
   "cell_type": "code",
   "execution_count": 420,
   "id": "a85d3e2d",
   "metadata": {},
   "outputs": [
    {
     "data": {
      "text/plain": [
       "1000"
      ]
     },
     "execution_count": 420,
     "metadata": {},
     "output_type": "execute_result"
    }
   ],
   "source": [
    "len(type)"
   ]
  },
  {
   "cell_type": "code",
   "execution_count": 421,
   "id": "da9d4510",
   "metadata": {},
   "outputs": [
    {
     "name": "stdout",
     "output_type": "stream",
     "text": [
      "1000 1000 1000\n"
     ]
    }
   ],
   "source": [
    "print(len(quote),len(author),len(type))"
   ]
  },
  {
   "cell_type": "code",
   "execution_count": 422,
   "id": "29952e6e",
   "metadata": {},
   "outputs": [
    {
     "data": {
      "text/html": [
       "<div>\n",
       "<style scoped>\n",
       "    .dataframe tbody tr th:only-of-type {\n",
       "        vertical-align: middle;\n",
       "    }\n",
       "\n",
       "    .dataframe tbody tr th {\n",
       "        vertical-align: top;\n",
       "    }\n",
       "\n",
       "    .dataframe thead th {\n",
       "        text-align: right;\n",
       "    }\n",
       "</style>\n",
       "<table border=\"1\" class=\"dataframe\">\n",
       "  <thead>\n",
       "    <tr style=\"text-align: right;\">\n",
       "      <th></th>\n",
       "      <th>Quote</th>\n",
       "      <th>Author Name</th>\n",
       "      <th>Type Of Quotes</th>\n",
       "    </tr>\n",
       "  </thead>\n",
       "  <tbody>\n",
       "    <tr>\n",
       "      <th>0</th>\n",
       "      <td>Authors:</td>\n",
       "      <td>Michael Porter</td>\n",
       "      <td>Essence, Deep Thought, Transcendentalism</td>\n",
       "    </tr>\n",
       "    <tr>\n",
       "      <th>1</th>\n",
       "      <td>The essence of strategy is choosing what not t...</td>\n",
       "      <td>Golda Meir</td>\n",
       "      <td>Inspiration, Past, Trying</td>\n",
       "    </tr>\n",
       "    <tr>\n",
       "      <th>2</th>\n",
       "      <td>One cannot and must not try to erase the past ...</td>\n",
       "      <td>Theodore Roosevelt</td>\n",
       "      <td>Country, Peace, War</td>\n",
       "    </tr>\n",
       "    <tr>\n",
       "      <th>3</th>\n",
       "      <td>Patriotism means to stand by the country. It d...</td>\n",
       "      <td>Nelson Mandela</td>\n",
       "      <td>Inspirational, Motivational, Death</td>\n",
       "    </tr>\n",
       "    <tr>\n",
       "      <th>4</th>\n",
       "      <td>Death is something inevitable. When a man has ...</td>\n",
       "      <td>Erma Bombeck</td>\n",
       "      <td>4th Of July, Food, Patriotic</td>\n",
       "    </tr>\n",
       "    <tr>\n",
       "      <th>...</th>\n",
       "      <td>...</td>\n",
       "      <td>...</td>\n",
       "      <td>...</td>\n",
       "    </tr>\n",
       "    <tr>\n",
       "      <th>995</th>\n",
       "      <td>Never be afraid to raise your voice for honest...</td>\n",
       "      <td>Hunter S. Thompson</td>\n",
       "      <td>Music, Sports, Hunting</td>\n",
       "    </tr>\n",
       "    <tr>\n",
       "      <th>996</th>\n",
       "      <td>There are three kinds of men. The one that lea...</td>\n",
       "      <td>Corrie Ten Boom</td>\n",
       "      <td>Trust, Encouraging, Uplifting</td>\n",
       "    </tr>\n",
       "    <tr>\n",
       "      <th>997</th>\n",
       "      <td>A strong nation, like a strong person, can aff...</td>\n",
       "      <td>Dalai Lama</td>\n",
       "      <td>Inspirational, Funny, Change</td>\n",
       "    </tr>\n",
       "    <tr>\n",
       "      <th>998</th>\n",
       "      <td>The difference between stupidity and genius is...</td>\n",
       "      <td>Mother Teresa</td>\n",
       "      <td>Success, God, Mother</td>\n",
       "    </tr>\n",
       "    <tr>\n",
       "      <th>999</th>\n",
       "      <td>We the people are the rightful masters of both...</td>\n",
       "      <td>Norman Vincent Peale</td>\n",
       "      <td>Inspirational, Motivational, Change</td>\n",
       "    </tr>\n",
       "  </tbody>\n",
       "</table>\n",
       "<p>1000 rows × 3 columns</p>\n",
       "</div>"
      ],
      "text/plain": [
       "                                                 Quote           Author Name  \\\n",
       "0                                             Authors:        Michael Porter   \n",
       "1    The essence of strategy is choosing what not t...            Golda Meir   \n",
       "2    One cannot and must not try to erase the past ...    Theodore Roosevelt   \n",
       "3    Patriotism means to stand by the country. It d...        Nelson Mandela   \n",
       "4    Death is something inevitable. When a man has ...          Erma Bombeck   \n",
       "..                                                 ...                   ...   \n",
       "995  Never be afraid to raise your voice for honest...    Hunter S. Thompson   \n",
       "996  There are three kinds of men. The one that lea...       Corrie Ten Boom   \n",
       "997  A strong nation, like a strong person, can aff...            Dalai Lama   \n",
       "998  The difference between stupidity and genius is...         Mother Teresa   \n",
       "999  We the people are the rightful masters of both...  Norman Vincent Peale   \n",
       "\n",
       "                               Type Of Quotes  \n",
       "0    Essence, Deep Thought, Transcendentalism  \n",
       "1                   Inspiration, Past, Trying  \n",
       "2                         Country, Peace, War  \n",
       "3          Inspirational, Motivational, Death  \n",
       "4                4th Of July, Food, Patriotic  \n",
       "..                                        ...  \n",
       "995                    Music, Sports, Hunting  \n",
       "996             Trust, Encouraging, Uplifting  \n",
       "997              Inspirational, Funny, Change  \n",
       "998                      Success, God, Mother  \n",
       "999       Inspirational, Motivational, Change  \n",
       "\n",
       "[1000 rows x 3 columns]"
      ]
     },
     "execution_count": 422,
     "metadata": {},
     "output_type": "execute_result"
    }
   ],
   "source": [
    "import pandas as pd\n",
    "df=pd.DataFrame({'Quote':quote,'Author Name':author,'Type Of Quotes':type})\n",
    "df"
   ]
  },
  {
   "cell_type": "code",
   "execution_count": null,
   "id": "1325f6a5",
   "metadata": {},
   "outputs": [],
   "source": []
  },
  {
   "cell_type": "markdown",
   "id": "61f17d3f",
   "metadata": {},
   "source": [
    "Q9: Write a python program to display list of respected former Prime Ministers of India(i.e. Name, Born-Dead,\n",
    "Term of office, Remarks) from https://www.jagranjosh.com/.\n",
    "This task will be done in following steps:\n",
    "1. First get the webpagehttps://www.jagranjosh.com/\n",
    "2. Then You have to click on the GK option\n",
    "3. Then click on the List of all Prime Ministers of India\n",
    "4. Then scrap the mentioned data and make theDataFrame"
   ]
  },
  {
   "cell_type": "code",
   "execution_count": 423,
   "id": "fa7a7a69",
   "metadata": {},
   "outputs": [],
   "source": [
    "driver=webdriver.Chrome()\n",
    "driver.get('https://www.jagranjosh.com/')"
   ]
  },
  {
   "cell_type": "code",
   "execution_count": 425,
   "id": "48357fed",
   "metadata": {},
   "outputs": [],
   "source": [
    "find=driver.find_element(By.XPATH,'//*[@id=\"__next\"]/header/nav/div/div/div[3]/ul/li[6]/a')\n",
    "find.click()"
   ]
  },
  {
   "cell_type": "code",
   "execution_count": 427,
   "id": "24ba4c5d",
   "metadata": {},
   "outputs": [],
   "source": [
    "pm=driver.find_element(By.XPATH,'//*[@id=\"popluarGK\"]/ul/li[2]/a')\n",
    "pm.click()"
   ]
  },
  {
   "cell_type": "code",
   "execution_count": 428,
   "id": "0035e39e",
   "metadata": {},
   "outputs": [],
   "source": [
    "name=[]\n",
    "born=[]\n",
    "term=[]\n",
    "remark=[]"
   ]
  },
  {
   "cell_type": "code",
   "execution_count": 429,
   "id": "f3851b76",
   "metadata": {},
   "outputs": [],
   "source": [
    "na=driver.find_elements(By.CLASS_NAME,'table-box')\n",
    "for i in na:\n",
    "    name.append(i.text)"
   ]
  },
  {
   "cell_type": "code",
   "execution_count": 430,
   "id": "28251b8b",
   "metadata": {},
   "outputs": [
    {
     "data": {
      "text/plain": [
       "[\"S.N.\\nPM Name\\nBorn-Dead\\nTerm of office\\nRemark\\n1.\\nJawahar Lal Nehru\\n(1889–1964)\\n15 August 1947 to 27 May 1964\\n16 years, 286 days\\nThe first prime minister of India and the longest-serving PM of India, the first to die in office.\\n2.\\nGulzarilal Nanda (Acting)\\n(1898-1998)\\n27 May 1964 to 9 June 1964,\\n13 days\\nFirst acting PM of India\\n3.\\nLal Bahadur Shastri\\n(1904–1966)\\n9 June 1964 to 11 January 1966\\n1 year, 216 days\\nHe has given the slogan of 'Jai Jawan Jai Kisan' during the Indo-Pak war of 1965\\n4. \\nGulzari Lal Nanda  (Acting)\\n(1898-1998)\\n11 January 1966 to 24 January 1966\\n13 days\\n-\\n5.\\nIndira Gandhi\\n(1917–1984)\\n24 January 1966 to 24 March 1977\\n11 years, 59 days\\nFirst female Prime Minister of India\\n6.\\nMorarji Desai\\n(1896–1995)\\n24 March 1977 to  28 July 1979 \\n2 year, 126 days\\nOldest to become PM (81 years old) and first to resign from office\\n7.\\nCharan Singh\\n(1902–1987)\\n28 July 1979 to 14 January 1980\\n170 days\\nOnly PM who did not face the Parliament\\n8.\\nIndira Gandhi\\n(1917–1984)\\n14 January 1980 to 31 October 1984\\n4 years, 291 days\\nThe first lady who served as PM for the second term\\n9.\\nRajiv Gandhi\\n(1944–1991)\\n31 October 1984 to 2 December 1989\\n5 years, 32 days\\nYoungest to become PM (40 years old)\\n10.\\nV. P. Singh\\n(1931–2008)\\n2 December 1989 to 10 November 1990\\n343 days\\nFirst PM to step down after a vote of no confidence\\n11.\\nChandra Shekhar\\n(1927–2007)\\n10 November 1990 to 21 June 1991\\n223 days\\nHe belongs to  Samajwadi Janata Party\\n12.\\nP. V. Narasimha Rao\\n(1921–2004)\\n21 June 1991 to 16 May 1996\\n4 years, 330 days\\nFirst PM from South India\\n13.\\nAtal Bihari Vajpayee\\n(1924- 2018)\\n16 May 1996 to 1 June 1996\\n16 days\\nPM for shortest tenure\\n14.\\nH. D. Deve Gowda\\n(born 1933)\\n1 June 1996 to 21 April 1997\\n324 days\\nHe belongs to  Janata Dal\\n15.\\nInder Kumar Gujral\\n(1919–2012)\\n21 April 1997 to 19 March 1998 \\n332 days\\n------\\n16.\\nAtal Bihari Vajpayee\\n(1924-2018)\\n19 March 1998 to 22 May 2004 \\n6 years, 64 days\\n The first non-congress PM who completed a full term as PM\\n17.\\nManmohan Singh\\n(born 1932)\\n22 May 2004 to 26 May 2014   \\n10 years, 4 days\\n First Sikh PM\\n18.\\nNarendra Modi\\n(born 1950)\\n26 May 2014 - 2019\\n4th Prime Minister of India who served two consecutive tenures\\n19.\\nNarendra Modi\\n(born 1950)\\n30 May 2019- Incumbent\\nFirst non-congress PM with two consecutive tenures\",\n",
       " 'List of all Presidents of India List of Nicknames of Indian Prime Ministers']"
      ]
     },
     "execution_count": 430,
     "metadata": {},
     "output_type": "execute_result"
    }
   ],
   "source": [
    "name"
   ]
  },
  {
   "cell_type": "code",
   "execution_count": 437,
   "id": "37b552dd",
   "metadata": {},
   "outputs": [],
   "source": [
    "df=pd.DataFrame(name,columns=['NAME'])"
   ]
  },
  {
   "cell_type": "code",
   "execution_count": 438,
   "id": "4370a446",
   "metadata": {},
   "outputs": [
    {
     "data": {
      "text/html": [
       "<div>\n",
       "<style scoped>\n",
       "    .dataframe tbody tr th:only-of-type {\n",
       "        vertical-align: middle;\n",
       "    }\n",
       "\n",
       "    .dataframe tbody tr th {\n",
       "        vertical-align: top;\n",
       "    }\n",
       "\n",
       "    .dataframe thead th {\n",
       "        text-align: right;\n",
       "    }\n",
       "</style>\n",
       "<table border=\"1\" class=\"dataframe\">\n",
       "  <thead>\n",
       "    <tr style=\"text-align: right;\">\n",
       "      <th></th>\n",
       "      <th>NAME</th>\n",
       "    </tr>\n",
       "  </thead>\n",
       "  <tbody>\n",
       "    <tr>\n",
       "      <th>0</th>\n",
       "      <td>S.N.\\nPM Name\\nBorn-Dead\\nTerm of office\\nRema...</td>\n",
       "    </tr>\n",
       "    <tr>\n",
       "      <th>1</th>\n",
       "      <td>List of all Presidents of India List of Nickna...</td>\n",
       "    </tr>\n",
       "  </tbody>\n",
       "</table>\n",
       "</div>"
      ],
      "text/plain": [
       "                                                NAME\n",
       "0  S.N.\\nPM Name\\nBorn-Dead\\nTerm of office\\nRema...\n",
       "1  List of all Presidents of India List of Nickna..."
      ]
     },
     "execution_count": 438,
     "metadata": {},
     "output_type": "execute_result"
    }
   ],
   "source": [
    "df"
   ]
  },
  {
   "cell_type": "code",
   "execution_count": null,
   "id": "81c09dca",
   "metadata": {},
   "outputs": [],
   "source": []
  },
  {
   "cell_type": "markdown",
   "id": "832f75b3",
   "metadata": {},
   "source": [
    "Q10: Write a python program to display list of 50 Most expensive cars in the world (i.e.\n",
    "Car name and Price) from https://www.motor1.com/\n",
    "\n",
    "This task will be done in following steps:\n",
    "1. First get the webpage https://www.motor1.com/\n",
    "2. Then You have to type in the search bar ’50 most expensive cars’\n",
    "3. Then click on 50 most expensive carsin the world..\n",
    "4. Then scrap the mentioned data and make the dataframe."
   ]
  },
  {
   "cell_type": "code",
   "execution_count": 444,
   "id": "7ec3a36d",
   "metadata": {},
   "outputs": [],
   "source": [
    "driver=webdriver.Chrome()\n",
    "driver.get('https://www.motor1.com/')"
   ]
  },
  {
   "cell_type": "code",
   "execution_count": 445,
   "id": "e7720f4b",
   "metadata": {},
   "outputs": [],
   "source": [
    "find=driver.find_element(By.CLASS_NAME,'m1-search-panel-input')\n",
    "find.send_keys('Most expensive cars in the world')"
   ]
  },
  {
   "cell_type": "code",
   "execution_count": 446,
   "id": "1198e286",
   "metadata": {},
   "outputs": [],
   "source": [
    "search=driver.find_element(By.CLASS_NAME,'m1-search-panel-button')\n",
    "search.click()"
   ]
  },
  {
   "cell_type": "code",
   "execution_count": 447,
   "id": "1400eecd",
   "metadata": {},
   "outputs": [],
   "source": [
    "se=driver.find_element(By.CLASS_NAME,'features-search_input-submit')\n",
    "se.click()"
   ]
  },
  {
   "cell_type": "code",
   "execution_count": 448,
   "id": "e787b56b",
   "metadata": {},
   "outputs": [],
   "source": [
    "car=driver.find_element(By.XPATH,'//*[@id=\"page_index_articles_search\"]/div[9]/div/div[1]/div/div/div[2]/div/div[1]/h3/a')\n",
    "car.click()"
   ]
  },
  {
   "cell_type": "code",
   "execution_count": 455,
   "id": "5c3e6f84",
   "metadata": {},
   "outputs": [],
   "source": [
    "name=[]\n",
    "price=[]"
   ]
  },
  {
   "cell_type": "code",
   "execution_count": 515,
   "id": "16c423a6",
   "metadata": {},
   "outputs": [],
   "source": [
    "na=driver.find_elements(By.CLASS_NAME,'subheader')\n",
    "for i in na:\n",
    "    name.append(i.text)\n",
    "    name=name[0:20]"
   ]
  },
  {
   "cell_type": "code",
   "execution_count": 516,
   "id": "ce140b22",
   "metadata": {},
   "outputs": [
    {
     "name": "stdout",
     "output_type": "stream",
     "text": [
      "20\n",
      "['Aston Martin Valour', 'McLaren Elva', 'Czinger 21C', 'Ferrari Monza', 'Gordon Murray T.33', 'Koenigsegg Gemera', 'Zenvo TSR-S', 'Hennessey Venom F5', 'Bentley Bacalar', 'Hispano Suiza Carmen Boulogne', 'Bentley Mulliner Batur', 'Deus Vayanne', 'SSC Tuatara', 'Lotus Evija', 'Aston Martin Vulcan', 'Delage D12', 'Ferrari Daytona SP3', 'McLaren Speedtail', 'Rimac Nevera', 'Pagani Utopia']\n"
     ]
    }
   ],
   "source": [
    "print(len(name))\n",
    "print(name)"
   ]
  },
  {
   "cell_type": "code",
   "execution_count": 509,
   "id": "26751baf",
   "metadata": {},
   "outputs": [],
   "source": [
    "rs=driver.find_elements(By.XPATH,'//*[@id=\"article_box\"]/div[1]/div[2]/div[2]/p[4]/strong')\n",
    "for i in rs:\n",
    "    price.append(i.text)\n",
    "    price=price[0:50]\n",
    "    \n",
    "# IT'S NOT WORKING SIR "
   ]
  },
  {
   "cell_type": "code",
   "execution_count": null,
   "id": "d3ee3447",
   "metadata": {},
   "outputs": [],
   "source": []
  },
  {
   "cell_type": "code",
   "execution_count": 518,
   "id": "91264053",
   "metadata": {},
   "outputs": [
    {
     "name": "stdout",
     "output_type": "stream",
     "text": [
      "20\n",
      "['Price: $1.5 Million', 'Price: $1.7 Million', 'Price: $1.7 Million', 'Price: $1.7 Million', 'Price: $1.7 Million', 'Price: $1.7 Million', 'Price: $1.7 Million', 'Price: $1.8 Million', 'Price: $1.9 Million', 'Price: $1.9 Million', 'Price: $2.0 Million', 'Price: $2.0 Million', 'Price: $2.0 Million', 'Price: $2.1 Million', 'Price: $2.3 Million', 'Price: $2.3 Million', 'Price: $2.3 Million', 'Price: $2.3 Million', 'Price: $2.4 Million', 'Price: $2.5 Million']\n"
     ]
    }
   ],
   "source": [
    "# Let's Scrape manually \n",
    "price=['Price: $1.5 Million','Price: $1.7 Million','Price: $1.7 Million','Price: $1.7 Million','Price: $1.7 Million','Price: $1.7 Million','Price: $1.7 Million','Price: $1.8 Million','Price: $1.9 Million','Price: $1.9 Million','Price: $2.0 Million','Price: $2.0 Million','Price: $2.0 Million','Price: $2.1 Million','Price: $2.3 Million','Price: $2.3 Million','Price: $2.3 Million','Price: $2.3 Million','Price: $2.4 Million','Price: $2.5 Million']\n",
    "print(len(price))\n",
    "print(price)"
   ]
  },
  {
   "cell_type": "code",
   "execution_count": 520,
   "id": "469fadae",
   "metadata": {},
   "outputs": [
    {
     "name": "stdout",
     "output_type": "stream",
     "text": [
      "20 20\n"
     ]
    }
   ],
   "source": [
    "print(len(name),len(price))"
   ]
  },
  {
   "cell_type": "code",
   "execution_count": 521,
   "id": "5dd03e77",
   "metadata": {},
   "outputs": [
    {
     "data": {
      "text/html": [
       "<div>\n",
       "<style scoped>\n",
       "    .dataframe tbody tr th:only-of-type {\n",
       "        vertical-align: middle;\n",
       "    }\n",
       "\n",
       "    .dataframe tbody tr th {\n",
       "        vertical-align: top;\n",
       "    }\n",
       "\n",
       "    .dataframe thead th {\n",
       "        text-align: right;\n",
       "    }\n",
       "</style>\n",
       "<table border=\"1\" class=\"dataframe\">\n",
       "  <thead>\n",
       "    <tr style=\"text-align: right;\">\n",
       "      <th></th>\n",
       "      <th>Car_Name</th>\n",
       "      <th>Car_Price</th>\n",
       "    </tr>\n",
       "  </thead>\n",
       "  <tbody>\n",
       "    <tr>\n",
       "      <th>0</th>\n",
       "      <td>Aston Martin Valour</td>\n",
       "      <td>Price: $1.5 Million</td>\n",
       "    </tr>\n",
       "    <tr>\n",
       "      <th>1</th>\n",
       "      <td>McLaren Elva</td>\n",
       "      <td>Price: $1.7 Million</td>\n",
       "    </tr>\n",
       "    <tr>\n",
       "      <th>2</th>\n",
       "      <td>Czinger 21C</td>\n",
       "      <td>Price: $1.7 Million</td>\n",
       "    </tr>\n",
       "    <tr>\n",
       "      <th>3</th>\n",
       "      <td>Ferrari Monza</td>\n",
       "      <td>Price: $1.7 Million</td>\n",
       "    </tr>\n",
       "    <tr>\n",
       "      <th>4</th>\n",
       "      <td>Gordon Murray T.33</td>\n",
       "      <td>Price: $1.7 Million</td>\n",
       "    </tr>\n",
       "    <tr>\n",
       "      <th>5</th>\n",
       "      <td>Koenigsegg Gemera</td>\n",
       "      <td>Price: $1.7 Million</td>\n",
       "    </tr>\n",
       "    <tr>\n",
       "      <th>6</th>\n",
       "      <td>Zenvo TSR-S</td>\n",
       "      <td>Price: $1.7 Million</td>\n",
       "    </tr>\n",
       "    <tr>\n",
       "      <th>7</th>\n",
       "      <td>Hennessey Venom F5</td>\n",
       "      <td>Price: $1.8 Million</td>\n",
       "    </tr>\n",
       "    <tr>\n",
       "      <th>8</th>\n",
       "      <td>Bentley Bacalar</td>\n",
       "      <td>Price: $1.9 Million</td>\n",
       "    </tr>\n",
       "    <tr>\n",
       "      <th>9</th>\n",
       "      <td>Hispano Suiza Carmen Boulogne</td>\n",
       "      <td>Price: $1.9 Million</td>\n",
       "    </tr>\n",
       "    <tr>\n",
       "      <th>10</th>\n",
       "      <td>Bentley Mulliner Batur</td>\n",
       "      <td>Price: $2.0 Million</td>\n",
       "    </tr>\n",
       "    <tr>\n",
       "      <th>11</th>\n",
       "      <td>Deus Vayanne</td>\n",
       "      <td>Price: $2.0 Million</td>\n",
       "    </tr>\n",
       "    <tr>\n",
       "      <th>12</th>\n",
       "      <td>SSC Tuatara</td>\n",
       "      <td>Price: $2.0 Million</td>\n",
       "    </tr>\n",
       "    <tr>\n",
       "      <th>13</th>\n",
       "      <td>Lotus Evija</td>\n",
       "      <td>Price: $2.1 Million</td>\n",
       "    </tr>\n",
       "    <tr>\n",
       "      <th>14</th>\n",
       "      <td>Aston Martin Vulcan</td>\n",
       "      <td>Price: $2.3 Million</td>\n",
       "    </tr>\n",
       "    <tr>\n",
       "      <th>15</th>\n",
       "      <td>Delage D12</td>\n",
       "      <td>Price: $2.3 Million</td>\n",
       "    </tr>\n",
       "    <tr>\n",
       "      <th>16</th>\n",
       "      <td>Ferrari Daytona SP3</td>\n",
       "      <td>Price: $2.3 Million</td>\n",
       "    </tr>\n",
       "    <tr>\n",
       "      <th>17</th>\n",
       "      <td>McLaren Speedtail</td>\n",
       "      <td>Price: $2.3 Million</td>\n",
       "    </tr>\n",
       "    <tr>\n",
       "      <th>18</th>\n",
       "      <td>Rimac Nevera</td>\n",
       "      <td>Price: $2.4 Million</td>\n",
       "    </tr>\n",
       "    <tr>\n",
       "      <th>19</th>\n",
       "      <td>Pagani Utopia</td>\n",
       "      <td>Price: $2.5 Million</td>\n",
       "    </tr>\n",
       "  </tbody>\n",
       "</table>\n",
       "</div>"
      ],
      "text/plain": [
       "                         Car_Name            Car_Price\n",
       "0             Aston Martin Valour  Price: $1.5 Million\n",
       "1                    McLaren Elva  Price: $1.7 Million\n",
       "2                     Czinger 21C  Price: $1.7 Million\n",
       "3                   Ferrari Monza  Price: $1.7 Million\n",
       "4              Gordon Murray T.33  Price: $1.7 Million\n",
       "5               Koenigsegg Gemera  Price: $1.7 Million\n",
       "6                     Zenvo TSR-S  Price: $1.7 Million\n",
       "7              Hennessey Venom F5  Price: $1.8 Million\n",
       "8                 Bentley Bacalar  Price: $1.9 Million\n",
       "9   Hispano Suiza Carmen Boulogne  Price: $1.9 Million\n",
       "10         Bentley Mulliner Batur  Price: $2.0 Million\n",
       "11                   Deus Vayanne  Price: $2.0 Million\n",
       "12                    SSC Tuatara  Price: $2.0 Million\n",
       "13                    Lotus Evija  Price: $2.1 Million\n",
       "14            Aston Martin Vulcan  Price: $2.3 Million\n",
       "15                     Delage D12  Price: $2.3 Million\n",
       "16            Ferrari Daytona SP3  Price: $2.3 Million\n",
       "17              McLaren Speedtail  Price: $2.3 Million\n",
       "18                   Rimac Nevera  Price: $2.4 Million\n",
       "19                  Pagani Utopia  Price: $2.5 Million"
      ]
     },
     "execution_count": 521,
     "metadata": {},
     "output_type": "execute_result"
    }
   ],
   "source": [
    "import pandas as  pd\n",
    "df=pd.DataFrame({'Car_Name':name,'Car_Price':price})\n",
    "df"
   ]
  },
  {
   "cell_type": "code",
   "execution_count": null,
   "id": "4eceb2dc",
   "metadata": {},
   "outputs": [],
   "source": []
  }
 ],
 "metadata": {
  "kernelspec": {
   "display_name": "Python 3 (ipykernel)",
   "language": "python",
   "name": "python3"
  },
  "language_info": {
   "codemirror_mode": {
    "name": "ipython",
    "version": 3
   },
   "file_extension": ".py",
   "mimetype": "text/x-python",
   "name": "python",
   "nbconvert_exporter": "python",
   "pygments_lexer": "ipython3",
   "version": "3.10.12"
  }
 },
 "nbformat": 4,
 "nbformat_minor": 5
}
