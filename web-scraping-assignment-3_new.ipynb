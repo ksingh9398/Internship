{
 "cells": [
  {
   "cell_type": "markdown",
   "id": "2349108b",
   "metadata": {},
   "source": [
    "# Assignment No- 3"
   ]
  },
  {
   "cell_type": "code",
   "execution_count": 1,
   "id": "684ca308",
   "metadata": {},
   "outputs": [],
   "source": [
    "import selenium\n",
    "from selenium import webdriver\n",
    "from selenium.webdriver.common.by import By\n",
    "import pandas as pd\n",
    "import warnings\n",
    "warnings.filterwarnings('ignore')\n",
    "import time"
   ]
  },
  {
   "cell_type": "markdown",
   "id": "9be39be0",
   "metadata": {},
   "source": [
    "Q--> 1--> Write a python program which searches all the product under a particular product from www.amazon.in. The\n",
    "product to be searched will be taken as input from user. For e.g. If user input is ‘guitar’. Then search for\n",
    "guitars. "
   ]
  },
  {
   "cell_type": "code",
   "execution_count": 66,
   "id": "7e9c0dae",
   "metadata": {},
   "outputs": [],
   "source": [
    "driver=webdriver.Chrome()\n",
    "driver.get('http://www.amazon.in/')"
   ]
  },
  {
   "cell_type": "code",
   "execution_count": 67,
   "id": "ac6694e8",
   "metadata": {},
   "outputs": [],
   "source": [
    "search=driver.find_element(By.CLASS_NAME,'nav-input')\n",
    "search.send_keys('guitars') # for input guitars\n",
    "\n",
    "find=driver.find_element(By.ID,'nav-search-submit-button')\n",
    "find.click()    # for click on search "
   ]
  },
  {
   "cell_type": "code",
   "execution_count": null,
   "id": "efbbe896",
   "metadata": {},
   "outputs": [],
   "source": []
  },
  {
   "cell_type": "markdown",
   "id": "18a93b86",
   "metadata": {},
   "source": [
    "Q--2--> In the above question, now scrape the following details of each product listed in first 3 pages of your search results and save it in a data frame and csv. In case if any product has less than 3 pages in search results then scrape all the products available under that product name. Details to be scraped are: \"Brand Name\", \"Name of the Product\", \"Price\", \"Return/Exchange\", \"Expected Delivery\", \"Availability\" and “Product URL”. In case, if any of the details are missing for any of the product then replace it by “-“"
   ]
  },
  {
   "cell_type": "code",
   "execution_count": 68,
   "id": "adc9dd4b",
   "metadata": {},
   "outputs": [],
   "source": [
    "# scrape all the product's url\n",
    "product_url=[]\n",
    "start=0\n",
    "end=30\n",
    "for page in range(start,end):\n",
    "    url=driver.find_elements(By.XPATH,'//*[@id=\"search\"]/div[1]/div[1]/div/span[1]/div[1]/div[3]/div/div/div/div/span/div/div/div[2]/div[1]/h2/a')\n",
    "    for i in url:\n",
    "        product_url.append(i.get_attribute(\"href\"))"
   ]
  },
  {
   "cell_type": "code",
   "execution_count": 69,
   "id": "00028aa2",
   "metadata": {},
   "outputs": [
    {
     "data": {
      "text/plain": [
       "30"
      ]
     },
     "execution_count": 69,
     "metadata": {},
     "output_type": "execute_result"
    }
   ],
   "source": [
    "len(product_url)"
   ]
  },
  {
   "cell_type": "code",
   "execution_count": 70,
   "id": "cfe5041a",
   "metadata": {},
   "outputs": [],
   "source": [
    "# product_url.clear()"
   ]
  },
  {
   "cell_type": "code",
   "execution_count": 71,
   "id": "6e1d29d7",
   "metadata": {},
   "outputs": [],
   "source": [
    "# product_url"
   ]
  },
  {
   "cell_type": "code",
   "execution_count": null,
   "id": "1b26d2ac",
   "metadata": {},
   "outputs": [],
   "source": [
    "for url in product_url:\n",
    "    driver.get(url)\n",
    "    time.sleep(1)"
   ]
  },
  {
   "cell_type": "code",
   "execution_count": null,
   "id": "356104c2",
   "metadata": {},
   "outputs": [],
   "source": [
    "product=[]\n",
    "brand=[]\n",
    "price=[]\n",
    "exchange=[]\n",
    "delivery=[]\n",
    "availability=[]\n",
    "url=[]"
   ]
  },
  {
   "cell_type": "code",
   "execution_count": 104,
   "id": "1eda92a1",
   "metadata": {},
   "outputs": [],
   "source": [
    "# for product name\n",
    "start=0\n",
    "end=20\n",
    "for page in range(start,end):\n",
    "    pro=driver.find_elements(By.XPATH,'//*[@id=\"productTitle\"]')\n",
    "    for i in pro:\n",
    "        product.append(i.text)\n",
    "        product=product[0:20]\n",
    "        \n",
    "# for Brand Name        \n",
    "start=0\n",
    "end=20\n",
    "for page in range(start,end):\n",
    "    br=driver.find_elements(By.XPATH,'//*[@id=\"productOverview_feature_div\"]/div/table/tbody/tr[1]/td[2]/span')\n",
    "    for i in br:\n",
    "        brand.append(i.text)\n",
    "        brand=brand[0:20]\n",
    "           \n",
    "# for Price\n",
    "start=0\n",
    "end=20\n",
    "for page in range(start,end):\n",
    "    pr=driver.find_elements(By.XPATH,'//*[@id=\"corePrice_feature_div\"]/div/div/span[1]/span[2]/span[2]')\n",
    "    for i in pr:\n",
    "        price.append(i.text)\n",
    "        price=price[0:20]\n",
    "        \n",
    "# for exchange data\n",
    "start=0\n",
    "end=20\n",
    "for page in range(start,end):\n",
    "    exc=driver.find_elements(By.XPATH,'//*[@id=\"RETURNS_POLICY\"]/span/div[2]/span')\n",
    "    for i in exc:\n",
    "        exchange.append(i.text)\n",
    "        exchange=exchange[0:20]\n",
    "        \n",
    "# for delivery data\n",
    "start=0\n",
    "end=20\n",
    "for page in range(start,end):\n",
    "    deli=driver.find_elements(By.XPATH,'//*[@id=\"mir-layout-DELIVERY_BLOCK-slot-PRIMARY_DELIVERY_MESSAGE_LARGE\"]/span/span[1]')\n",
    "    for i in deli:\n",
    "        delivery.append(i.text)\n",
    "        delivery=delivery[0:20]\n",
    "        \n",
    "        \n",
    "# for availability\n",
    "start=0\n",
    "end=20\n",
    "for page in range(start,end):\n",
    "    abl=driver.find_elements(By.XPATH,'//*[@id=\"availability\"]/span')\n",
    "    for i in abl:\n",
    "        availability.append(i.text)\n",
    "        availability=availability[0:20]\n",
    "        \n"
   ]
  },
  {
   "cell_type": "code",
   "execution_count": 108,
   "id": "e8c7a2e8",
   "metadata": {},
   "outputs": [
    {
     "name": "stdout",
     "output_type": "stream",
     "text": [
      "20 20 20 20 20 20\n"
     ]
    }
   ],
   "source": [
    "print(len(product),len(brand),len(price),len(exchange),len(delivery),len(availability))"
   ]
  },
  {
   "cell_type": "code",
   "execution_count": 109,
   "id": "6fc12e03",
   "metadata": {},
   "outputs": [
    {
     "data": {
      "text/html": [
       "<div>\n",
       "<style scoped>\n",
       "    .dataframe tbody tr th:only-of-type {\n",
       "        vertical-align: middle;\n",
       "    }\n",
       "\n",
       "    .dataframe tbody tr th {\n",
       "        vertical-align: top;\n",
       "    }\n",
       "\n",
       "    .dataframe thead th {\n",
       "        text-align: right;\n",
       "    }\n",
       "</style>\n",
       "<table border=\"1\" class=\"dataframe\">\n",
       "  <thead>\n",
       "    <tr style=\"text-align: right;\">\n",
       "      <th></th>\n",
       "      <th>Product Name</th>\n",
       "      <th>Brand Name</th>\n",
       "      <th>Price</th>\n",
       "      <th>Exchange Date</th>\n",
       "      <th>Delivery Date</th>\n",
       "      <th>Availability</th>\n",
       "    </tr>\n",
       "  </thead>\n",
       "  <tbody>\n",
       "    <tr>\n",
       "      <th>0</th>\n",
       "      <td>Kadence rosewood Guitar Frontier Series, Elect...</td>\n",
       "      <td>Kadence</td>\n",
       "      <td>5,499</td>\n",
       "      <td>7 days Replacement</td>\n",
       "      <td>Friday, 24 November</td>\n",
       "      <td>In stock</td>\n",
       "    </tr>\n",
       "    <tr>\n",
       "      <th>1</th>\n",
       "      <td></td>\n",
       "      <td>Kadence</td>\n",
       "      <td>5,499</td>\n",
       "      <td>7 days Replacement</td>\n",
       "      <td>Friday, 24 November</td>\n",
       "      <td>In stock</td>\n",
       "    </tr>\n",
       "    <tr>\n",
       "      <th>2</th>\n",
       "      <td>Kadence rosewood Guitar Frontier Series, Elect...</td>\n",
       "      <td>Kadence</td>\n",
       "      <td>5,499</td>\n",
       "      <td>7 days Replacement</td>\n",
       "      <td>Friday, 24 November</td>\n",
       "      <td>In stock</td>\n",
       "    </tr>\n",
       "    <tr>\n",
       "      <th>3</th>\n",
       "      <td></td>\n",
       "      <td>Kadence</td>\n",
       "      <td>5,499</td>\n",
       "      <td>7 days Replacement</td>\n",
       "      <td>Friday, 24 November</td>\n",
       "      <td>In stock</td>\n",
       "    </tr>\n",
       "    <tr>\n",
       "      <th>4</th>\n",
       "      <td>Kadence rosewood Guitar Frontier Series, Elect...</td>\n",
       "      <td>Kadence</td>\n",
       "      <td>5,499</td>\n",
       "      <td>7 days Replacement</td>\n",
       "      <td>Friday, 24 November</td>\n",
       "      <td>In stock</td>\n",
       "    </tr>\n",
       "    <tr>\n",
       "      <th>5</th>\n",
       "      <td></td>\n",
       "      <td>Kadence</td>\n",
       "      <td>5,499</td>\n",
       "      <td>7 days Replacement</td>\n",
       "      <td>Friday, 24 November</td>\n",
       "      <td>In stock</td>\n",
       "    </tr>\n",
       "    <tr>\n",
       "      <th>6</th>\n",
       "      <td>Kadence rosewood Guitar Frontier Series, Elect...</td>\n",
       "      <td>Kadence</td>\n",
       "      <td>5,499</td>\n",
       "      <td>7 days Replacement</td>\n",
       "      <td>Friday, 24 November</td>\n",
       "      <td>In stock</td>\n",
       "    </tr>\n",
       "    <tr>\n",
       "      <th>7</th>\n",
       "      <td></td>\n",
       "      <td>Kadence</td>\n",
       "      <td>5,499</td>\n",
       "      <td>7 days Replacement</td>\n",
       "      <td>Friday, 24 November</td>\n",
       "      <td>In stock</td>\n",
       "    </tr>\n",
       "    <tr>\n",
       "      <th>8</th>\n",
       "      <td>Kadence rosewood Guitar Frontier Series, Elect...</td>\n",
       "      <td>Kadence</td>\n",
       "      <td>5,499</td>\n",
       "      <td>7 days Replacement</td>\n",
       "      <td>Friday, 24 November</td>\n",
       "      <td>In stock</td>\n",
       "    </tr>\n",
       "    <tr>\n",
       "      <th>9</th>\n",
       "      <td></td>\n",
       "      <td>Kadence</td>\n",
       "      <td>5,499</td>\n",
       "      <td>7 days Replacement</td>\n",
       "      <td>Friday, 24 November</td>\n",
       "      <td>In stock</td>\n",
       "    </tr>\n",
       "    <tr>\n",
       "      <th>10</th>\n",
       "      <td>Kadence rosewood Guitar Frontier Series, Elect...</td>\n",
       "      <td>Kadence</td>\n",
       "      <td>5,499</td>\n",
       "      <td>7 days Replacement</td>\n",
       "      <td>Friday, 24 November</td>\n",
       "      <td>In stock</td>\n",
       "    </tr>\n",
       "    <tr>\n",
       "      <th>11</th>\n",
       "      <td></td>\n",
       "      <td>Kadence</td>\n",
       "      <td>5,499</td>\n",
       "      <td>7 days Replacement</td>\n",
       "      <td>Friday, 24 November</td>\n",
       "      <td>In stock</td>\n",
       "    </tr>\n",
       "    <tr>\n",
       "      <th>12</th>\n",
       "      <td>Kadence rosewood Guitar Frontier Series, Elect...</td>\n",
       "      <td>Kadence</td>\n",
       "      <td>5,499</td>\n",
       "      <td>7 days Replacement</td>\n",
       "      <td>Friday, 24 November</td>\n",
       "      <td>In stock</td>\n",
       "    </tr>\n",
       "    <tr>\n",
       "      <th>13</th>\n",
       "      <td></td>\n",
       "      <td>Kadence</td>\n",
       "      <td>5,499</td>\n",
       "      <td>7 days Replacement</td>\n",
       "      <td>Friday, 24 November</td>\n",
       "      <td>In stock</td>\n",
       "    </tr>\n",
       "    <tr>\n",
       "      <th>14</th>\n",
       "      <td>Kadence rosewood Guitar Frontier Series, Elect...</td>\n",
       "      <td>Kadence</td>\n",
       "      <td>5,499</td>\n",
       "      <td>7 days Replacement</td>\n",
       "      <td>Friday, 24 November</td>\n",
       "      <td>In stock</td>\n",
       "    </tr>\n",
       "    <tr>\n",
       "      <th>15</th>\n",
       "      <td></td>\n",
       "      <td>Kadence</td>\n",
       "      <td>5,499</td>\n",
       "      <td>7 days Replacement</td>\n",
       "      <td>Friday, 24 November</td>\n",
       "      <td>In stock</td>\n",
       "    </tr>\n",
       "    <tr>\n",
       "      <th>16</th>\n",
       "      <td>Kadence rosewood Guitar Frontier Series, Elect...</td>\n",
       "      <td>Kadence</td>\n",
       "      <td>5,499</td>\n",
       "      <td>7 days Replacement</td>\n",
       "      <td>Friday, 24 November</td>\n",
       "      <td>In stock</td>\n",
       "    </tr>\n",
       "    <tr>\n",
       "      <th>17</th>\n",
       "      <td></td>\n",
       "      <td>Kadence</td>\n",
       "      <td>5,499</td>\n",
       "      <td>7 days Replacement</td>\n",
       "      <td>Friday, 24 November</td>\n",
       "      <td>In stock</td>\n",
       "    </tr>\n",
       "    <tr>\n",
       "      <th>18</th>\n",
       "      <td>Kadence rosewood Guitar Frontier Series, Elect...</td>\n",
       "      <td>Kadence</td>\n",
       "      <td>5,499</td>\n",
       "      <td>7 days Replacement</td>\n",
       "      <td>Friday, 24 November</td>\n",
       "      <td>In stock</td>\n",
       "    </tr>\n",
       "    <tr>\n",
       "      <th>19</th>\n",
       "      <td></td>\n",
       "      <td>Kadence</td>\n",
       "      <td>5,499</td>\n",
       "      <td>7 days Replacement</td>\n",
       "      <td>Friday, 24 November</td>\n",
       "      <td>In stock</td>\n",
       "    </tr>\n",
       "  </tbody>\n",
       "</table>\n",
       "</div>"
      ],
      "text/plain": [
       "                                         Product Name Brand Name  Price  \\\n",
       "0   Kadence rosewood Guitar Frontier Series, Elect...    Kadence  5,499   \n",
       "1                                                        Kadence  5,499   \n",
       "2   Kadence rosewood Guitar Frontier Series, Elect...    Kadence  5,499   \n",
       "3                                                        Kadence  5,499   \n",
       "4   Kadence rosewood Guitar Frontier Series, Elect...    Kadence  5,499   \n",
       "5                                                        Kadence  5,499   \n",
       "6   Kadence rosewood Guitar Frontier Series, Elect...    Kadence  5,499   \n",
       "7                                                        Kadence  5,499   \n",
       "8   Kadence rosewood Guitar Frontier Series, Elect...    Kadence  5,499   \n",
       "9                                                        Kadence  5,499   \n",
       "10  Kadence rosewood Guitar Frontier Series, Elect...    Kadence  5,499   \n",
       "11                                                       Kadence  5,499   \n",
       "12  Kadence rosewood Guitar Frontier Series, Elect...    Kadence  5,499   \n",
       "13                                                       Kadence  5,499   \n",
       "14  Kadence rosewood Guitar Frontier Series, Elect...    Kadence  5,499   \n",
       "15                                                       Kadence  5,499   \n",
       "16  Kadence rosewood Guitar Frontier Series, Elect...    Kadence  5,499   \n",
       "17                                                       Kadence  5,499   \n",
       "18  Kadence rosewood Guitar Frontier Series, Elect...    Kadence  5,499   \n",
       "19                                                       Kadence  5,499   \n",
       "\n",
       "         Exchange Date        Delivery Date Availability  \n",
       "0   7 days Replacement  Friday, 24 November     In stock  \n",
       "1   7 days Replacement  Friday, 24 November     In stock  \n",
       "2   7 days Replacement  Friday, 24 November     In stock  \n",
       "3   7 days Replacement  Friday, 24 November     In stock  \n",
       "4   7 days Replacement  Friday, 24 November     In stock  \n",
       "5   7 days Replacement  Friday, 24 November     In stock  \n",
       "6   7 days Replacement  Friday, 24 November     In stock  \n",
       "7   7 days Replacement  Friday, 24 November     In stock  \n",
       "8   7 days Replacement  Friday, 24 November     In stock  \n",
       "9   7 days Replacement  Friday, 24 November     In stock  \n",
       "10  7 days Replacement  Friday, 24 November     In stock  \n",
       "11  7 days Replacement  Friday, 24 November     In stock  \n",
       "12  7 days Replacement  Friday, 24 November     In stock  \n",
       "13  7 days Replacement  Friday, 24 November     In stock  \n",
       "14  7 days Replacement  Friday, 24 November     In stock  \n",
       "15  7 days Replacement  Friday, 24 November     In stock  \n",
       "16  7 days Replacement  Friday, 24 November     In stock  \n",
       "17  7 days Replacement  Friday, 24 November     In stock  \n",
       "18  7 days Replacement  Friday, 24 November     In stock  \n",
       "19  7 days Replacement  Friday, 24 November     In stock  "
      ]
     },
     "execution_count": 109,
     "metadata": {},
     "output_type": "execute_result"
    }
   ],
   "source": [
    "# DataFrame\n",
    "import pandas as pd\n",
    "df=pd.DataFrame({'Product Name':product,'Brand Name':brand,'Price':price,'Exchange Date':exchange,'Delivery Date':delivery,'Availability':availability})\n",
    "df"
   ]
  },
  {
   "cell_type": "code",
   "execution_count": null,
   "id": "1ecc9429",
   "metadata": {},
   "outputs": [],
   "source": []
  },
  {
   "cell_type": "markdown",
   "id": "851158a8",
   "metadata": {},
   "source": [
    "Q-3-> Write a python program to access the search bar and search button on images.google.com and scrape 10\n",
    "images each for keywords ‘fruits’, ‘cars’ and ‘Machine Learning’, ‘Guitar’, ‘Cakes’. \n"
   ]
  },
  {
   "cell_type": "code",
   "execution_count": 24,
   "id": "e8d01077",
   "metadata": {},
   "outputs": [],
   "source": [
    "driver=webdriver.Chrome()\n",
    "driver.get('https://images.google.com/?gws_rd=ssl')"
   ]
  },
  {
   "cell_type": "code",
   "execution_count": 26,
   "id": "85f3c04b",
   "metadata": {},
   "outputs": [],
   "source": [
    "find=driver.find_element(By.CLASS_NAME,'gLFyf')\n",
    "find.send_keys('cars')\n",
    "\n",
    "clk=driver.find_element(By.CLASS_NAME,'zgAlFc')\n",
    "clk.click()"
   ]
  },
  {
   "cell_type": "code",
   "execution_count": 27,
   "id": "267b8c5f",
   "metadata": {},
   "outputs": [],
   "source": [
    "fruits=[]\n",
    "cars=[]\n",
    "ml=[]\n",
    "guitar=[]\n",
    "cakes=[]"
   ]
  },
  {
   "cell_type": "code",
   "execution_count": null,
   "id": "0e946342",
   "metadata": {},
   "outputs": [],
   "source": [
    "photo=driver.find_elements(By.XPATH,\"\"\"\"//img[@XPATH=\"islrg\"]/div[1]/div[1]/a[1]/div[1]/img\"\"\")\n",
    "for i in photo:\n",
    "    po=i.get_attribute('src')\n",
    "    fruits.append(po)"
   ]
  },
  {
   "cell_type": "code",
   "execution_count": 31,
   "id": "661bba37",
   "metadata": {},
   "outputs": [
    {
     "data": {
      "text/plain": [
       "[]"
      ]
     },
     "execution_count": 31,
     "metadata": {},
     "output_type": "execute_result"
    }
   ],
   "source": [
    "fruits"
   ]
  },
  {
   "cell_type": "code",
   "execution_count": 169,
   "id": "d5005c7d",
   "metadata": {},
   "outputs": [],
   "source": [
    "fruits.clear()"
   ]
  },
  {
   "cell_type": "code",
   "execution_count": null,
   "id": "2e44311d",
   "metadata": {},
   "outputs": [],
   "source": []
  },
  {
   "cell_type": "markdown",
   "id": "230631b0",
   "metadata": {},
   "source": [
    "Q 4--> Write a python program to search for a smartphone(e.g.: Oneplus Nord, pixel 4A, etc.) on www.flipkart.com\n",
    "and scrape following details for all the search results displayed on 1st page. Details to be scraped: “Brand\n",
    "Name”, “Smartphone name”, “Colour”, “RAM”, “Storage(ROM)”, “Primary Camera”,\n",
    "“Secondary Camera”, “Display Size”, “Battery Capacity”, “Price”, “Product URL”. Incase if any of the\n",
    "details is missing then replace it by “- “. Save your results in a dataframe and CSV. "
   ]
  },
  {
   "cell_type": "code",
   "execution_count": 227,
   "id": "f0139b9b",
   "metadata": {},
   "outputs": [],
   "source": [
    "driver=webdriver.Chrome()\n",
    "driver.get('https://www.flipkart.com/')"
   ]
  },
  {
   "cell_type": "code",
   "execution_count": 233,
   "id": "493bff89",
   "metadata": {},
   "outputs": [],
   "source": [
    "input_=driver.find_element(By.CLASS_NAME,'Pke_EE')\n",
    "input_.send_keys('Oneplus Nord, pixel 4A')"
   ]
  },
  {
   "cell_type": "code",
   "execution_count": 234,
   "id": "ad1b345d",
   "metadata": {},
   "outputs": [],
   "source": [
    "cl=driver.find_element(By.CLASS_NAME,'_2iLD__').click()"
   ]
  },
  {
   "cell_type": "code",
   "execution_count": 235,
   "id": "68f52dab",
   "metadata": {},
   "outputs": [],
   "source": [
    "name=[]\n",
    "brand=[]\n",
    "price=[]\n",
    "color=[]\n",
    "ram=[]\n",
    "storage=[]\n",
    "camera=[]\n",
    "secondry_camera=[]\n",
    "display=[]\n",
    "battery=[]\n",
    "url=[]"
   ]
  },
  {
   "cell_type": "code",
   "execution_count": 396,
   "id": "603c8d38",
   "metadata": {},
   "outputs": [],
   "source": [
    "na=driver.find_elements(By.CLASS_NAME,'_4rR01T')\n",
    "for i in na:\n",
    "    name.append(i.text)\n",
    "    name=name[0:8]"
   ]
  },
  {
   "cell_type": "code",
   "execution_count": 410,
   "id": "82d8cd2b",
   "metadata": {},
   "outputs": [
    {
     "name": "stdout",
     "output_type": "stream",
     "text": [
      "8\n"
     ]
    }
   ],
   "source": [
    "print(len(name))\n",
    "# name"
   ]
  },
  {
   "cell_type": "code",
   "execution_count": 354,
   "id": "14f5d7a4",
   "metadata": {},
   "outputs": [],
   "source": [
    "# name.clear()"
   ]
  },
  {
   "cell_type": "code",
   "execution_count": 397,
   "id": "54f6871d",
   "metadata": {},
   "outputs": [],
   "source": [
    "rate=driver.find_elements(By.CLASS_NAME,'_30jeq3')\n",
    "for i in rate:\n",
    "    price.append(i.text)\n",
    "    price=price[0:8]"
   ]
  },
  {
   "cell_type": "code",
   "execution_count": 345,
   "id": "a2404ea1",
   "metadata": {},
   "outputs": [],
   "source": [
    "# price"
   ]
  },
  {
   "cell_type": "code",
   "execution_count": 411,
   "id": "97b16cb2",
   "metadata": {},
   "outputs": [
    {
     "data": {
      "text/plain": [
       "8"
      ]
     },
     "execution_count": 411,
     "metadata": {},
     "output_type": "execute_result"
    }
   ],
   "source": [
    "# price.clear()\n",
    "len(price)"
   ]
  },
  {
   "cell_type": "code",
   "execution_count": 399,
   "id": "db8a3c27",
   "metadata": {},
   "outputs": [],
   "source": [
    "br=driver.find_elements(By.CLASS_NAME,'_4rR01T')\n",
    "for i in br:\n",
    "    brand.append(i.text)\n",
    "    brand=brand[0:8]"
   ]
  },
  {
   "cell_type": "code",
   "execution_count": null,
   "id": "9434d8fd",
   "metadata": {},
   "outputs": [],
   "source": []
  },
  {
   "cell_type": "code",
   "execution_count": 412,
   "id": "bd2d0209",
   "metadata": {},
   "outputs": [
    {
     "data": {
      "text/plain": [
       "8"
      ]
     },
     "execution_count": 412,
     "metadata": {},
     "output_type": "execute_result"
    }
   ],
   "source": [
    "len(brand)"
   ]
  },
  {
   "cell_type": "code",
   "execution_count": 400,
   "id": "a6b44b6c",
   "metadata": {},
   "outputs": [],
   "source": [
    "r=driver.find_elements(By.XPATH,'/html/body/div/div/div[3]/div[1]/div[2]/div[2]/div/div/div/a/div[2]/div[1]/div[3]/ul/li[1]')\n",
    "for i in r:\n",
    "    ram.append(i.text)\n",
    "    ram=ram[0:8]"
   ]
  },
  {
   "cell_type": "code",
   "execution_count": 413,
   "id": "230ccacf",
   "metadata": {},
   "outputs": [
    {
     "data": {
      "text/plain": [
       "8"
      ]
     },
     "execution_count": 413,
     "metadata": {},
     "output_type": "execute_result"
    }
   ],
   "source": [
    "len(ram)"
   ]
  },
  {
   "cell_type": "code",
   "execution_count": 402,
   "id": "420779f8",
   "metadata": {},
   "outputs": [
    {
     "data": {
      "text/plain": [
       "['6 GB RAM | 64 GB ROM',\n",
       " '16.36 cm (6.44 inch) Full HD+ Display',\n",
       " '48MP + 8MP | 32MP + 8MP Dual Front Camera',\n",
       " '4115 mAh Battery',\n",
       " 'Qualcomm® Snapdragon™ 765G Processor',\n",
       " '1 Year',\n",
       " '8 GB RAM | 128 GB ROM',\n",
       " '16.36 cm (6.44 inch) Full HD+ Display']"
      ]
     },
     "execution_count": 402,
     "metadata": {},
     "output_type": "execute_result"
    }
   ],
   "source": [
    "ram"
   ]
  },
  {
   "cell_type": "code",
   "execution_count": 403,
   "id": "80282116",
   "metadata": {},
   "outputs": [],
   "source": [
    "cam=driver.find_elements(By.CLASS_NAME,'rgWa7D')\n",
    "for i in cam:\n",
    "    camera.append(i.text)\n",
    "    camera=camera[0:8]"
   ]
  },
  {
   "cell_type": "code",
   "execution_count": 414,
   "id": "6ad08fd2",
   "metadata": {},
   "outputs": [
    {
     "data": {
      "text/plain": [
       "8"
      ]
     },
     "execution_count": 414,
     "metadata": {},
     "output_type": "execute_result"
    }
   ],
   "source": [
    "len(camera)"
   ]
  },
  {
   "cell_type": "code",
   "execution_count": 405,
   "id": "5e045906",
   "metadata": {},
   "outputs": [],
   "source": [
    "sec=driver.find_elements(By.CLASS_NAME,'rgWa7D')\n",
    "for i in sec:\n",
    "    secondry_camera.append(i.text)\n",
    "    secondry_camera=camera[0:8]"
   ]
  },
  {
   "cell_type": "code",
   "execution_count": 415,
   "id": "db54c697",
   "metadata": {},
   "outputs": [
    {
     "data": {
      "text/plain": [
       "8"
      ]
     },
     "execution_count": 415,
     "metadata": {},
     "output_type": "execute_result"
    }
   ],
   "source": [
    "len(secondry_camera)"
   ]
  },
  {
   "cell_type": "code",
   "execution_count": 406,
   "id": "893c3ce4",
   "metadata": {},
   "outputs": [],
   "source": [
    "des=driver.find_elements(By.CLASS_NAME,'rgWa7D')\n",
    "for i in des:\n",
    "    display.append(i.text)\n",
    "    display=camera[0:8]"
   ]
  },
  {
   "cell_type": "code",
   "execution_count": 416,
   "id": "cf5ce809",
   "metadata": {},
   "outputs": [
    {
     "data": {
      "text/plain": [
       "8"
      ]
     },
     "execution_count": 416,
     "metadata": {},
     "output_type": "execute_result"
    }
   ],
   "source": [
    "len(display)"
   ]
  },
  {
   "cell_type": "code",
   "execution_count": 407,
   "id": "c99d2241",
   "metadata": {},
   "outputs": [],
   "source": [
    "bat=driver.find_elements(By.CLASS_NAME,'rgWa7D')\n",
    "for i in bat:\n",
    "    battery.append(i.text)\n",
    "    battery=camera[0:8]"
   ]
  },
  {
   "cell_type": "code",
   "execution_count": 417,
   "id": "c15bafce",
   "metadata": {},
   "outputs": [
    {
     "data": {
      "text/plain": [
       "8"
      ]
     },
     "execution_count": 417,
     "metadata": {},
     "output_type": "execute_result"
    }
   ],
   "source": [
    "len(battery)"
   ]
  },
  {
   "cell_type": "code",
   "execution_count": 418,
   "id": "66093666",
   "metadata": {},
   "outputs": [],
   "source": [
    "link=driver.find_elements(By.XPATH,\"//a[@class='_1fQZEK']\")\n",
    "for i in link:\n",
    "    new=i.get_attribute('href')\n",
    "    url.append(new)\n",
    "    url=url[0:8]"
   ]
  },
  {
   "cell_type": "code",
   "execution_count": 389,
   "id": "312560f2",
   "metadata": {},
   "outputs": [],
   "source": [
    "url.clear()"
   ]
  },
  {
   "cell_type": "code",
   "execution_count": 419,
   "id": "1933fd0d",
   "metadata": {},
   "outputs": [
    {
     "data": {
      "text/plain": [
       "8"
      ]
     },
     "execution_count": 419,
     "metadata": {},
     "output_type": "execute_result"
    }
   ],
   "source": [
    "len(url)"
   ]
  },
  {
   "cell_type": "code",
   "execution_count": null,
   "id": "0a5ea5c7",
   "metadata": {},
   "outputs": [],
   "source": [
    "name=[]\n",
    "brand=[]\n",
    "price=[]\n",
    "color=[]\n",
    "ram=[]\n",
    "storage=[]\n",
    "camera=[]\n",
    "secondry_camera=[]\n",
    "display=[]\n",
    "battery=[]\n",
    "url=[]"
   ]
  },
  {
   "cell_type": "code",
   "execution_count": 421,
   "id": "110eac3e",
   "metadata": {},
   "outputs": [
    {
     "data": {
      "text/html": [
       "<div>\n",
       "<style scoped>\n",
       "    .dataframe tbody tr th:only-of-type {\n",
       "        vertical-align: middle;\n",
       "    }\n",
       "\n",
       "    .dataframe tbody tr th {\n",
       "        vertical-align: top;\n",
       "    }\n",
       "\n",
       "    .dataframe thead th {\n",
       "        text-align: right;\n",
       "    }\n",
       "</style>\n",
       "<table border=\"1\" class=\"dataframe\">\n",
       "  <thead>\n",
       "    <tr style=\"text-align: right;\">\n",
       "      <th></th>\n",
       "      <th>product_name</th>\n",
       "      <th>Product Brand</th>\n",
       "      <th>product_price</th>\n",
       "      <th>product ram</th>\n",
       "      <th>camera</th>\n",
       "      <th>secondry comera</th>\n",
       "      <th>display</th>\n",
       "      <th>battery</th>\n",
       "      <th>url</th>\n",
       "    </tr>\n",
       "  </thead>\n",
       "  <tbody>\n",
       "    <tr>\n",
       "      <th>0</th>\n",
       "      <td>OnePlus Nord (Gray Onyx, 64 GB)</td>\n",
       "      <td>OnePlus Nord (Gray Onyx, 64 GB)</td>\n",
       "      <td>₹22,689</td>\n",
       "      <td>6 GB RAM | 64 GB ROM</td>\n",
       "      <td>6 GB RAM | 64 GB ROM</td>\n",
       "      <td>6 GB RAM | 64 GB ROM</td>\n",
       "      <td>6 GB RAM | 64 GB ROM</td>\n",
       "      <td>6 GB RAM | 64 GB ROM</td>\n",
       "      <td>https://www.flipkart.com/oneplus-nord-gray-ony...</td>\n",
       "    </tr>\n",
       "    <tr>\n",
       "      <th>1</th>\n",
       "      <td>OnePlus Nord (Blue Marble, 128 GB)</td>\n",
       "      <td>OnePlus Nord (Blue Marble, 128 GB)</td>\n",
       "      <td>₹24,790</td>\n",
       "      <td>16.36 cm (6.44 inch) Full HD+ Display</td>\n",
       "      <td>16.36 cm (6.44 inch) Full HD+ Display</td>\n",
       "      <td>16.36 cm (6.44 inch) Full HD+ Display</td>\n",
       "      <td>16.36 cm (6.44 inch) Full HD+ Display</td>\n",
       "      <td>16.36 cm (6.44 inch) Full HD+ Display</td>\n",
       "      <td>https://www.flipkart.com/oneplus-nord-blue-mar...</td>\n",
       "    </tr>\n",
       "    <tr>\n",
       "      <th>2</th>\n",
       "      <td>OnePlus Nord CE 2 5G (Gray Mirror, 128 GB)</td>\n",
       "      <td>OnePlus Nord CE 2 5G (Gray Mirror, 128 GB)</td>\n",
       "      <td>₹24,999</td>\n",
       "      <td>48MP + 8MP | 32MP + 8MP Dual Front Camera</td>\n",
       "      <td>48MP + 8MP | 32MP + 8MP Dual Front Camera</td>\n",
       "      <td>48MP + 8MP | 32MP + 8MP Dual Front Camera</td>\n",
       "      <td>48MP + 8MP | 32MP + 8MP Dual Front Camera</td>\n",
       "      <td>48MP + 8MP | 32MP + 8MP Dual Front Camera</td>\n",
       "      <td>https://www.flipkart.com/oneplus-nord-ce-2-5g-...</td>\n",
       "    </tr>\n",
       "    <tr>\n",
       "      <th>3</th>\n",
       "      <td>OnePlus Nord (Gray Onyx, 128 GB)</td>\n",
       "      <td>OnePlus Nord (Gray Onyx, 128 GB)</td>\n",
       "      <td>₹24,600</td>\n",
       "      <td>4115 mAh Battery</td>\n",
       "      <td>4115 mAh Battery</td>\n",
       "      <td>4115 mAh Battery</td>\n",
       "      <td>4115 mAh Battery</td>\n",
       "      <td>4115 mAh Battery</td>\n",
       "      <td>https://www.flipkart.com/oneplus-nord-gray-ony...</td>\n",
       "    </tr>\n",
       "    <tr>\n",
       "      <th>4</th>\n",
       "      <td>OnePlus Nord (Blue Marble, 64 GB)</td>\n",
       "      <td>OnePlus Nord (Blue Marble, 64 GB)</td>\n",
       "      <td>₹22,980</td>\n",
       "      <td>Qualcomm® Snapdragon™ 765G Processor</td>\n",
       "      <td>Qualcomm® Snapdragon™ 765G Processor</td>\n",
       "      <td>Qualcomm® Snapdragon™ 765G Processor</td>\n",
       "      <td>Qualcomm® Snapdragon™ 765G Processor</td>\n",
       "      <td>Qualcomm® Snapdragon™ 765G Processor</td>\n",
       "      <td>https://www.flipkart.com/oneplus-nord-blue-mar...</td>\n",
       "    </tr>\n",
       "    <tr>\n",
       "      <th>5</th>\n",
       "      <td>OnePlus Nord (Gray Onyx, 256 GB)</td>\n",
       "      <td>OnePlus Nord (Gray Onyx, 256 GB)</td>\n",
       "      <td>₹22,999</td>\n",
       "      <td>1 Year</td>\n",
       "      <td>1 Year</td>\n",
       "      <td>1 Year</td>\n",
       "      <td>1 Year</td>\n",
       "      <td>1 Year</td>\n",
       "      <td>https://www.flipkart.com/oneplus-nord-gray-ony...</td>\n",
       "    </tr>\n",
       "    <tr>\n",
       "      <th>6</th>\n",
       "      <td>OnePlus Nord (Blue Marble, 256 GB)</td>\n",
       "      <td>OnePlus Nord (Blue Marble, 256 GB)</td>\n",
       "      <td>₹21,999</td>\n",
       "      <td>8 GB RAM | 128 GB ROM</td>\n",
       "      <td>8 GB RAM | 128 GB ROM</td>\n",
       "      <td>8 GB RAM | 128 GB ROM</td>\n",
       "      <td>8 GB RAM | 128 GB ROM</td>\n",
       "      <td>8 GB RAM | 128 GB ROM</td>\n",
       "      <td>https://www.flipkart.com/oneplus-nord-blue-mar...</td>\n",
       "    </tr>\n",
       "    <tr>\n",
       "      <th>7</th>\n",
       "      <td>OnePlus Nord CE 2 5G (Bahama Blue, 128 GB)</td>\n",
       "      <td>OnePlus Nord CE 2 5G (Bahama Blue, 128 GB)</td>\n",
       "      <td>₹24,499</td>\n",
       "      <td>16.36 cm (6.44 inch) Full HD+ Display</td>\n",
       "      <td>16.36 cm (6.44 inch) Full HD+ Display</td>\n",
       "      <td>16.36 cm (6.44 inch) Full HD+ Display</td>\n",
       "      <td>16.36 cm (6.44 inch) Full HD+ Display</td>\n",
       "      <td>16.36 cm (6.44 inch) Full HD+ Display</td>\n",
       "      <td>https://www.flipkart.com/oneplus-nord-ce-2-5g-...</td>\n",
       "    </tr>\n",
       "  </tbody>\n",
       "</table>\n",
       "</div>"
      ],
      "text/plain": [
       "                                 product_name  \\\n",
       "0             OnePlus Nord (Gray Onyx, 64 GB)   \n",
       "1          OnePlus Nord (Blue Marble, 128 GB)   \n",
       "2  OnePlus Nord CE 2 5G (Gray Mirror, 128 GB)   \n",
       "3            OnePlus Nord (Gray Onyx, 128 GB)   \n",
       "4           OnePlus Nord (Blue Marble, 64 GB)   \n",
       "5            OnePlus Nord (Gray Onyx, 256 GB)   \n",
       "6          OnePlus Nord (Blue Marble, 256 GB)   \n",
       "7  OnePlus Nord CE 2 5G (Bahama Blue, 128 GB)   \n",
       "\n",
       "                                Product Brand product_price  \\\n",
       "0             OnePlus Nord (Gray Onyx, 64 GB)       ₹22,689   \n",
       "1          OnePlus Nord (Blue Marble, 128 GB)       ₹24,790   \n",
       "2  OnePlus Nord CE 2 5G (Gray Mirror, 128 GB)       ₹24,999   \n",
       "3            OnePlus Nord (Gray Onyx, 128 GB)       ₹24,600   \n",
       "4           OnePlus Nord (Blue Marble, 64 GB)       ₹22,980   \n",
       "5            OnePlus Nord (Gray Onyx, 256 GB)       ₹22,999   \n",
       "6          OnePlus Nord (Blue Marble, 256 GB)       ₹21,999   \n",
       "7  OnePlus Nord CE 2 5G (Bahama Blue, 128 GB)       ₹24,499   \n",
       "\n",
       "                                 product ram  \\\n",
       "0                       6 GB RAM | 64 GB ROM   \n",
       "1      16.36 cm (6.44 inch) Full HD+ Display   \n",
       "2  48MP + 8MP | 32MP + 8MP Dual Front Camera   \n",
       "3                           4115 mAh Battery   \n",
       "4       Qualcomm® Snapdragon™ 765G Processor   \n",
       "5                                     1 Year   \n",
       "6                      8 GB RAM | 128 GB ROM   \n",
       "7      16.36 cm (6.44 inch) Full HD+ Display   \n",
       "\n",
       "                                      camera  \\\n",
       "0                       6 GB RAM | 64 GB ROM   \n",
       "1      16.36 cm (6.44 inch) Full HD+ Display   \n",
       "2  48MP + 8MP | 32MP + 8MP Dual Front Camera   \n",
       "3                           4115 mAh Battery   \n",
       "4       Qualcomm® Snapdragon™ 765G Processor   \n",
       "5                                     1 Year   \n",
       "6                      8 GB RAM | 128 GB ROM   \n",
       "7      16.36 cm (6.44 inch) Full HD+ Display   \n",
       "\n",
       "                             secondry comera  \\\n",
       "0                       6 GB RAM | 64 GB ROM   \n",
       "1      16.36 cm (6.44 inch) Full HD+ Display   \n",
       "2  48MP + 8MP | 32MP + 8MP Dual Front Camera   \n",
       "3                           4115 mAh Battery   \n",
       "4       Qualcomm® Snapdragon™ 765G Processor   \n",
       "5                                     1 Year   \n",
       "6                      8 GB RAM | 128 GB ROM   \n",
       "7      16.36 cm (6.44 inch) Full HD+ Display   \n",
       "\n",
       "                                     display  \\\n",
       "0                       6 GB RAM | 64 GB ROM   \n",
       "1      16.36 cm (6.44 inch) Full HD+ Display   \n",
       "2  48MP + 8MP | 32MP + 8MP Dual Front Camera   \n",
       "3                           4115 mAh Battery   \n",
       "4       Qualcomm® Snapdragon™ 765G Processor   \n",
       "5                                     1 Year   \n",
       "6                      8 GB RAM | 128 GB ROM   \n",
       "7      16.36 cm (6.44 inch) Full HD+ Display   \n",
       "\n",
       "                                     battery  \\\n",
       "0                       6 GB RAM | 64 GB ROM   \n",
       "1      16.36 cm (6.44 inch) Full HD+ Display   \n",
       "2  48MP + 8MP | 32MP + 8MP Dual Front Camera   \n",
       "3                           4115 mAh Battery   \n",
       "4       Qualcomm® Snapdragon™ 765G Processor   \n",
       "5                                     1 Year   \n",
       "6                      8 GB RAM | 128 GB ROM   \n",
       "7      16.36 cm (6.44 inch) Full HD+ Display   \n",
       "\n",
       "                                                 url  \n",
       "0  https://www.flipkart.com/oneplus-nord-gray-ony...  \n",
       "1  https://www.flipkart.com/oneplus-nord-blue-mar...  \n",
       "2  https://www.flipkart.com/oneplus-nord-ce-2-5g-...  \n",
       "3  https://www.flipkart.com/oneplus-nord-gray-ony...  \n",
       "4  https://www.flipkart.com/oneplus-nord-blue-mar...  \n",
       "5  https://www.flipkart.com/oneplus-nord-gray-ony...  \n",
       "6  https://www.flipkart.com/oneplus-nord-blue-mar...  \n",
       "7  https://www.flipkart.com/oneplus-nord-ce-2-5g-...  "
      ]
     },
     "execution_count": 421,
     "metadata": {},
     "output_type": "execute_result"
    }
   ],
   "source": [
    "import pandas as pd\n",
    "df=pd.DataFrame({'product_name':name,'Product Brand':brand,'product_price':price,'product ram':ram,'camera':camera,'secondry comera':secondry_camera,'display':display,'battery':battery,'url':url})\n",
    "df"
   ]
  },
  {
   "cell_type": "code",
   "execution_count": null,
   "id": "939f6a9a",
   "metadata": {},
   "outputs": [],
   "source": []
  },
  {
   "cell_type": "markdown",
   "id": "abe07a11",
   "metadata": {},
   "source": [
    "Q  5--> Write a program to scrap geospatial coordinates (latitude, longitude) of a city searched on google maps."
   ]
  },
  {
   "cell_type": "code",
   "execution_count": 424,
   "id": "02b9c344",
   "metadata": {},
   "outputs": [],
   "source": [
    "from selenium.webdriver.common.keys import Keys"
   ]
  },
  {
   "cell_type": "code",
   "execution_count": 423,
   "id": "1be230b9",
   "metadata": {},
   "outputs": [],
   "source": [
    "driver=webdriver.Chrome()\n",
    "driver.get('https://www.google.com/maps/@13.0046075,77.5490335,14z?authuser=0&entry=ttu')"
   ]
  },
  {
   "cell_type": "code",
   "execution_count": 426,
   "id": "d666a905",
   "metadata": {},
   "outputs": [],
   "source": [
    "search=driver.find_element(By.XPATH,'//*[@id=\"searchboxinput\"]')\n",
    "search.send_keys('bangaluru')\n",
    "search.send_keys(Keys.ENTER)"
   ]
  },
  {
   "cell_type": "code",
   "execution_count": 428,
   "id": "a1bbc41d",
   "metadata": {},
   "outputs": [],
   "source": [
    "bangalore=[]\n",
    "ban=driver.find_elements(By.XPATH,'//*[@id=\"action-menu\"]/div[1]')\n",
    "for i in ban:\n",
    "    bangalore.append(i.text)"
   ]
  },
  {
   "cell_type": "code",
   "execution_count": 430,
   "id": "455e6d8a",
   "metadata": {},
   "outputs": [
    {
     "name": "stdout",
     "output_type": "stream",
     "text": [
      "latitude, longitude ['12.97700, 77.59909']\n"
     ]
    }
   ],
   "source": [
    "print('latitude, longitude',bangalore)"
   ]
  },
  {
   "cell_type": "code",
   "execution_count": null,
   "id": "b32ab319",
   "metadata": {},
   "outputs": [],
   "source": []
  },
  {
   "cell_type": "markdown",
   "id": "6c08e933",
   "metadata": {},
   "source": [
    "Q--> 6--> Write a program to scrap all the available details of best gaming laptops from digit.in. "
   ]
  },
  {
   "cell_type": "code",
   "execution_count": 431,
   "id": "f203cfaf",
   "metadata": {},
   "outputs": [],
   "source": [
    "import bs4\n",
    "from bs4 import BeautifulSoup\n",
    "import requests"
   ]
  },
  {
   "cell_type": "code",
   "execution_count": 432,
   "id": "6df26015",
   "metadata": {},
   "outputs": [],
   "source": [
    "url='https://www.digit.in/top-products/best-amd-gaming-laptops-with-nvidia-geforce-rtx-3050-4073.html'\n"
   ]
  },
  {
   "cell_type": "code",
   "execution_count": 436,
   "id": "88fc6275",
   "metadata": {},
   "outputs": [
    {
     "data": {
      "text/plain": [
       "<Response [200]>"
      ]
     },
     "execution_count": 436,
     "metadata": {},
     "output_type": "execute_result"
    }
   ],
   "source": [
    "page=requests.get(url)\n",
    "page"
   ]
  },
  {
   "cell_type": "code",
   "execution_count": 442,
   "id": "f6f54add",
   "metadata": {},
   "outputs": [],
   "source": [
    "soup=BeautifulSoup(page.content)"
   ]
  },
  {
   "cell_type": "code",
   "execution_count": 449,
   "id": "56951dca",
   "metadata": {},
   "outputs": [],
   "source": [
    "na=BeautifulSoup(page.text,'lxml')\n",
    "# print(na)"
   ]
  },
  {
   "cell_type": "code",
   "execution_count": null,
   "id": "bd7c79e6",
   "metadata": {},
   "outputs": [],
   "source": []
  },
  {
   "cell_type": "markdown",
   "id": "1a8a1363",
   "metadata": {},
   "source": [
    "Q -7==>. Write a python program to scrape the details for all billionaires from www.forbes.com. Details to be scrapped:\n",
    "“Rank”, “Name”, “Net worth”, “Age”, “Citizenship”, “Source”, “Industry”. \n"
   ]
  },
  {
   "cell_type": "code",
   "execution_count": 489,
   "id": "8df10939",
   "metadata": {},
   "outputs": [],
   "source": [
    "driver=webdriver.Chrome()\n",
    "driver.get('https://www.forbes.com/billionaires/')"
   ]
  },
  {
   "cell_type": "code",
   "execution_count": 490,
   "id": "f5706305",
   "metadata": {},
   "outputs": [],
   "source": [
    "name=[]\n",
    "net_worth=[]\n",
    "age=[]\n",
    "citizenship=[]\n",
    "source=[]\n",
    "industry=[]"
   ]
  },
  {
   "cell_type": "code",
   "execution_count": 491,
   "id": "1111e489",
   "metadata": {},
   "outputs": [],
   "source": [
    "na=driver.find_elements(By.CLASS_NAME,'Table_dataCell__2QCve')\n",
    "for i in na:\n",
    "    name.append(i.text)\n",
    "    "
   ]
  },
  {
   "cell_type": "code",
   "execution_count": 495,
   "id": "c714e179",
   "metadata": {},
   "outputs": [
    {
     "data": {
      "text/plain": [
       "1200"
      ]
     },
     "execution_count": 495,
     "metadata": {},
     "output_type": "execute_result"
    }
   ],
   "source": [
    "# name\n",
    "len(name)"
   ]
  },
  {
   "cell_type": "code",
   "execution_count": 496,
   "id": "915d7b93",
   "metadata": {},
   "outputs": [],
   "source": [
    "# name.clear()"
   ]
  },
  {
   "cell_type": "code",
   "execution_count": 494,
   "id": "7a731c65",
   "metadata": {},
   "outputs": [
    {
     "data": {
      "text/html": [
       "<div>\n",
       "<style scoped>\n",
       "    .dataframe tbody tr th:only-of-type {\n",
       "        vertical-align: middle;\n",
       "    }\n",
       "\n",
       "    .dataframe tbody tr th {\n",
       "        vertical-align: top;\n",
       "    }\n",
       "\n",
       "    .dataframe thead th {\n",
       "        text-align: right;\n",
       "    }\n",
       "</style>\n",
       "<table border=\"1\" class=\"dataframe\">\n",
       "  <thead>\n",
       "    <tr style=\"text-align: right;\">\n",
       "      <th></th>\n",
       "      <th>all details of billionaires</th>\n",
       "    </tr>\n",
       "  </thead>\n",
       "  <tbody>\n",
       "    <tr>\n",
       "      <th>0</th>\n",
       "      <td>1</td>\n",
       "    </tr>\n",
       "    <tr>\n",
       "      <th>1</th>\n",
       "      <td>Bernard Arnault &amp; family</td>\n",
       "    </tr>\n",
       "    <tr>\n",
       "      <th>2</th>\n",
       "      <td>$211 B</td>\n",
       "    </tr>\n",
       "    <tr>\n",
       "      <th>3</th>\n",
       "      <td>74</td>\n",
       "    </tr>\n",
       "    <tr>\n",
       "      <th>4</th>\n",
       "      <td>LVMH</td>\n",
       "    </tr>\n",
       "    <tr>\n",
       "      <th>...</th>\n",
       "      <td>...</td>\n",
       "    </tr>\n",
       "    <tr>\n",
       "      <th>1195</th>\n",
       "      <td>Valerie Mars</td>\n",
       "    </tr>\n",
       "    <tr>\n",
       "      <th>1196</th>\n",
       "      <td>$9.6 B</td>\n",
       "    </tr>\n",
       "    <tr>\n",
       "      <th>1197</th>\n",
       "      <td>64</td>\n",
       "    </tr>\n",
       "    <tr>\n",
       "      <th>1198</th>\n",
       "      <td>Candy, pet food</td>\n",
       "    </tr>\n",
       "    <tr>\n",
       "      <th>1199</th>\n",
       "      <td></td>\n",
       "    </tr>\n",
       "  </tbody>\n",
       "</table>\n",
       "<p>1200 rows × 1 columns</p>\n",
       "</div>"
      ],
      "text/plain": [
       "     all details of billionaires\n",
       "0                              1\n",
       "1       Bernard Arnault & family\n",
       "2                         $211 B\n",
       "3                             74\n",
       "4                           LVMH\n",
       "...                          ...\n",
       "1195                Valerie Mars\n",
       "1196                      $9.6 B\n",
       "1197                          64\n",
       "1198             Candy, pet food\n",
       "1199                            \n",
       "\n",
       "[1200 rows x 1 columns]"
      ]
     },
     "execution_count": 494,
     "metadata": {},
     "output_type": "execute_result"
    }
   ],
   "source": [
    "df=pd.DataFrame(name,columns=['all details of billionaires'])\n",
    "df"
   ]
  },
  {
   "cell_type": "markdown",
   "id": "111b4849",
   "metadata": {},
   "source": [
    "sorry sir i can't able to scrape single single data because this data in table format, so i don't know how to scrape this "
   ]
  },
  {
   "cell_type": "code",
   "execution_count": null,
   "id": "dd5ff767",
   "metadata": {},
   "outputs": [],
   "source": []
  },
  {
   "cell_type": "code",
   "execution_count": null,
   "id": "95bc44f9",
   "metadata": {},
   "outputs": [],
   "source": []
  },
  {
   "cell_type": "markdown",
   "id": "f1874ee5",
   "metadata": {},
   "source": [
    "Q8--> Write a program to extract at least 500 Comments, Comment upvote and time when comment was posted\n",
    "from any YouTube Video."
   ]
  },
  {
   "cell_type": "code",
   "execution_count": 559,
   "id": "8df61da1",
   "metadata": {},
   "outputs": [],
   "source": [
    "driver=webdriver.Chrome()\n",
    "driver.get('https://www.youtube.com/watch?v=YnW__aCkTeE')"
   ]
  },
  {
   "cell_type": "code",
   "execution_count": 534,
   "id": "26179e54",
   "metadata": {},
   "outputs": [],
   "source": [
    "comments=[]\n",
    "time=[]\n",
    "person=[]"
   ]
  },
  {
   "cell_type": "code",
   "execution_count": 555,
   "id": "9bf0d29e",
   "metadata": {},
   "outputs": [],
   "source": [
    "start=0\n",
    "end=25\n",
    "for page in range(start,end):\n",
    "    comm=driver.find_elements(By.CLASS_NAME,'style-scope ytd-expander')\n",
    "    for i in comm:\n",
    "        comments.append(i.text)\n",
    "        comments=comments[0:500]"
   ]
  },
  {
   "cell_type": "code",
   "execution_count": 508,
   "id": "a79a1c39",
   "metadata": {},
   "outputs": [],
   "source": [
    "# comments"
   ]
  },
  {
   "cell_type": "code",
   "execution_count": 546,
   "id": "d01ac63e",
   "metadata": {},
   "outputs": [
    {
     "data": {
      "text/plain": [
       "500"
      ]
     },
     "execution_count": 546,
     "metadata": {},
     "output_type": "execute_result"
    }
   ],
   "source": [
    "len(comments)"
   ]
  },
  {
   "cell_type": "code",
   "execution_count": 528,
   "id": "e09514ad",
   "metadata": {},
   "outputs": [],
   "source": []
  },
  {
   "cell_type": "code",
   "execution_count": 556,
   "id": "53a4893f",
   "metadata": {},
   "outputs": [],
   "source": [
    "start=[]\n",
    "start=0\n",
    "end=25\n",
    "for page in range(start,end):\n",
    "    ti=driver.find_elements(By.CLASS_NAME,'published-time-text')\n",
    "    for i in ti:\n",
    "        time.append(i.text)\n",
    "        time=time[0:500]"
   ]
  },
  {
   "cell_type": "code",
   "execution_count": 552,
   "id": "4bdffa8e",
   "metadata": {},
   "outputs": [
    {
     "data": {
      "text/plain": [
       "0"
      ]
     },
     "execution_count": 552,
     "metadata": {},
     "output_type": "execute_result"
    }
   ],
   "source": [
    "len(time)"
   ]
  },
  {
   "cell_type": "code",
   "execution_count": 551,
   "id": "2651aadc",
   "metadata": {},
   "outputs": [],
   "source": [
    "time.clear()"
   ]
  },
  {
   "cell_type": "code",
   "execution_count": 533,
   "id": "79ada37f",
   "metadata": {},
   "outputs": [],
   "source": [
    "# print(navin)"
   ]
  },
  {
   "cell_type": "code",
   "execution_count": 560,
   "id": "847d650c",
   "metadata": {},
   "outputs": [],
   "source": [
    "start=0\n",
    "end=2\n",
    "for page in range(start,end):\n",
    "    pers=driver.find_elements(By.CLASS_NAME,'style-scope')\n",
    "    for i in pers:\n",
    "        person.append(i.text)\n",
    "        person=person[0:500]"
   ]
  },
  {
   "cell_type": "code",
   "execution_count": 561,
   "id": "57d1f97d",
   "metadata": {},
   "outputs": [
    {
     "data": {
      "text/plain": [
       "500"
      ]
     },
     "execution_count": 561,
     "metadata": {},
     "output_type": "execute_result"
    }
   ],
   "source": [
    "len(person)"
   ]
  },
  {
   "cell_type": "code",
   "execution_count": 565,
   "id": "25d84b7e",
   "metadata": {},
   "outputs": [],
   "source": [
    "import pandas as pd\n",
    "df=pd.DataFrame({'Commenters':person,'Comment_content':comments,'Time':time})\n",
    "df.replace('','-',inplace=True)"
   ]
  },
  {
   "cell_type": "code",
   "execution_count": 566,
   "id": "9e5315ef",
   "metadata": {},
   "outputs": [
    {
     "data": {
      "text/html": [
       "<div>\n",
       "<style scoped>\n",
       "    .dataframe tbody tr th:only-of-type {\n",
       "        vertical-align: middle;\n",
       "    }\n",
       "\n",
       "    .dataframe tbody tr th {\n",
       "        vertical-align: top;\n",
       "    }\n",
       "\n",
       "    .dataframe thead th {\n",
       "        text-align: right;\n",
       "    }\n",
       "</style>\n",
       "<table border=\"1\" class=\"dataframe\">\n",
       "  <thead>\n",
       "    <tr style=\"text-align: right;\">\n",
       "      <th></th>\n",
       "      <th>Commenters</th>\n",
       "      <th>Comment_content</th>\n",
       "      <th>Time</th>\n",
       "    </tr>\n",
       "  </thead>\n",
       "  <tbody>\n",
       "    <tr>\n",
       "      <th>0</th>\n",
       "      <td>-</td>\n",
       "      <td>All over the body, the hair follicles stand up.</td>\n",
       "      <td>2 weeks ago</td>\n",
       "    </tr>\n",
       "    <tr>\n",
       "      <th>1</th>\n",
       "      <td>-</td>\n",
       "      <td>This is not only festival\\nThis is our an emot...</td>\n",
       "      <td>2 months ago</td>\n",
       "    </tr>\n",
       "    <tr>\n",
       "      <th>2</th>\n",
       "      <td>-</td>\n",
       "      <td>Jai chaati maiya</td>\n",
       "      <td>1 year ago</td>\n",
       "    </tr>\n",
       "    <tr>\n",
       "      <th>3</th>\n",
       "      <td>-</td>\n",
       "      <td>मै एक बिहारी हूँ और मै ये दावे के साथ कह सकता ...</td>\n",
       "      <td>2 weeks ago</td>\n",
       "    </tr>\n",
       "    <tr>\n",
       "      <th>4</th>\n",
       "      <td>#Pawan_Singh</td>\n",
       "      <td>Beautiful song</td>\n",
       "      <td>1 month ago</td>\n",
       "    </tr>\n",
       "    <tr>\n",
       "      <th>...</th>\n",
       "      <td>...</td>\n",
       "      <td>...</td>\n",
       "      <td>...</td>\n",
       "    </tr>\n",
       "    <tr>\n",
       "      <th>495</th>\n",
       "      <td>#Pawan Singh का सुपरहिट छठ गीत | पेन्हले महादे...</td>\n",
       "      <td>Jai Chaathi Maiya️</td>\n",
       "      <td>1 year ago</td>\n",
       "    </tr>\n",
       "    <tr>\n",
       "      <th>496</th>\n",
       "      <td>-</td>\n",
       "      <td>Jai chhathi Maiya your voice is magical</td>\n",
       "      <td>1 year ago</td>\n",
       "    </tr>\n",
       "    <tr>\n",
       "      <th>497</th>\n",
       "      <td>-</td>\n",
       "      <td>In our all festival chatt puja is very importa...</td>\n",
       "      <td>7 days ago</td>\n",
       "    </tr>\n",
       "    <tr>\n",
       "      <th>498</th>\n",
       "      <td>-</td>\n",
       "      <td>Nice video</td>\n",
       "      <td>9 days ago</td>\n",
       "    </tr>\n",
       "    <tr>\n",
       "      <th>499</th>\n",
       "      <td>-</td>\n",
       "      <td>My favourite festival of chhath Puja ,,,</td>\n",
       "      <td>1 month ago</td>\n",
       "    </tr>\n",
       "  </tbody>\n",
       "</table>\n",
       "<p>500 rows × 3 columns</p>\n",
       "</div>"
      ],
      "text/plain": [
       "                                            Commenters  \\\n",
       "0                                                    -   \n",
       "1                                                    -   \n",
       "2                                                    -   \n",
       "3                                                    -   \n",
       "4                                         #Pawan_Singh   \n",
       "..                                                 ...   \n",
       "495  #Pawan Singh का सुपरहिट छठ गीत | पेन्हले महादे...   \n",
       "496                                                  -   \n",
       "497                                                  -   \n",
       "498                                                  -   \n",
       "499                                                  -   \n",
       "\n",
       "                                       Comment_content          Time  \n",
       "0     All over the body, the hair follicles stand up.    2 weeks ago  \n",
       "1    This is not only festival\\nThis is our an emot...  2 months ago  \n",
       "2                                     Jai chaati maiya    1 year ago  \n",
       "3    मै एक बिहारी हूँ और मै ये दावे के साथ कह सकता ...   2 weeks ago  \n",
       "4                                       Beautiful song   1 month ago  \n",
       "..                                                 ...           ...  \n",
       "495                                 Jai Chaathi Maiya️    1 year ago  \n",
       "496            Jai chhathi Maiya your voice is magical    1 year ago  \n",
       "497  In our all festival chatt puja is very importa...    7 days ago  \n",
       "498                                        Nice video     9 days ago  \n",
       "499           My favourite festival of chhath Puja ,,,   1 month ago  \n",
       "\n",
       "[500 rows x 3 columns]"
      ]
     },
     "execution_count": 566,
     "metadata": {},
     "output_type": "execute_result"
    }
   ],
   "source": [
    "df"
   ]
  },
  {
   "cell_type": "code",
   "execution_count": null,
   "id": "7027e51d",
   "metadata": {},
   "outputs": [],
   "source": []
  },
  {
   "cell_type": "code",
   "execution_count": null,
   "id": "f118600a",
   "metadata": {},
   "outputs": [],
   "source": []
  },
  {
   "cell_type": "markdown",
   "id": "43ea08e9",
   "metadata": {},
   "source": [
    "Q -9.--> Write a python program to scrape a data for all available Hostels from https://www.hostelworld.com/ in\n",
    "“London” location. You have to scrape hostel name, distance from city centre, ratings, total reviews, overall\n",
    "reviews, privates from price, dorms from price, facilities and property description. "
   ]
  },
  {
   "cell_type": "code",
   "execution_count": 591,
   "id": "54f62620",
   "metadata": {},
   "outputs": [],
   "source": [
    "driver=webdriver.Chrome()\n",
    "driver.get('https://www.hostelworld.com/pwa/wds/s?q=London,%20England&country=London&city=London&type=city&id=3&from=2023-11-14&to=2023-11-17&guests=2&page=1')"
   ]
  },
  {
   "cell_type": "code",
   "execution_count": 592,
   "id": "826bba56",
   "metadata": {},
   "outputs": [],
   "source": [
    "hotel=[]\n",
    "distance=[]\n",
    "ratings=[]\n",
    "reviews=[]\n",
    "overall=[]\n",
    "privates_price=[]\n",
    "dorms_price=[]"
   ]
  },
  {
   "cell_type": "code",
   "execution_count": 597,
   "id": "902ca2bd",
   "metadata": {},
   "outputs": [],
   "source": [
    "ho=driver.find_elements(By.CLASS_NAME,'property-name')\n",
    "for i in ho:\n",
    "    hotel.append(i.text)\n",
    "    hotel=hotel[0:20]\n"
   ]
  },
  {
   "cell_type": "code",
   "execution_count": 598,
   "id": "19564692",
   "metadata": {},
   "outputs": [
    {
     "data": {
      "text/plain": [
       "20"
      ]
     },
     "execution_count": 598,
     "metadata": {},
     "output_type": "execute_result"
    }
   ],
   "source": [
    "hotel\n",
    "len(hotel)"
   ]
  },
  {
   "cell_type": "code",
   "execution_count": 599,
   "id": "4fc57ca5",
   "metadata": {},
   "outputs": [],
   "source": [
    "di=driver.find_elements(By.CLASS_NAME,'distance-description')\n",
    "for i in di:\n",
    "    distance.append(i.text)\n",
    "    distance=distance[0:20]"
   ]
  },
  {
   "cell_type": "code",
   "execution_count": 602,
   "id": "2f9ccee6",
   "metadata": {},
   "outputs": [
    {
     "data": {
      "text/plain": [
       "20"
      ]
     },
     "execution_count": 602,
     "metadata": {},
     "output_type": "execute_result"
    }
   ],
   "source": [
    "len(distance)"
   ]
  },
  {
   "cell_type": "code",
   "execution_count": 603,
   "id": "f4921e19",
   "metadata": {},
   "outputs": [],
   "source": [
    "rat=driver.find_elements(By.CLASS_NAME,'number')\n",
    "for i in rat:\n",
    "    ratings.append(i.text)\n",
    "    ratings=ratings[0:20]"
   ]
  },
  {
   "cell_type": "code",
   "execution_count": 605,
   "id": "817c3cbf",
   "metadata": {},
   "outputs": [
    {
     "data": {
      "text/plain": [
       "20"
      ]
     },
     "execution_count": 605,
     "metadata": {},
     "output_type": "execute_result"
    }
   ],
   "source": [
    "len(ratings)"
   ]
  },
  {
   "cell_type": "code",
   "execution_count": 606,
   "id": "d6b39271",
   "metadata": {},
   "outputs": [],
   "source": [
    "view=driver.find_elements(By.CLASS_NAME,'left-margin')\n",
    "for i in view:\n",
    "    reviews.append(i.text)\n",
    "    reviews=reviews[0:20]"
   ]
  },
  {
   "cell_type": "code",
   "execution_count": 608,
   "id": "cd46d4cc",
   "metadata": {},
   "outputs": [
    {
     "data": {
      "text/plain": [
       "20"
      ]
     },
     "execution_count": 608,
     "metadata": {},
     "output_type": "execute_result"
    }
   ],
   "source": [
    "len(reviews)"
   ]
  },
  {
   "cell_type": "code",
   "execution_count": 609,
   "id": "91e25e36",
   "metadata": {},
   "outputs": [],
   "source": [
    "over=driver.find_elements(By.CLASS_NAME,'keyword')\n",
    "for i in over:\n",
    "    overall.append(i.text)\n",
    "    overall=overall[0:20]"
   ]
  },
  {
   "cell_type": "code",
   "execution_count": 611,
   "id": "40d3db69",
   "metadata": {},
   "outputs": [
    {
     "data": {
      "text/plain": [
       "20"
      ]
     },
     "execution_count": 611,
     "metadata": {},
     "output_type": "execute_result"
    }
   ],
   "source": [
    "len(overall)"
   ]
  },
  {
   "cell_type": "code",
   "execution_count": 612,
   "id": "b67dd0f3",
   "metadata": {},
   "outputs": [],
   "source": [
    "privates=driver.find_elements(By.CLASS_NAME,'accommodation-price')\n",
    "for i in privates:\n",
    "    privates_price.append(i.text)\n",
    "    privates_price=privates_price[0:20]"
   ]
  },
  {
   "cell_type": "code",
   "execution_count": 614,
   "id": "8a1b647a",
   "metadata": {},
   "outputs": [
    {
     "data": {
      "text/plain": [
       "20"
      ]
     },
     "execution_count": 614,
     "metadata": {},
     "output_type": "execute_result"
    }
   ],
   "source": [
    "len(privates_price)"
   ]
  },
  {
   "cell_type": "code",
   "execution_count": 615,
   "id": "1b08d1a2",
   "metadata": {},
   "outputs": [],
   "source": [
    "dorms_price\n",
    "dorms=driver.find_elements(By.CLASS_NAME,'current')\n",
    "for i in dorms:\n",
    "    dorms_price.append(i.text)\n",
    "    dorms_price=dorms_price[0:20]"
   ]
  },
  {
   "cell_type": "code",
   "execution_count": 617,
   "id": "9dc259fa",
   "metadata": {},
   "outputs": [
    {
     "data": {
      "text/plain": [
       "20"
      ]
     },
     "execution_count": 617,
     "metadata": {},
     "output_type": "execute_result"
    }
   ],
   "source": [
    "len(dorms_price)"
   ]
  },
  {
   "cell_type": "code",
   "execution_count": null,
   "id": "720cb3f3",
   "metadata": {},
   "outputs": [],
   "source": [
    "hotel=[]\n",
    "distance=[]\n",
    "ratings=[]\n",
    "reviews=[]\n",
    "overall=[]\n",
    "privates_price=[]\n",
    "dorms_price=[]"
   ]
  },
  {
   "cell_type": "code",
   "execution_count": 619,
   "id": "84b3e56e",
   "metadata": {},
   "outputs": [],
   "source": [
    "import pandas as pd\n",
    "df=pd.DataFrame({'Hotel_Name':hotel,'Distance_from_city':distance,'Ratings':ratings,'Reviews':reviews,'Overall_Reviews':overall,'Privates_prices':privates_price,'Dorms_Prices':dorms_price})\n",
    "df.replace('-','',inplace=True)"
   ]
  },
  {
   "cell_type": "code",
   "execution_count": 620,
   "id": "0d2a8a14",
   "metadata": {},
   "outputs": [
    {
     "data": {
      "text/html": [
       "<div>\n",
       "<style scoped>\n",
       "    .dataframe tbody tr th:only-of-type {\n",
       "        vertical-align: middle;\n",
       "    }\n",
       "\n",
       "    .dataframe tbody tr th {\n",
       "        vertical-align: top;\n",
       "    }\n",
       "\n",
       "    .dataframe thead th {\n",
       "        text-align: right;\n",
       "    }\n",
       "</style>\n",
       "<table border=\"1\" class=\"dataframe\">\n",
       "  <thead>\n",
       "    <tr style=\"text-align: right;\">\n",
       "      <th></th>\n",
       "      <th>Hotel_Name</th>\n",
       "      <th>Distance_from_city</th>\n",
       "      <th>Ratings</th>\n",
       "      <th>Reviews</th>\n",
       "      <th>Overall_Reviews</th>\n",
       "      <th>Privates_prices</th>\n",
       "      <th>Dorms_Prices</th>\n",
       "    </tr>\n",
       "  </thead>\n",
       "  <tbody>\n",
       "    <tr>\n",
       "      <th>0</th>\n",
       "      <td>St Christopher's Village</td>\n",
       "      <td>- 1.8km from city centre</td>\n",
       "      <td>8.2</td>\n",
       "      <td>(12630)</td>\n",
       "      <td>Fabulous</td>\n",
       "      <td>₹2,128</td>\n",
       "      <td>₹2,128</td>\n",
       "    </tr>\n",
       "    <tr>\n",
       "      <th>1</th>\n",
       "      <td>St Christopher's Village</td>\n",
       "      <td>- 5.5km from city centre</td>\n",
       "      <td>8.2</td>\n",
       "      <td>(2386)</td>\n",
       "      <td>Fabulous</td>\n",
       "      <td>No Privates Available</td>\n",
       "      <td>₹17,723</td>\n",
       "    </tr>\n",
       "    <tr>\n",
       "      <th>2</th>\n",
       "      <td>Onefam Notting Hill</td>\n",
       "      <td>- 5.4km from city centre</td>\n",
       "      <td>9.6</td>\n",
       "      <td>(1013)</td>\n",
       "      <td>Superb</td>\n",
       "      <td>₹2,364\\n₹2,128</td>\n",
       "      <td>₹5,167</td>\n",
       "    </tr>\n",
       "    <tr>\n",
       "      <th>3</th>\n",
       "      <td>Urbany Hostel London</td>\n",
       "      <td>- 3km from city centre</td>\n",
       "      <td>9.5</td>\n",
       "      <td>(7920)</td>\n",
       "      <td>Superb</td>\n",
       "      <td>₹17,723</td>\n",
       "      <td>₹13,628</td>\n",
       "    </tr>\n",
       "    <tr>\n",
       "      <th>4</th>\n",
       "      <td>Generator London</td>\n",
       "      <td>- 1.7km from city centre</td>\n",
       "      <td>7.5</td>\n",
       "      <td>(5194)</td>\n",
       "      <td>Very Good</td>\n",
       "      <td>₹5,167</td>\n",
       "      <td>₹3,351</td>\n",
       "    </tr>\n",
       "    <tr>\n",
       "      <th>5</th>\n",
       "      <td>Safestay London Elephant &amp; Castle</td>\n",
       "      <td>- 4.3km from city centre</td>\n",
       "      <td>7.1</td>\n",
       "      <td>(12243)</td>\n",
       "      <td>Very Good</td>\n",
       "      <td>₹13,628</td>\n",
       "      <td>₹10,768</td>\n",
       "    </tr>\n",
       "    <tr>\n",
       "      <th>6</th>\n",
       "      <td>Astor Hyde Park</td>\n",
       "      <td>- 6.1km from city centre</td>\n",
       "      <td>8.2</td>\n",
       "      <td>(2045)</td>\n",
       "      <td>Fabulous</td>\n",
       "      <td>₹3,351</td>\n",
       "      <td>₹9,673</td>\n",
       "    </tr>\n",
       "    <tr>\n",
       "      <th>7</th>\n",
       "      <td>NX London Hostel</td>\n",
       "      <td>- 5.8km from city centre</td>\n",
       "      <td>8.3</td>\n",
       "      <td>(1718)</td>\n",
       "      <td>Fabulous</td>\n",
       "      <td>₹10,768</td>\n",
       "      <td>₹1,802</td>\n",
       "    </tr>\n",
       "    <tr>\n",
       "      <th>8</th>\n",
       "      <td>Safestay London Kensington Holland Park</td>\n",
       "      <td>- 3.2km from city centre</td>\n",
       "      <td>6.9</td>\n",
       "      <td>(448)</td>\n",
       "      <td>Good</td>\n",
       "      <td>No Dorms Available</td>\n",
       "      <td>₹4,960</td>\n",
       "    </tr>\n",
       "    <tr>\n",
       "      <th>9</th>\n",
       "      <td>Clink261</td>\n",
       "      <td>- 10km from city centre</td>\n",
       "      <td>8.0</td>\n",
       "      <td>(5139)</td>\n",
       "      <td>Fabulous</td>\n",
       "      <td>₹9,673</td>\n",
       "      <td>₹4,453</td>\n",
       "    </tr>\n",
       "    <tr>\n",
       "      <th>10</th>\n",
       "      <td>No.8 Willesden Hostel London</td>\n",
       "      <td>- 2.6km from city centre</td>\n",
       "      <td>7.1</td>\n",
       "      <td>(10144)</td>\n",
       "      <td>Very Good</td>\n",
       "      <td>₹1,802</td>\n",
       "      <td>₹8,164</td>\n",
       "    </tr>\n",
       "    <tr>\n",
       "      <th>11</th>\n",
       "      <td>Smart Russell Square Hostel</td>\n",
       "      <td>- 1.7km from city centre</td>\n",
       "      <td>7.5</td>\n",
       "      <td>(275)</td>\n",
       "      <td>Very Good</td>\n",
       "      <td>No Privates Available</td>\n",
       "      <td>₹1,588</td>\n",
       "    </tr>\n",
       "    <tr>\n",
       "      <th>12</th>\n",
       "      <td>Destinations Hostels @ The Gallery</td>\n",
       "      <td>- 5km from city centre</td>\n",
       "      <td>9.1</td>\n",
       "      <td>(6766)</td>\n",
       "      <td>Superb</td>\n",
       "      <td>₹4,960</td>\n",
       "      <td>₹2,714</td>\n",
       "    </tr>\n",
       "    <tr>\n",
       "      <th>13</th>\n",
       "      <td>Smart Hyde Park Inn Hostel</td>\n",
       "      <td>- 4.2km from city centre</td>\n",
       "      <td>7.6</td>\n",
       "      <td>(4538)</td>\n",
       "      <td>Very Good</td>\n",
       "      <td>No Privates Available</td>\n",
       "      <td>₹3,324</td>\n",
       "    </tr>\n",
       "    <tr>\n",
       "      <th>14</th>\n",
       "      <td>Phoenix Hostel</td>\n",
       "      <td>- 9km from city centre</td>\n",
       "      <td>7.1</td>\n",
       "      <td>(4116)</td>\n",
       "      <td>Very Good</td>\n",
       "      <td>₹4,453</td>\n",
       "      <td>₹1,286</td>\n",
       "    </tr>\n",
       "    <tr>\n",
       "      <th>15</th>\n",
       "      <td>No.8 Seven Sisters</td>\n",
       "      <td>- 5.1km from city centre</td>\n",
       "      <td>6.5</td>\n",
       "      <td>(77)</td>\n",
       "      <td>Good</td>\n",
       "      <td>₹9,071\\n₹8,164</td>\n",
       "      <td>₹2,317</td>\n",
       "    </tr>\n",
       "    <tr>\n",
       "      <th>16</th>\n",
       "      <td>Hostelle - women only hostel London</td>\n",
       "      <td>- 2.1km from city centre</td>\n",
       "      <td>8.8</td>\n",
       "      <td>(4673)</td>\n",
       "      <td>Fabulous</td>\n",
       "      <td>₹1,765\\n₹1,588</td>\n",
       "      <td>₹4,841</td>\n",
       "    </tr>\n",
       "    <tr>\n",
       "      <th>17</th>\n",
       "      <td>YHA London Oxford Street</td>\n",
       "      <td>- 7.5km from city centre</td>\n",
       "      <td>9.0</td>\n",
       "      <td>(4340)</td>\n",
       "      <td>Superb</td>\n",
       "      <td>No Privates Available</td>\n",
       "      <td>₹2,436</td>\n",
       "    </tr>\n",
       "    <tr>\n",
       "      <th>18</th>\n",
       "      <td>St Christopher's Hammersmith</td>\n",
       "      <td>- 3.6km from city centre</td>\n",
       "      <td>7.6</td>\n",
       "      <td>(835)</td>\n",
       "      <td>Very Good</td>\n",
       "      <td>₹2,714</td>\n",
       "      <td>₹2,105</td>\n",
       "    </tr>\n",
       "    <tr>\n",
       "      <th>19</th>\n",
       "      <td>Prime Backpackers Angel</td>\n",
       "      <td>- 5.5km from city centre</td>\n",
       "      <td>8.1</td>\n",
       "      <td>(2009)</td>\n",
       "      <td>Fabulous</td>\n",
       "      <td>₹3,324</td>\n",
       "      <td>₹1,065</td>\n",
       "    </tr>\n",
       "  </tbody>\n",
       "</table>\n",
       "</div>"
      ],
      "text/plain": [
       "                                 Hotel_Name        Distance_from_city Ratings  \\\n",
       "0                  St Christopher's Village  - 1.8km from city centre     8.2   \n",
       "1                  St Christopher's Village  - 5.5km from city centre     8.2   \n",
       "2                       Onefam Notting Hill  - 5.4km from city centre     9.6   \n",
       "3                      Urbany Hostel London    - 3km from city centre     9.5   \n",
       "4                          Generator London  - 1.7km from city centre     7.5   \n",
       "5         Safestay London Elephant & Castle  - 4.3km from city centre     7.1   \n",
       "6                           Astor Hyde Park  - 6.1km from city centre     8.2   \n",
       "7                          NX London Hostel  - 5.8km from city centre     8.3   \n",
       "8   Safestay London Kensington Holland Park  - 3.2km from city centre     6.9   \n",
       "9                                  Clink261   - 10km from city centre     8.0   \n",
       "10             No.8 Willesden Hostel London  - 2.6km from city centre     7.1   \n",
       "11              Smart Russell Square Hostel  - 1.7km from city centre     7.5   \n",
       "12       Destinations Hostels @ The Gallery    - 5km from city centre     9.1   \n",
       "13               Smart Hyde Park Inn Hostel  - 4.2km from city centre     7.6   \n",
       "14                           Phoenix Hostel    - 9km from city centre     7.1   \n",
       "15                       No.8 Seven Sisters  - 5.1km from city centre     6.5   \n",
       "16      Hostelle - women only hostel London  - 2.1km from city centre     8.8   \n",
       "17                 YHA London Oxford Street  - 7.5km from city centre     9.0   \n",
       "18             St Christopher's Hammersmith  - 3.6km from city centre     7.6   \n",
       "19                  Prime Backpackers Angel  - 5.5km from city centre     8.1   \n",
       "\n",
       "    Reviews Overall_Reviews        Privates_prices Dorms_Prices  \n",
       "0   (12630)        Fabulous                 ₹2,128       ₹2,128  \n",
       "1    (2386)        Fabulous  No Privates Available      ₹17,723  \n",
       "2    (1013)          Superb         ₹2,364\\n₹2,128       ₹5,167  \n",
       "3    (7920)          Superb                ₹17,723      ₹13,628  \n",
       "4    (5194)       Very Good                 ₹5,167       ₹3,351  \n",
       "5   (12243)       Very Good                ₹13,628      ₹10,768  \n",
       "6    (2045)        Fabulous                 ₹3,351       ₹9,673  \n",
       "7    (1718)        Fabulous                ₹10,768       ₹1,802  \n",
       "8     (448)            Good     No Dorms Available       ₹4,960  \n",
       "9    (5139)        Fabulous                 ₹9,673       ₹4,453  \n",
       "10  (10144)       Very Good                 ₹1,802       ₹8,164  \n",
       "11    (275)       Very Good  No Privates Available       ₹1,588  \n",
       "12   (6766)          Superb                 ₹4,960       ₹2,714  \n",
       "13   (4538)       Very Good  No Privates Available       ₹3,324  \n",
       "14   (4116)       Very Good                 ₹4,453       ₹1,286  \n",
       "15     (77)            Good         ₹9,071\\n₹8,164       ₹2,317  \n",
       "16   (4673)        Fabulous         ₹1,765\\n₹1,588       ₹4,841  \n",
       "17   (4340)          Superb  No Privates Available       ₹2,436  \n",
       "18    (835)       Very Good                 ₹2,714       ₹2,105  \n",
       "19   (2009)        Fabulous                 ₹3,324       ₹1,065  "
      ]
     },
     "execution_count": 620,
     "metadata": {},
     "output_type": "execute_result"
    }
   ],
   "source": [
    "df"
   ]
  },
  {
   "cell_type": "code",
   "execution_count": null,
   "id": "d1821dc6",
   "metadata": {},
   "outputs": [],
   "source": []
  }
 ],
 "metadata": {
  "kernelspec": {
   "display_name": "Python 3 (ipykernel)",
   "language": "python",
   "name": "python3"
  },
  "language_info": {
   "codemirror_mode": {
    "name": "ipython",
    "version": 3
   },
   "file_extension": ".py",
   "mimetype": "text/x-python",
   "name": "python",
   "nbconvert_exporter": "python",
   "pygments_lexer": "ipython3",
   "version": "3.10.12"
  }
 },
 "nbformat": 4,
 "nbformat_minor": 5
}
