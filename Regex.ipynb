{
 "cells": [
  {
   "cell_type": "markdown",
   "id": "a05a2fb5",
   "metadata": {},
   "source": [
    "Question 1- Write a RegEx pattern in python program to check that a string contains only a certain set of characters (in this case a-z, A-Z and 0-9)."
   ]
  },
  {
   "cell_type": "code",
   "execution_count": 2,
   "id": "9b06f662",
   "metadata": {},
   "outputs": [
    {
     "name": "stdout",
     "output_type": "stream",
     "text": [
      "['My', 'Name', 'is', 'Navin', 'Singh', 'and', 'my', 'Dob', 'is', '09', '03', '1998']\n"
     ]
    }
   ],
   "source": [
    "import re\n",
    "text='My Name is Navin Singh and my Dob is 09/03/1998'\n",
    "pattern='\\w+'\n",
    "# pattern= [0-9a-zA-Z]+'\n",
    "result=re.findall(pattern,text)\n",
    "print(result)"
   ]
  },
  {
   "cell_type": "markdown",
   "id": "1601baef",
   "metadata": {},
   "source": [
    "Question 2- Write a RegEx patternthat matches a string that has an a followed by zero or more b's"
   ]
  },
  {
   "cell_type": "code",
   "execution_count": 18,
   "id": "4a5ff32b",
   "metadata": {},
   "outputs": [
    {
     "name": "stdout",
     "output_type": "stream",
     "text": [
      "['a', 'ab', 'abb', 'abbb', 'a', 'a', 'a', 'a', 'a']\n"
     ]
    }
   ],
   "source": [
    "pattern = r'ab*'\n",
    "text='a ab abb abbb ac bcd a My Name is Navin Singh and my Dob is 09/03/1998'\n",
    "result=re.findall(pattern,text)\n",
    "print(result)"
   ]
  },
  {
   "cell_type": "markdown",
   "id": "122f51d7",
   "metadata": {},
   "source": [
    "Question 3-  Write a RegEx pattern that matches a string that has an a followed by one or more b's"
   ]
  },
  {
   "cell_type": "code",
   "execution_count": 19,
   "id": "65de3804",
   "metadata": {},
   "outputs": [
    {
     "name": "stdout",
     "output_type": "stream",
     "text": [
      "['ab', 'abb', 'abbb']\n"
     ]
    }
   ],
   "source": [
    "pattern = r'ab+'\n",
    "text='a ab abb abbb ac bcd a My Name is Navin Singh and my Dob is 09/03/1998'\n",
    "result=re.findall(pattern,text)\n",
    "print(result)"
   ]
  },
  {
   "cell_type": "markdown",
   "id": "1877a2f3",
   "metadata": {},
   "source": [
    "Question 4- Write a RegEx patternthat matches a string that has an a followed by zero or one 'b'."
   ]
  },
  {
   "cell_type": "code",
   "execution_count": 23,
   "id": "ff8d1872",
   "metadata": {},
   "outputs": [
    {
     "name": "stdout",
     "output_type": "stream",
     "text": [
      "['ab', 'ab', 'ab']\n"
     ]
    }
   ],
   "source": [
    "pattern = r'ab'\n",
    "text='a ab abb abbb ac bcd a My Name is Navin Singh and my Dob is 09/03/1998'\n",
    "result=re.findall(pattern,text)\n",
    "print(result)"
   ]
  },
  {
   "cell_type": "markdown",
   "id": "480170fa",
   "metadata": {},
   "source": [
    "Question 5- Write a RegEx pattern in python program that matches a string that has an a followed by three 'b'."
   ]
  },
  {
   "cell_type": "code",
   "execution_count": 30,
   "id": "a48bacca",
   "metadata": {},
   "outputs": [
    {
     "name": "stdout",
     "output_type": "stream",
     "text": [
      "['abbb', 'abbb', 'abbb']\n"
     ]
    }
   ],
   "source": [
    "pattern = r'abbb'\n",
    "text='a ab abb abbb ac bcd a abbbbbb abb baa bbb abbbbbbbbbbbbbbb'\n",
    "result=re.findall(pattern,text)\n",
    "print(result)"
   ]
  },
  {
   "cell_type": "markdown",
   "id": "ffb96acb",
   "metadata": {},
   "source": [
    "Question 6- Write a RegEx pattern in python programthat matches a string that has an a followed by two to three 'b'."
   ]
  },
  {
   "cell_type": "code",
   "execution_count": 28,
   "id": "d472dda6",
   "metadata": {},
   "outputs": [
    {
     "name": "stdout",
     "output_type": "stream",
     "text": [
      "['bb', 'bb', 'bb', 'bb', 'bb']\n"
     ]
    }
   ],
   "source": [
    "pattern = r'a(bb|bbb)'\n",
    "text='a ab abb abbb ac bcd a abbbbbb abb baa bbb abbbbbbbbbbbbbbb'\n",
    "result=re.findall(pattern,text)\n",
    "print(result)"
   ]
  },
  {
   "cell_type": "markdown",
   "id": "8c4a9665",
   "metadata": {},
   "source": [
    "Question 7- Write a Python program that matches a string that has an 'a' followed by anything, ending in 'b'."
   ]
  },
  {
   "cell_type": "code",
   "execution_count": 33,
   "id": "2a50cf60",
   "metadata": {},
   "outputs": [
    {
     "name": "stdout",
     "output_type": "stream",
     "text": [
      "['a ab abb abbb ac bcd a abbbbbb abb baa bbb abbbbbbbbbbbbbbb axxxxb bajlkjlksb']\n"
     ]
    }
   ],
   "source": [
    "pattern = r'a.*b$'\n",
    "text='a ab abb abbb ac bcd a abbbbbb abb baa bbb abbbbbbbbbbbbbbb axxxxb bajlkjlksb'\n",
    "result=re.findall(pattern,text)\n",
    "print(result)"
   ]
  },
  {
   "cell_type": "markdown",
   "id": "a2cc5e4e",
   "metadata": {},
   "source": [
    "Question 8- Write a RegEx pattern in python program that matches a word at the beginning of a string."
   ]
  },
  {
   "cell_type": "code",
   "execution_count": 41,
   "id": "cac82824",
   "metadata": {},
   "outputs": [
    {
     "name": "stdout",
     "output_type": "stream",
     "text": [
      "<re.Match object; span=(0, 5), match='Hello'>\n"
     ]
    }
   ],
   "source": [
    "pattern = r'^\\w+'\n",
    "test_string = \"Hello, world!\"\n",
    "match = re.search(pattern, test_string)\n",
    "print(match)"
   ]
  },
  {
   "cell_type": "markdown",
   "id": "31a3881b",
   "metadata": {},
   "source": [
    "Question 9- Write a RegEx pattern in python program that matches a word at the end of a string."
   ]
  },
  {
   "cell_type": "code",
   "execution_count": 53,
   "id": "302b6b60",
   "metadata": {},
   "outputs": [
    {
     "name": "stdout",
     "output_type": "stream",
     "text": [
      "<re.Match object; span=(53, 64), match='celebration'>\n"
     ]
    }
   ],
   "source": [
    "pattern = r'\\w+$'\n",
    "test_string = \"Hello, world, I am Navin Singh today is may Birthday celebration\"\n",
    "match=re.search(pattern,test_string)\n",
    "print(match)"
   ]
  },
  {
   "cell_type": "markdown",
   "id": "b3f86247",
   "metadata": {},
   "source": [
    "Question 10- Write a RegEx pattern in python program to find all words that are 4 digits long in a string.\n",
    "Sample text- '01 0132 231875 1458 301 2725.'\n",
    "Expected output- ['0132', '1458', '2725']\n"
   ]
  },
  {
   "cell_type": "code",
   "execution_count": 55,
   "id": "88ce8895",
   "metadata": {},
   "outputs": [
    {
     "name": "stdout",
     "output_type": "stream",
     "text": [
      "['0132', '1458', '2725']\n"
     ]
    }
   ],
   "source": [
    "text= '01 0132 231875 1458 301 2725.'\n",
    "pattern= pattern = r'\\b\\d{4}\\b'\n",
    "matches = re.findall(pattern, text)\n",
    "print(matches)"
   ]
  }
 ],
 "metadata": {
  "kernelspec": {
   "display_name": "Python 3 (ipykernel)",
   "language": "python",
   "name": "python3"
  },
  "language_info": {
   "codemirror_mode": {
    "name": "ipython",
    "version": 3
   },
   "file_extension": ".py",
   "mimetype": "text/x-python",
   "name": "python",
   "nbconvert_exporter": "python",
   "pygments_lexer": "ipython3",
   "version": "3.10.12"
  }
 },
 "nbformat": 4,
 "nbformat_minor": 5
}
